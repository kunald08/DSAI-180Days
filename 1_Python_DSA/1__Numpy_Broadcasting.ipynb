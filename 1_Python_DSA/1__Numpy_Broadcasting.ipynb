{
 "cells": [
  {
   "cell_type": "markdown",
   "id": "c5fa9b04-6a52-4766-b816-ee20dbf01516",
   "metadata": {},
   "source": [
    "<h3 style=\"color:springgreen;\">Numpy Broadcasting</h3>"
   ]
  },
  {
   "cell_type": "markdown",
   "id": "94f337a6-c5d0-4e60-b62e-87e1b00cb9f3",
   "metadata": {},
   "source": [
    "**The term broadcasting refers to the ablity of NumPy to treat arrays of different shapes during arithematic operations.**\n",
    "\n",
    "- Arithematic operations on arrays are usually done on corresponding elements.\n",
    "- If two arrays are of exactly the same shape, then these operations are smoothly performed.\n",
    "\n",
    "**Broadcasting is possible if the following rules are satisfied:)**\n",
    "\n",
    "- Array with smaller 'ndim' than the other is pretended with '1' on its shape.\n",
    "- Size in each dimensions of the output shape is maximum of the input sizes in that dimension.\n",
    "- An input can be used in calculation, if its size in a particular dimension matches the output size or its value is exactly 1.\n",
    "- If an input has a dimension size of 1, the first data entry in that dimension is used for all calculations along that dimension.\n",
    "\n",
    "~ A set of arrays is said to be broadcastable it the above rules produce a valid result and one of the following is True:\n",
    "\n",
    "- Arrays have exactly the same shape.\n",
    "- Arrays have the same number of dimensions and the length of each dimension is either a common length or 1.\n",
    "- Array having few dimensions can have its shape prepended with a dimension of length 1, so that the above stated property is True.\n",
    "- Start matching the dimensions backword (Right to Left)\n",
    "    - Compatible - If same number appears or if one of them is 1\n",
    "    - Otherwise - Incompatable;\n"
   ]
  },
  {
   "cell_type": "code",
   "execution_count": 4,
   "id": "063673c6-73df-498d-9e64-f77e35bd2def",
   "metadata": {},
   "outputs": [],
   "source": [
    "import numpy as np"
   ]
  },
  {
   "cell_type": "code",
   "execution_count": 5,
   "id": "b4611b94-480e-4b3d-9dbe-17ff1189e93e",
   "metadata": {},
   "outputs": [
    {
     "name": "stdout",
     "output_type": "stream",
     "text": [
      "[[2 4 6]\n",
      " [5 7 9]]\n"
     ]
    }
   ],
   "source": [
    "arr_1 = np.array([[1, 2, 3], [4, 5, 6]])\n",
    "arr_2 = np.array([1, 2, 3])\n",
    "\n",
    "print(arr_1 + arr_2)"
   ]
  },
  {
   "cell_type": "code",
   "execution_count": 6,
   "id": "6d8e939e-ec09-4df7-ba4e-61c167b98d9a",
   "metadata": {},
   "outputs": [],
   "source": [
    "#[[1 2 3]     [[1 2 3]      [[2 4 6]\n",
    "# [1 2 3]]   + [1 2 3]]  =>  [5 7 9]]"
   ]
  },
  {
   "cell_type": "code",
   "execution_count": 7,
   "id": "0cebdd44-c92d-495c-b09c-29996abc1052",
   "metadata": {},
   "outputs": [
    {
     "name": "stdout",
     "output_type": "stream",
     "text": [
      "[[2 3 4]\n",
      " [6 7 8]]\n"
     ]
    }
   ],
   "source": [
    "arr_1 = np.array([[1, 2, 3], [4, 5, 6]])\n",
    "arr_2 = np.array([[1], [2]])\n",
    "\n",
    "print(arr_1 + arr_2)"
   ]
  },
  {
   "cell_type": "code",
   "execution_count": 10,
   "id": "5d283188-0c72-4c17-bd6f-9ae14a1c9904",
   "metadata": {},
   "outputs": [
    {
     "ename": "ValueError",
     "evalue": "operands could not be broadcast together with shapes (5,) (4,) ",
     "output_type": "error",
     "traceback": [
      "\u001b[1;31m---------------------------------------------------------------------------\u001b[0m",
      "\u001b[1;31mValueError\u001b[0m                                Traceback (most recent call last)",
      "Cell \u001b[1;32mIn[10], line 4\u001b[0m\n\u001b[0;32m      1\u001b[0m arr_1 \u001b[38;5;241m=\u001b[39m np\u001b[38;5;241m.\u001b[39marray([\u001b[38;5;241m1\u001b[39m, \u001b[38;5;241m2\u001b[39m, \u001b[38;5;241m3\u001b[39m, \u001b[38;5;241m4\u001b[39m, \u001b[38;5;241m5\u001b[39m])\n\u001b[0;32m      2\u001b[0m arr_2 \u001b[38;5;241m=\u001b[39m np\u001b[38;5;241m.\u001b[39marray([\u001b[38;5;241m1\u001b[39m, \u001b[38;5;241m2\u001b[39m, \u001b[38;5;241m3\u001b[39m, \u001b[38;5;241m4\u001b[39m])\n\u001b[1;32m----> 4\u001b[0m \u001b[38;5;28mprint\u001b[39m(\u001b[43marr_1\u001b[49m\u001b[43m \u001b[49m\u001b[38;5;241;43m+\u001b[39;49m\u001b[43m \u001b[49m\u001b[43marr_2\u001b[49m)\n\u001b[0;32m      5\u001b[0m \u001b[38;5;66;03m# Error - Operands couldn't broadcast together with shapes (5, ) (4, )\u001b[39;00m\n",
      "\u001b[1;31mValueError\u001b[0m: operands could not be broadcast together with shapes (5,) (4,) "
     ]
    }
   ],
   "source": [
    "arr_1 = np.array([1, 2, 3, 4, 5])\n",
    "arr_2 = np.array([1, 2, 3, 4])\n",
    "\n",
    "# Error - Operands couldn't broadcast together with shapes (5, ) (4, )\n",
    "print(arr_1 + arr_2)"
   ]
  },
  {
   "cell_type": "code",
   "execution_count": 11,
   "id": "b6e499e3-5f80-4deb-b6c2-d1162bcb14cf",
   "metadata": {},
   "outputs": [
    {
     "name": "stdout",
     "output_type": "stream",
     "text": [
      "[[2 3 4 5]\n",
      " [3 4 5 6]\n",
      " [4 5 6 7]\n",
      " [5 6 7 8]\n",
      " [6 7 8 9]]\n"
     ]
    }
   ],
   "source": [
    "arr_1 = np.array([[1], [2], [3], [4], [5]])\n",
    "arr_2 = np.array([1, 2, 3, 4])\n",
    "\n",
    "print(arr_1 + arr_2)"
   ]
  },
  {
   "cell_type": "code",
   "execution_count": null,
   "id": "7ba6040c-f3d7-4cb9-b30c-351806d1be35",
   "metadata": {},
   "outputs": [],
   "source": []
  }
 ],
 "metadata": {
  "kernelspec": {
   "display_name": "Python 3 (ipykernel)",
   "language": "python",
   "name": "python3"
  },
  "language_info": {
   "codemirror_mode": {
    "name": "ipython",
    "version": 3
   },
   "file_extension": ".py",
   "mimetype": "text/x-python",
   "name": "python",
   "nbconvert_exporter": "python",
   "pygments_lexer": "ipython3",
   "version": "3.12.3"
  }
 },
 "nbformat": 4,
 "nbformat_minor": 5
}
