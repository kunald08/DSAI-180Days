{
 "cells": [
  {
   "cell_type": "markdown",
   "id": "ecc184d4-9aaf-4a46-ba2c-9edd94d1393d",
   "metadata": {},
   "source": [
    "# Python-Programming"
   ]
  },
  {
   "cell_type": "code",
   "execution_count": 2,
   "id": "7c1451cc-c722-4235-b052-9f9c283c0971",
   "metadata": {},
   "outputs": [
    {
     "name": "stdout",
     "output_type": "stream",
     "text": [
      "Python 3.12.4\n"
     ]
    }
   ],
   "source": [
    "!python --version"
   ]
  },
  {
   "cell_type": "code",
   "execution_count": 3,
   "id": "91d9d220-a007-4678-8cad-96478f3e55f9",
   "metadata": {},
   "outputs": [],
   "source": [
    "# Python -> general purpose & powerfull programming lang\n",
    "# Python is considered as one the most versatile lang\n",
    "# as it can develop -\n",
    "#     -> Desktop application\n",
    "#     -> Web\n",
    "#     -> Iot\n",
    "#     -> and Most imp AL, ML, DS\n",
    "\n",
    "# created by: Guido var rossum\n",
    "\n",
    "# inspired by ABC PL\n",
    "\n",
    "# name after: \"Monty Python's flying circus\"\n",
    "\n",
    "# managed by: Python Software Foundation\n",
    "\n",
    "# https://www.python.org"
   ]
  },
  {
   "cell_type": "code",
   "execution_count": 4,
   "id": "1853ee65-2499-4f6f-8759-77ba84c352fb",
   "metadata": {},
   "outputs": [],
   "source": [
    "# # Features:\n",
    "#     -> Simple\n",
    "#     -> Dynamically typed\n",
    "#     -> Robust\n",
    "#     -> Support multiple Programming paradigms\n",
    "#     -> Cross Platform\n",
    "#     -> Extensible\n",
    "#     -> Huge Library \n",
    "#     impt===> compile as well as the interpreted"
   ]
  },
  {
   "cell_type": "code",
   "execution_count": 5,
   "id": "2fd81f30-e3f9-407a-a86d-65b46d16d0ac",
   "metadata": {},
   "outputs": [],
   "source": [
    "# ===> source code\n",
    "# ===> compiler\n",
    "# ===> Byte code\n",
    "# ===> VM [interpreter]-> machine code"
   ]
  },
  {
   "cell_type": "markdown",
   "id": "49530451-f8ed-4c83-9fc9-ee4f17d55d4e",
   "metadata": {},
   "source": [
    "## 📘 Table of Contents\n",
    "\n",
    "- [Data Types](#data-types)\n",
    "- [Operators](#operatores)\n",
    "- [Control Statement](#control-statement)\n",
    "- [Loops](#loops)\n",
    "- [Function](#function)\n",
    "- [Lambda](#lambda)\n",
    "- [List](#list)\n",
    "- [List Comprehensions](#list-comprehensions)\n",
    "- [Tuple](#tuple)\n",
    "- [String](#string)\n",
    "- [Dictionaries](#dictionary)\n",
    "- [Comprehensions](#comprehensions)\n",
    "- [Collections](#collections)\n",
    "- [Expention Handling, RegEx, Iterators, Generators](#expention-handling)\n",
    "- [OOPs Concepts](#OOPs)\n"
   ]
  },
  {
   "cell_type": "code",
   "execution_count": 7,
   "id": "0b87f203-9382-4a55-af10-3f92ba005a02",
   "metadata": {},
   "outputs": [],
   "source": [
    "# for verifying compile as well as the interpreted\n",
    "\n",
    "# >>> python -m py_compile main.py  ===> folder ===> __pycache__\n",
    "# >>> python main.cpython-312.pyc"
   ]
  },
  {
   "cell_type": "code",
   "execution_count": 8,
   "id": "25caf62e-0c9e-446f-a8eb-d85cf3df4f60",
   "metadata": {},
   "outputs": [
    {
     "name": "stdout",
     "output_type": "stream",
     "text": [
      "Hare Krishna!\n",
      "Sanatan!\n"
     ]
    }
   ],
   "source": [
    "print(\"Hare Krishna!\")\n",
    "print(\"Sanatan!\")"
   ]
  },
  {
   "cell_type": "code",
   "execution_count": 9,
   "id": "fcb598e3-c367-4a9c-a626-50c5d461f9bd",
   "metadata": {},
   "outputs": [
    {
     "name": "stdout",
     "output_type": "stream",
     "text": [
      "hare krishna!\n",
      "Sanatan\n"
     ]
    }
   ],
   "source": [
    "# how new line\n",
    "\n",
    "print(\"hare krishna!\", end=\"\\n\")  # ===> bcoz of default keyword arg --> end=\"\\n\" , sep=\" \"\n",
    "print(\"Sanatan\")"
   ]
  },
  {
   "cell_type": "code",
   "execution_count": 10,
   "id": "d47bc58e-f20c-4daf-a3ac-760b7ae48c3b",
   "metadata": {},
   "outputs": [
    {
     "name": "stdout",
     "output_type": "stream",
     "text": [
      "DA-CSE-ECE-CE\n"
     ]
    }
   ],
   "source": [
    "print(\"DA\", \"CSE\", \"ECE\", \"CE\", sep=\"-\")  # sep=\"-\""
   ]
  },
  {
   "cell_type": "code",
   "execution_count": 11,
   "id": "fc5fd842-e069-4fbd-be06-41d8aa8511cf",
   "metadata": {},
   "outputs": [],
   "source": [
    "# there are 2 types of error in py\n",
    "\n",
    "# -> Syntax error -> compile time error\n",
    "# -> runtime error -> exception"
   ]
  },
  {
   "cell_type": "code",
   "execution_count": 12,
   "id": "0a88c992-41c7-42cd-98e4-decd8351f877",
   "metadata": {},
   "outputs": [],
   "source": [
    "# identifier: name given to entities\n",
    " # -> A-Z, a-z\n",
    " # -> 0-9 but can't start with\n",
    " # -> _ "
   ]
  },
  {
   "cell_type": "code",
   "execution_count": 13,
   "id": "68ecc43b-1282-4b64-9b88-a5d56ba5cf19",
   "metadata": {},
   "outputs": [
    {
     "name": "stdout",
     "output_type": "stream",
     "text": [
      "['False', 'None', 'True', 'and', 'as', 'assert', 'async', 'await', 'break', 'class', 'continue', 'def', 'del', 'elif', 'else', 'except', 'finally', 'for', 'from', 'global', 'if', 'import', 'in', 'is', 'lambda', 'nonlocal', 'not', 'or', 'pass', 'raise', 'return', 'try', 'while', 'with', 'yield']\n"
     ]
    }
   ],
   "source": [
    "# keyword: pre-defined words/ reserved word\n",
    "\n",
    "import keyword\n",
    "print(keyword.kwlist)"
   ]
  },
  {
   "cell_type": "markdown",
   "id": "12e233f5-3b92-4e57-97bd-296fb611a4be",
   "metadata": {},
   "source": [
    "## data-types\n",
    "[🏠](#Python-Programming)"
   ]
  },
  {
   "cell_type": "code",
   "execution_count": 15,
   "id": "8e324d45-fe95-4f00-bea1-673dec5394ef",
   "metadata": {},
   "outputs": [],
   "source": [
    "# Numeric -> int, float, complex\n",
    "# Boolean -> bool\n",
    "# Sequence -> str, list, bytes, bytearray, tuples, range\n",
    "# set -> set, frozenset\n",
    "# Mapping -> dict\n",
    "# None type -> None"
   ]
  },
  {
   "cell_type": "code",
   "execution_count": 16,
   "id": "91eb04c2-98c0-455a-9d2f-4b64bcbd59a5",
   "metadata": {},
   "outputs": [
    {
     "data": {
      "text/plain": [
       "str"
      ]
     },
     "execution_count": 16,
     "metadata": {},
     "output_type": "execute_result"
    }
   ],
   "source": [
    "s = \"kunal\"\n",
    "type(s)"
   ]
  },
  {
   "cell_type": "code",
   "execution_count": 17,
   "id": "558e2c01-14d2-4b5b-ac2e-89ca95fcd7ac",
   "metadata": {},
   "outputs": [
    {
     "data": {
      "text/plain": [
       "complex"
      ]
     },
     "execution_count": 17,
     "metadata": {},
     "output_type": "execute_result"
    }
   ],
   "source": [
    "nos = 3 + 7j\n",
    "type(nos)"
   ]
  },
  {
   "cell_type": "code",
   "execution_count": 18,
   "id": "7a0b522d-b92c-4bd6-b026-d0e8c09c6a83",
   "metadata": {},
   "outputs": [
    {
     "name": "stdout",
     "output_type": "stream",
     "text": [
      "101\n",
      "5\n"
     ]
    }
   ],
   "source": [
    "# diff way of representing (int)\n",
    "\n",
    "a = 101\n",
    "print(a)\n",
    "\n",
    "a = 0b101  # zero B/b -> binary  ==> base(2)\n",
    "print(a)\n",
    "\n",
    "# zero O/o -> octal ==> base(8)\n",
    "# zero x -> hexadecimal ==> base(16)"
   ]
  },
  {
   "cell_type": "code",
   "execution_count": 19,
   "id": "167aec01-4da9-4c7c-a923-3efe34e1df99",
   "metadata": {},
   "outputs": [
    {
     "data": {
      "text/plain": [
       "'0b101'"
      ]
     },
     "execution_count": 19,
     "metadata": {},
     "output_type": "execute_result"
    }
   ],
   "source": [
    "bin(5)  # returns value in string form"
   ]
  },
  {
   "cell_type": "code",
   "execution_count": 20,
   "id": "a441e42d-6423-4fc3-a5bc-cca2940b5f81",
   "metadata": {},
   "outputs": [
    {
     "data": {
      "text/plain": [
       "'0o5'"
      ]
     },
     "execution_count": 20,
     "metadata": {},
     "output_type": "execute_result"
    }
   ],
   "source": [
    "oct(5)"
   ]
  },
  {
   "cell_type": "code",
   "execution_count": 21,
   "id": "0c7e9f29-b36b-4d1d-a2e6-81f15e42e026",
   "metadata": {},
   "outputs": [
    {
     "data": {
      "text/plain": [
       "'0x5'"
      ]
     },
     "execution_count": 21,
     "metadata": {},
     "output_type": "execute_result"
    }
   ],
   "source": [
    "hex(5)"
   ]
  },
  {
   "cell_type": "code",
   "execution_count": 22,
   "id": "a6645cc4-b85d-473c-9d0d-b74f64b33baa",
   "metadata": {},
   "outputs": [
    {
     "data": {
      "text/plain": [
       "\"It's beautifull day\""
      ]
     },
     "execution_count": 22,
     "metadata": {},
     "output_type": "execute_result"
    }
   ],
   "source": [
    "s = \"It's beautifull day\"\n",
    "s"
   ]
  },
  {
   "cell_type": "code",
   "execution_count": 23,
   "id": "72e764bb-eaf6-4683-ada8-c895abd2103f",
   "metadata": {},
   "outputs": [
    {
     "name": "stdout",
     "output_type": "stream",
     "text": [
      "kunal\n"
     ]
    }
   ],
   "source": [
    "name = \"kunal\"   # need like : \"kunal\"\n",
    "print(name)"
   ]
  },
  {
   "cell_type": "code",
   "execution_count": 24,
   "id": "0da36cd7-270e-4aa3-8f80-ab1fb4e7a468",
   "metadata": {},
   "outputs": [
    {
     "name": "stdout",
     "output_type": "stream",
     "text": [
      "\"kunal\"\n"
     ]
    }
   ],
   "source": [
    "name = '''\"kunal\"'''\n",
    "print(name)"
   ]
  },
  {
   "cell_type": "code",
   "execution_count": 25,
   "id": "e2860b23-c343-40d9-bcf9-db5c8c9eceec",
   "metadata": {},
   "outputs": [
    {
     "name": "stdout",
     "output_type": "stream",
     "text": [
      "\"kunal\"\n"
     ]
    }
   ],
   "source": [
    "name = '\"kunal\"'\n",
    "print(name)"
   ]
  },
  {
   "cell_type": "code",
   "execution_count": 26,
   "id": "c38b8cec-839b-4da7-a9d6-485c8ed89e2d",
   "metadata": {},
   "outputs": [
    {
     "name": "stdout",
     "output_type": "stream",
     "text": [
      "\"\n",
      "l\n"
     ]
    }
   ],
   "source": [
    "print(name[0])\n",
    "print(name[-2])"
   ]
  },
  {
   "cell_type": "code",
   "execution_count": 27,
   "id": "dff99453-e240-4304-a249-e76e6e9905f5",
   "metadata": {},
   "outputs": [
    {
     "data": {
      "text/plain": [
       "'GATE DA'"
      ]
     },
     "execution_count": 27,
     "metadata": {},
     "output_type": "execute_result"
    }
   ],
   "source": [
    "# string concatenation\n",
    "\n",
    "\"GATE\" +\" DA\""
   ]
  },
  {
   "cell_type": "code",
   "execution_count": 28,
   "id": "ce70bae6-2cd0-4e26-b8ec-307731956f06",
   "metadata": {},
   "outputs": [
    {
     "data": {
      "text/plain": [
       "'I am fr'"
      ]
     },
     "execution_count": 28,
     "metadata": {},
     "output_type": "execute_result"
    }
   ],
   "source": [
    "# slicing: extractig a portion from string\n",
    "#          pulling out a sequence of characters...\n",
    "\n",
    "word = \"I am from India!\"\n",
    "\n",
    "word[0:7]"
   ]
  },
  {
   "cell_type": "code",
   "execution_count": 29,
   "id": "fe719707-4cd9-4c7d-9598-57d19df9fd5c",
   "metadata": {},
   "outputs": [
    {
     "data": {
      "text/plain": [
       "'I am from India!'"
      ]
     },
     "execution_count": 29,
     "metadata": {},
     "output_type": "execute_result"
    }
   ],
   "source": [
    "word[:]"
   ]
  },
  {
   "cell_type": "code",
   "execution_count": 30,
   "id": "26df2e4d-9c39-4050-8254-80d74d2a63ff",
   "metadata": {},
   "outputs": [
    {
     "data": {
      "text/plain": [
       "'!aidnI morf ma I'"
      ]
     },
     "execution_count": 30,
     "metadata": {},
     "output_type": "execute_result"
    }
   ],
   "source": [
    "word[-1::-1]"
   ]
  },
  {
   "cell_type": "code",
   "execution_count": 31,
   "id": "66ce1d12-2167-4e13-85b6-b70296e314a1",
   "metadata": {},
   "outputs": [
    {
     "data": {
      "text/plain": [
       "'!aidnI morf ma I'"
      ]
     },
     "execution_count": 31,
     "metadata": {},
     "output_type": "execute_result"
    }
   ],
   "source": [
    "word[::-1]"
   ]
  },
  {
   "cell_type": "code",
   "execution_count": 32,
   "id": "035fb6fe-d939-4a27-9a25-b5de34b30d8c",
   "metadata": {},
   "outputs": [
    {
     "name": "stdout",
     "output_type": "stream",
     "text": [
      "6\n",
      "bharat\n",
      "BHARAT\n"
     ]
    }
   ],
   "source": [
    "# string operation\n",
    "\n",
    "country = \"Bharat\"\n",
    "print(len(country))\n",
    "print(country.lower())   # ==> methods\n",
    "print(country.upper())"
   ]
  },
  {
   "cell_type": "code",
   "execution_count": 33,
   "id": "5b8b46cb-811a-45e5-8289-36ef3ae6a415",
   "metadata": {},
   "outputs": [
    {
     "name": "stdout",
     "output_type": "stream",
     "text": [
      "123\n"
     ]
    },
    {
     "data": {
      "text/plain": [
       "int"
      ]
     },
     "execution_count": 33,
     "metadata": {},
     "output_type": "execute_result"
    }
   ],
   "source": [
    "# Type Conversion: Implicit===> done by compiler\n",
    "#                  Explicit===> done programmer -> type casting\n",
    "# int() float() str() complex() bool() \n",
    "\n",
    "no = int('123')\n",
    "print(no)\n",
    "type(no)"
   ]
  },
  {
   "cell_type": "code",
   "execution_count": 34,
   "id": "e2e301a9-3f2a-461b-adfd-b407812b8192",
   "metadata": {},
   "outputs": [],
   "source": [
    "# Immutable: Not changeable\n",
    "# Mutable: can be changed\n",
    "\n",
    "# Immutable:  int\n",
    "#             float\n",
    "#             str\n",
    "#             complex\n",
    "#             tuple\n",
    "#             range\n",
    "#             frozenset\n",
    "#             bytes\n",
    "###########################\n",
    "# Mutable:    list\n",
    "#             dict\n",
    "#             set\n",
    "#             bytearray"
   ]
  },
  {
   "cell_type": "code",
   "execution_count": 35,
   "id": "00cd943e-f74d-4ce4-9452-fa2d5d842751",
   "metadata": {},
   "outputs": [
    {
     "name": "stdout",
     "output_type": "stream",
     "text": [
      "140712544713976 || 140712544713976\n",
      "True\n"
     ]
    }
   ],
   "source": [
    "a = 27\n",
    "b = 27\n",
    "\n",
    "# Qn is how many object created above\n",
    "# ans: 1\n",
    "# proof==> is / id()\n",
    "\n",
    "print(id(a), id(b), sep=' || ')\n",
    "print(a is b)"
   ]
  },
  {
   "cell_type": "code",
   "execution_count": 36,
   "id": "5e2685f0-48b2-472f-9607-e4b4a0761c9e",
   "metadata": {},
   "outputs": [
    {
     "name": "stdout",
     "output_type": "stream",
     "text": [
      "True\n",
      "True\n"
     ]
    }
   ],
   "source": [
    "print(a == b) # compares the value\n",
    "print(a is b) # compare the address"
   ]
  },
  {
   "cell_type": "code",
   "execution_count": 37,
   "id": "14f83a5c-94fc-4041-9633-cdefed191581",
   "metadata": {},
   "outputs": [
    {
     "data": {
      "text/plain": [
       "False"
      ]
     },
     "execution_count": 37,
     "metadata": {},
     "output_type": "execute_result"
    }
   ],
   "source": [
    "a = 258\n",
    "b = 258\n",
    "\n",
    "a is b   # ahhh :((("
   ]
  },
  {
   "cell_type": "code",
   "execution_count": 38,
   "id": "fb6a9db5-9d04-45c1-88da-ddf29606ab46",
   "metadata": {},
   "outputs": [
    {
     "data": {
      "text/plain": [
       "False"
      ]
     },
     "execution_count": 38,
     "metadata": {},
     "output_type": "execute_result"
    }
   ],
   "source": [
    "a = -6\n",
    "b = -6\n",
    "\n",
    "a is b  # woahhh woahhh"
   ]
  },
  {
   "cell_type": "code",
   "execution_count": 39,
   "id": "ccfc6fc7-ca54-4fdf-914c-4dff85d47cc2",
   "metadata": {},
   "outputs": [],
   "source": [
    "# why it is so ???\n",
    "\n",
    "# so the python internally caches the integer value\n",
    "# in the range of -5 to 256   ===> in total 262\n",
    "# beyond this python creates new object\n"
   ]
  },
  {
   "cell_type": "code",
   "execution_count": 40,
   "id": "01ec983b-55a2-45bd-9229-ba86cc3d42f5",
   "metadata": {},
   "outputs": [],
   "source": [
    "# comment ===> single line ==> # ...\n",
    "#         ===> multi line ==> \"\"\"...\"\"\" (unofficial way)"
   ]
  },
  {
   "cell_type": "code",
   "execution_count": 41,
   "id": "67c0d9c1-6a43-4fd7-bf1d-291f1e935d51",
   "metadata": {},
   "outputs": [],
   "source": [
    "# python does not have constant ...\n",
    "\n",
    "# but do follow conventions ==> capital letters ==> PI = 3.14"
   ]
  },
  {
   "cell_type": "markdown",
   "id": "a2475ea6-31b2-4953-a95b-2e5f61c124b5",
   "metadata": {},
   "source": [
    "## operatores\n",
    "[🏠](#Python-Programming)"
   ]
  },
  {
   "cell_type": "code",
   "execution_count": 43,
   "id": "1e656f84-8a9a-4543-b034-80a9efc5a8d0",
   "metadata": {},
   "outputs": [],
   "source": [
    "# operators \n",
    "# ===> arithmatic  ==> + - * // ** /\n",
    "# ===> relatioinal ==> < <= > >= !=\n",
    "# ===> logical ==> and or not\n",
    "# ===> assignment ==> += -=,...\n",
    "# ===> identity ==> is, is not\n",
    "# ===> membership ==> in, not in"
   ]
  },
  {
   "cell_type": "code",
   "execution_count": 44,
   "id": "a5c3c76d-c349-494f-a7c3-1ec51717506c",
   "metadata": {},
   "outputs": [
    {
     "name": "stdin",
     "output_type": "stream",
     "text": [
      "Enter ur name:  kunal\n"
     ]
    },
    {
     "name": "stdout",
     "output_type": "stream",
     "text": [
      "welcome kunal\n"
     ]
    }
   ],
   "source": [
    "# input -> take any type of value converts into str\n",
    "\n",
    "name = input(\"Enter ur name: \")\n",
    "print(\"welcome\", name)"
   ]
  },
  {
   "cell_type": "code",
   "execution_count": 45,
   "id": "6c95ab43-1ae2-40b1-b08a-a1ea51210014",
   "metadata": {},
   "outputs": [
    {
     "name": "stdin",
     "output_type": "stream",
     "text": [
      " 1,2\n"
     ]
    },
    {
     "ename": "ValueError",
     "evalue": "invalid literal for int() with base 10: '1,2'",
     "output_type": "error",
     "traceback": [
      "\u001b[1;31m----------------------------------------------------------------------\u001b[0m",
      "\u001b[1;31mValueError\u001b[0m                           Traceback (most recent call last)",
      "Cell \u001b[1;32mIn[45], line 3\u001b[0m\n\u001b[0;32m      1\u001b[0m \u001b[38;5;66;03m### area of circle. circumference\u001b[39;00m\n\u001b[1;32m----> 3\u001b[0m r \u001b[38;5;241m=\u001b[39m \u001b[38;5;28mint\u001b[39m(\u001b[38;5;28minput\u001b[39m())\n\u001b[0;32m      4\u001b[0m a \u001b[38;5;241m=\u001b[39m \u001b[38;5;241m3.14\u001b[39m\u001b[38;5;241m*\u001b[39m(r\u001b[38;5;241m*\u001b[39m\u001b[38;5;241m*\u001b[39m\u001b[38;5;241m2\u001b[39m)\n\u001b[0;32m      5\u001b[0m c \u001b[38;5;241m=\u001b[39m \u001b[38;5;241m2\u001b[39m\u001b[38;5;241m*\u001b[39m\u001b[38;5;241m3.14\u001b[39m\u001b[38;5;241m*\u001b[39mr\n",
      "\u001b[1;31mValueError\u001b[0m: invalid literal for int() with base 10: '1,2'"
     ]
    }
   ],
   "source": [
    "### area of circle. circumference\n",
    "\n",
    "r = int(input())\n",
    "a = 3.14*(r**2)\n",
    "c = 2*3.14*r\n",
    "\n",
    "print(a, c)"
   ]
  },
  {
   "cell_type": "code",
   "execution_count": 46,
   "id": "c5ffc60d-6171-48d0-ba9b-00d5c879a110",
   "metadata": {},
   "outputs": [
    {
     "name": "stdout",
     "output_type": "stream",
     "text": [
      "kunal\n"
     ]
    },
    {
     "data": {
      "text/plain": [
       "str"
      ]
     },
     "execution_count": 46,
     "metadata": {},
     "output_type": "execute_result"
    }
   ],
   "source": [
    "# formate specifier\n",
    "name = \"kunal\"\n",
    "print(\"%s\"%name)\n",
    "type(name)"
   ]
  },
  {
   "cell_type": "code",
   "execution_count": 48,
   "id": "505fdd29-0fc4-4ab6-bf3a-545070806825",
   "metadata": {},
   "outputs": [
    {
     "name": "stdout",
     "output_type": "stream",
     "text": [
      "A\n"
     ]
    },
    {
     "data": {
      "text/plain": [
       "str"
      ]
     },
     "execution_count": 48,
     "metadata": {},
     "output_type": "execute_result"
    }
   ],
   "source": [
    "cc = 'A'\n",
    "print(\"%c\"%cc)\n",
    "type(cc)"
   ]
  },
  {
   "cell_type": "code",
   "execution_count": 50,
   "id": "a947e6c2-57d4-421f-9586-005a4f7fb35d",
   "metadata": {},
   "outputs": [
    {
     "name": "stdout",
     "output_type": "stream",
     "text": [
      "Hare krishna kunal\n"
     ]
    }
   ],
   "source": [
    "# format() method\n",
    "\n",
    "print(\"Hare krishna {}\".format(\"kunal\"))"
   ]
  },
  {
   "cell_type": "code",
   "execution_count": 52,
   "id": "744178dc-7f57-425c-a3fe-937fefdbee9c",
   "metadata": {},
   "outputs": [
    {
     "name": "stdout",
     "output_type": "stream",
     "text": [
      "hi, kunal and u r 21yrs old\n"
     ]
    }
   ],
   "source": [
    "name = \"kunal\"\n",
    "age = 21\n",
    "print(\"hi, {} and u r {}yrs old\".format(name, age))"
   ]
  },
  {
   "cell_type": "markdown",
   "id": "26b0bcd0-a42e-40c8-a390-03f1fbfded99",
   "metadata": {},
   "source": [
    "## control-statement\n",
    "[🏠](#Python-Programming)"
   ]
  },
  {
   "cell_type": "code",
   "execution_count": 55,
   "id": "d40e1356-2612-4c5c-ac10-f42455f5a2dd",
   "metadata": {},
   "outputs": [
    {
     "name": "stdin",
     "output_type": "stream",
     "text": [
      " 8\n"
     ]
    },
    {
     "name": "stdout",
     "output_type": "stream",
     "text": [
      "Even\n"
     ]
    }
   ],
   "source": [
    "# Decision control ==> if-else\n",
    "n = int(input())\n",
    "if n%2 == 0:\n",
    "    print(\"Even\")\n",
    "else:\n",
    "    print(\"Odd\")"
   ]
  },
  {
   "cell_type": "code",
   "execution_count": null,
   "id": "20bc83eb-3f60-4cfa-b535-a8fc197112a9",
   "metadata": {},
   "outputs": [],
   "source": [
    "# lower or Capital\n",
    "alpha = input()\n",
    "if 'A' <= alpha <= 'Z':\n",
    "    print(\"Capital\")\n",
    "else:\n",
    "    print(\"lower\")"
   ]
  },
  {
   "cell_type": "code",
   "execution_count": null,
   "id": "8646924b-7ffe-44ac-a026-91c8328e79ae",
   "metadata": {},
   "outputs": [],
   "source": [
    "# detect char\n",
    "char = input()\n",
    "if 'A' <= char <='Z':\n",
    "    print(\"Capital\")\n",
    "elif 'a' <= char <= 'z':\n",
    "    print(\"lower\")\n",
    "elif '1' <= char <= '9':\n",
    "    print(\"digit\")\n",
    "else:\n",
    "    print(\"Something else\")"
   ]
  },
  {
   "cell_type": "code",
   "execution_count": null,
   "id": "461b04c4-0df5-4f89-94f8-b5e1deabc033",
   "metadata": {},
   "outputs": [],
   "source": [
    "age = 12\n",
    "'kid' if age < 13 else \"teenager\""
   ]
  },
  {
   "cell_type": "markdown",
   "id": "cd846acd-4fa6-4491-8db3-7f809171f97e",
   "metadata": {},
   "source": [
    "## loops\n",
    "[🏠](#Python-Programming)"
   ]
  },
  {
   "cell_type": "code",
   "execution_count": 57,
   "id": "9eb3ff86-09d7-44f1-b63f-c090b69856bf",
   "metadata": {},
   "outputs": [],
   "source": [
    "# - while loop\n",
    "# - for loop\n",
    "# - do while loop isn't present in python"
   ]
  },
  {
   "cell_type": "code",
   "execution_count": 59,
   "id": "a8f15c9b-8a12-4d7f-bead-53f3b78cf672",
   "metadata": {},
   "outputs": [
    {
     "name": "stdout",
     "output_type": "stream",
     "text": [
      "0=>1=>2=>3=>4=>5=>6=>7=>8=>9=>10=>"
     ]
    }
   ],
   "source": [
    "i = 0\n",
    "while i < 11:\n",
    "    print(i, end='=>')\n",
    "    i += 1"
   ]
  },
  {
   "cell_type": "code",
   "execution_count": 61,
   "id": "c8559e93-2ef2-4618-b546-f1ff77395fba",
   "metadata": {},
   "outputs": [
    {
     "name": "stdin",
     "output_type": "stream",
     "text": [
      " 9\n"
     ]
    },
    {
     "name": "stdout",
     "output_type": "stream",
     "text": [
      "===>not contain\n"
     ]
    }
   ],
   "source": [
    "# check str contains vowel or not\n",
    "\n",
    "text = input()\n",
    "i = 0\n",
    "while i < len(text):\n",
    "    if text[i] in \"aeiouAEIOU\":\n",
    "        print(\"===>contains\")\n",
    "        break  # break out of the loop\n",
    "    i += 1\n",
    "else:\n",
    "    print(\"===>not contain\")"
   ]
  },
  {
   "cell_type": "code",
   "execution_count": 63,
   "id": "45fc4815-6d18-4e93-aba2-475a6b1c6ccd",
   "metadata": {},
   "outputs": [
    {
     "name": "stdout",
     "output_type": "stream",
     "text": [
      "<class 'range'>\n"
     ]
    },
    {
     "data": {
      "text/plain": [
       "[0, 1, 2, 3, 4, 5, 6, 7, 8, 9]"
      ]
     },
     "execution_count": 63,
     "metadata": {},
     "output_type": "execute_result"
    }
   ],
   "source": [
    "# range() function: returns a range object\n",
    "a = range(10)\n",
    "print(type(a))\n",
    "list(a)"
   ]
  },
  {
   "cell_type": "code",
   "execution_count": 65,
   "id": "a3389445-882b-4b12-8b4f-cf93f3c2b132",
   "metadata": {},
   "outputs": [
    {
     "data": {
      "text/plain": [
       "[0, 2, 4, 6, 8]"
      ]
     },
     "execution_count": 65,
     "metadata": {},
     "output_type": "execute_result"
    }
   ],
   "source": [
    "list(range(0, 10, 2))"
   ]
  },
  {
   "cell_type": "code",
   "execution_count": 67,
   "id": "beb596d0-2133-4944-a23d-3d5a031b2b0d",
   "metadata": {},
   "outputs": [
    {
     "name": "stdout",
     "output_type": "stream",
     "text": [
      "0->1->2->3->4->5->6->7->8->9->10->"
     ]
    }
   ],
   "source": [
    "for i in range(11):\n",
    "    print(i, end='->')"
   ]
  },
  {
   "cell_type": "code",
   "execution_count": 69,
   "id": "bb0c5e23-9f9b-4bf1-9661-35e7b640b707",
   "metadata": {},
   "outputs": [
    {
     "name": "stdout",
     "output_type": "stream",
     "text": [
      "10->9->8->7->6->5->4->3->2->1->"
     ]
    }
   ],
   "source": [
    "for i in range(10, 0, -1):\n",
    "    print(i, end='->')"
   ]
  },
  {
   "cell_type": "markdown",
   "id": "82fbbe3e-efdd-41ed-a6ca-aca00d62d4ca",
   "metadata": {},
   "source": [
    "## functions\n",
    "[🏠](#Python-Programming)"
   ]
  },
  {
   "cell_type": "code",
   "execution_count": 72,
   "id": "ff5c06d4-6304-426b-b47c-8514b3e3bd97",
   "metadata": {},
   "outputs": [
    {
     "data": {
      "text/plain": [
       "50"
      ]
     },
     "execution_count": 72,
     "metadata": {},
     "output_type": "execute_result"
    }
   ],
   "source": [
    "# Function: reusable block of code/\\\\\n",
    "\n",
    "def add(a,b):\n",
    "    return a+b\n",
    "\n",
    "add(10, 40)"
   ]
  },
  {
   "cell_type": "code",
   "execution_count": 74,
   "id": "4d0e38d9-12f2-4837-887d-29ac6fab3fa5",
   "metadata": {},
   "outputs": [
    {
     "name": "stdout",
     "output_type": "stream",
     "text": [
      "hi kunal How r u!\n"
     ]
    }
   ],
   "source": [
    "# default arg\n",
    "def greet(name, msg=\"How r u!\"):\n",
    "    print(\"hi\", name, msg)\n",
    "\n",
    "greet(\"kunal\")"
   ]
  },
  {
   "cell_type": "code",
   "execution_count": 76,
   "id": "35ed3182-add7-4fe7-a315-165fa7a83e8e",
   "metadata": {},
   "outputs": [
    {
     "ename": "TypeError",
     "evalue": "addno() missing 1 required positional argument: 'c'",
     "output_type": "error",
     "traceback": [
      "\u001b[1;31m----------------------------------------------------------------------\u001b[0m",
      "\u001b[1;31mTypeError\u001b[0m                            Traceback (most recent call last)",
      "Cell \u001b[1;32mIn[76], line 6\u001b[0m\n\u001b[0;32m      3\u001b[0m \u001b[38;5;28;01mdef\u001b[39;00m \u001b[38;5;21maddno\u001b[39m(a, b, c):\n\u001b[0;32m      4\u001b[0m     \u001b[38;5;28;01mreturn\u001b[39;00m a\u001b[38;5;241m+\u001b[39mb\u001b[38;5;241m+\u001b[39mc\n\u001b[1;32m----> 6\u001b[0m addno(\u001b[38;5;241m10\u001b[39m,\u001b[38;5;241m20\u001b[39m)\n\u001b[0;32m      7\u001b[0m addno(\u001b[38;5;241m10\u001b[39m,\u001b[38;5;241m20\u001b[39m,\u001b[38;5;241m30\u001b[39m)\n",
      "\u001b[1;31mTypeError\u001b[0m: addno() missing 1 required positional argument: 'c'"
     ]
    }
   ],
   "source": [
    "def addno(a, b):\n",
    "    return a+b\n",
    "def addno(a, b, c):\n",
    "    return a+b+c\n",
    "\n",
    "addno(10,20)\n",
    "addno(10,20,30)"
   ]
  },
  {
   "cell_type": "code",
   "execution_count": 78,
   "id": "b4fb2c95-bb10-41c9-9dcb-ef4e94bf7273",
   "metadata": {},
   "outputs": [
    {
     "name": "stdout",
     "output_type": "stream",
     "text": [
      "30\n",
      "60\n"
     ]
    }
   ],
   "source": [
    "# variable length arg\n",
    "def addnos(*args):\n",
    "    total = 0\n",
    "    for n in args:\n",
    "        total += n\n",
    "    return total\n",
    "\n",
    "\n",
    "print(addnos(10,20))\n",
    "print(addnos(10,20,30))"
   ]
  },
  {
   "cell_type": "markdown",
   "id": "170243a0-8e29-436f-bc58-8059b6941ae9",
   "metadata": {},
   "source": [
    "## lambda\n",
    "[🏠](#Python-Programming)"
   ]
  },
  {
   "cell_type": "code",
   "execution_count": 81,
   "id": "bd2b4c6c-7aae-4abe-953e-d48b36812866",
   "metadata": {},
   "outputs": [
    {
     "name": "stdout",
     "output_type": "stream",
     "text": [
      "7\n"
     ]
    },
    {
     "data": {
      "text/plain": [
       "5"
      ]
     },
     "execution_count": 81,
     "metadata": {},
     "output_type": "execute_result"
    }
   ],
   "source": [
    "# Anonymouse functions: func that defined without name, lambda [arg1, arg2,...]: [exp]\n",
    "# ====> lambda func can have many no of arguments ===> but only have the single expe\n",
    "\n",
    "\n",
    "def add(a,b):\n",
    "    return a+b\n",
    "\n",
    "print(add(3, 4))\n",
    "\n",
    "\n",
    "add2 = lambda a, b: a+b\n",
    "add2(2, 3)"
   ]
  },
  {
   "cell_type": "code",
   "execution_count": 83,
   "id": "aacecb63-6a6c-492d-a81c-dda09dad749a",
   "metadata": {},
   "outputs": [
    {
     "name": "stdout",
     "output_type": "stream",
     "text": [
      "J\n",
      "True\n"
     ]
    },
    {
     "data": {
      "text/plain": [
       "5"
      ]
     },
     "execution_count": 83,
     "metadata": {},
     "output_type": "execute_result"
    }
   ],
   "source": [
    "# first char of any str\n",
    "\n",
    "c = lambda country: country[0]\n",
    "print(c(\"Jambudeep\"))\n",
    "\n",
    "\n",
    "# even odd\n",
    "evenOdd = lambda n: n%2 == 0\n",
    "print(evenOdd(4))\n",
    "\n",
    "# greater ele\n",
    "greater = lambda a, b: a if a > b else b\n",
    "\n",
    "greater(3, 5)"
   ]
  },
  {
   "cell_type": "code",
   "execution_count": 85,
   "id": "1ef5e636-d127-4571-9755-7447d0c92289",
   "metadata": {},
   "outputs": [
    {
     "name": "stdout",
     "output_type": "stream",
     "text": [
      "<map object at 0x0000013DDCE210F0>\n",
      "[1, 4, 9, 16, 25, 36, 49, 64, 81, 100, 121, 144, 169, 196, 225, 256, 289, 324, 361, 400, 441, 484, 529, 576, 625, 676, 729, 784, 841, 900, 961, 1024, 1089, 1156, 1225, 1296, 1369, 1444, 1521, 1600, 1681, 1764, 1849, 1936, 2025, 2116, 2209, 2304, 2401, 2500, 2601, 2704, 2809, 2916, 3025, 3136, 3249, 3364, 3481, 3600, 3721, 3844, 3969, 4096, 4225, 4356, 4489, 4624, 4761, 4900, 5041, 5184, 5329, 5476, 5625, 5776, 5929, 6084, 6241, 6400, 6561, 6724, 6889, 7056, 7225, 7396, 7569, 7744, 7921, 8100, 8281, 8464, 8649, 8836, 9025, 9216, 9409, 9604, 9801, 10000]\n"
     ]
    }
   ],
   "source": [
    "# map(): applies the function to all the ele of the sequence iterable.\n",
    "# --> returns an object\n",
    "\n",
    "def square(n):\n",
    "    return n**2\n",
    "\n",
    "x = map(square, range(1, 101))\n",
    "print(x)\n",
    "print(list(x))"
   ]
  },
  {
   "cell_type": "code",
   "execution_count": 87,
   "id": "b7fc9015-c5ea-4c24-92e1-15003578a48f",
   "metadata": {},
   "outputs": [
    {
     "name": "stdout",
     "output_type": "stream",
     "text": [
      "[1, 4, 9, 16, 25, 36, 49, 64, 81, 100]\n"
     ]
    }
   ],
   "source": [
    "# or\n",
    "\n",
    "print(list(map(square, range(1, 11))))"
   ]
  },
  {
   "cell_type": "code",
   "execution_count": 89,
   "id": "d1cd2c04-c68f-4b99-a160-fe0cbba7da0d",
   "metadata": {},
   "outputs": [
    {
     "name": "stdout",
     "output_type": "stream",
     "text": [
      "<class 'filter'>\n",
      "[2, 4, 6, 78]\n"
     ]
    }
   ],
   "source": [
    "# filter()\n",
    "\n",
    "def check_even(n):\n",
    "    return n%2 == 0\n",
    "\n",
    "mylist = [2, 3, 4, 5, 6, 43, 78]\n",
    "result = filter(check_even, mylist)\n",
    "print(type(result))\n",
    "print(list(result))"
   ]
  },
  {
   "cell_type": "code",
   "execution_count": 91,
   "id": "845613c5-f50c-4662-815c-69b212e1f019",
   "metadata": {},
   "outputs": [
    {
     "data": {
      "text/plain": [
       "'Guess\\ndef f(n):\\n    return n*n\\n\\nmyNum = [1, 2, 3, 4, 5]\\nprint(list(filter(f, myNum)))\\n\\n\\na) [1, 4, 9, 16, 25]\\nb) [1, 2, 3, 4, 5]\\n'"
      ]
     },
     "execution_count": 91,
     "metadata": {},
     "output_type": "execute_result"
    }
   ],
   "source": [
    "'''Guess\n",
    "def f(n):\n",
    "    return n*n\n",
    "\n",
    "myNum = [1, 2, 3, 4, 5]\n",
    "print(list(filter(f, myNum)))\n",
    "\n",
    "\n",
    "a) [1, 4, 9, 16, 25]\n",
    "b) [1, 2, 3, 4, 5]\n",
    "'''"
   ]
  },
  {
   "cell_type": "code",
   "execution_count": 93,
   "id": "b6580fd8-c449-48c8-bd80-5759b033568b",
   "metadata": {},
   "outputs": [
    {
     "name": "stdout",
     "output_type": "stream",
     "text": [
      "['K', 'L', 'N', 'K']\n"
     ]
    }
   ],
   "source": [
    "\n",
    "# High-order-func with lambda:)\n",
    "# first char of string\n",
    "\n",
    "print(list(map(lambda s: s[0], [\"Kunal\", \"Lokendra\", \"Nikita\", \"Krishna\"])))"
   ]
  },
  {
   "cell_type": "code",
   "execution_count": 95,
   "id": "9e919c83-bb1b-4baf-a5a1-1055b5daef42",
   "metadata": {},
   "outputs": [
    {
     "name": "stdout",
     "output_type": "stream",
     "text": [
      "['k', 'even', 'k', 'even', 'D']\n"
     ]
    }
   ],
   "source": [
    "# even length --> even\n",
    "# odd length --> first char of str\n",
    "\n",
    "print(list(map(lambda s: \"even\" if len(s)%2 == 0 else s[0], [\"kunal\", \"lokendra\", \"krishna\", \"nikita\", \"Dev\"])))"
   ]
  },
  {
   "cell_type": "code",
   "execution_count": 99,
   "id": "d909ffc6-2023-4340-be01-4d539f8a304d",
   "metadata": {},
   "outputs": [
    {
     "name": "stdin",
     "output_type": "stream",
     "text": [
      " kunal\n"
     ]
    },
    {
     "name": "stdout",
     "output_type": "stream",
     "text": [
      "Vowel\n"
     ]
    }
   ],
   "source": [
    "\n",
    "# accepts character if it is vowel -> Vowel\n",
    "                       # otherwise -> No Vowel\n",
    "\n",
    "name = input()\n",
    "vowel = list(filter(lambda ch: ch.lower() in \"aeiou\", name))\n",
    "if len(vowel) == 0:\n",
    "    print(\"No Vowel\")\n",
    "else:\n",
    "    print(\"Vowel\")"
   ]
  },
  {
   "cell_type": "code",
   "execution_count": null,
   "id": "510b2f6d-6f9a-4200-8408-40a8234dedbf",
   "metadata": {},
   "outputs": [],
   "source": []
  },
  {
   "cell_type": "code",
   "execution_count": null,
   "id": "71f0f052-69d6-46d8-9a45-f4705022a1d7",
   "metadata": {},
   "outputs": [],
   "source": []
  },
  {
   "cell_type": "markdown",
   "id": "3e7907ed-5b6d-4eb1-a8ee-2366da35d900",
   "metadata": {},
   "source": [
    "## list\n",
    "[🏠](#Python-Programming)"
   ]
  },
  {
   "cell_type": "code",
   "execution_count": 101,
   "id": "c6a4c2b4-84ca-4a13-9e62-545d6ce86625",
   "metadata": {},
   "outputs": [
    {
     "name": "stdout",
     "output_type": "stream",
     "text": [
      "<class 'list'>\n",
      "<class 'list'>\n",
      "<class 'list'>\n"
     ]
    }
   ],
   "source": [
    "# List ===> ordered, contain any arbitary object, indexed-base, dynamic in nature\n",
    "\n",
    "# how to create\n",
    "l = []\n",
    "print(type(l))\n",
    "\n",
    "mylist = [1, 2, 3, \"kunal\"]\n",
    "print(type(mylist))\n",
    "\n",
    "my_list = list()\n",
    "print(type(my_list))"
   ]
  },
  {
   "cell_type": "code",
   "execution_count": 103,
   "id": "91254e16-feb3-4acd-a8a1-c9ea5283e90f",
   "metadata": {},
   "outputs": [
    {
     "name": "stdout",
     "output_type": "stream",
     "text": [
      "[]\n",
      "[1, 2, 3, 'kunal']\n",
      "[]\n"
     ]
    }
   ],
   "source": [
    "print(l)\n",
    "print(mylist)\n",
    "print(my_list)"
   ]
  },
  {
   "cell_type": "code",
   "execution_count": 105,
   "id": "a412b019-0ed1-4755-ae15-987fb58c0935",
   "metadata": {},
   "outputs": [
    {
     "data": {
      "text/plain": [
       "[10, 30, 40, 50, 51, 1]"
      ]
     },
     "execution_count": 105,
     "metadata": {},
     "output_type": "execute_result"
    }
   ],
   "source": [
    "nums = [10, 30, 40, 50, 51]\n",
    "nums.append(1)\n",
    "nums"
   ]
  },
  {
   "cell_type": "code",
   "execution_count": 107,
   "id": "5baa79ba-6700-459b-9c74-7d3b9baf913e",
   "metadata": {},
   "outputs": [
    {
     "data": {
      "text/plain": [
       "[1, 51, 50, 40, 30, 10]"
      ]
     },
     "execution_count": 107,
     "metadata": {},
     "output_type": "execute_result"
    }
   ],
   "source": [
    "nums[::-1]"
   ]
  },
  {
   "cell_type": "code",
   "execution_count": 109,
   "id": "2f74679e-fac9-48ba-b594-0b61c6630414",
   "metadata": {},
   "outputs": [
    {
     "data": {
      "text/plain": [
       "[10, 30, 40, 50, 51, 1]"
      ]
     },
     "execution_count": 109,
     "metadata": {},
     "output_type": "execute_result"
    }
   ],
   "source": [
    "nums[::]"
   ]
  },
  {
   "cell_type": "code",
   "execution_count": 111,
   "id": "fc7989e8-ed1d-47d6-8cce-c1709acfadf2",
   "metadata": {},
   "outputs": [
    {
     "data": {
      "text/plain": [
       "[10, 40, 51]"
      ]
     },
     "execution_count": 111,
     "metadata": {},
     "output_type": "execute_result"
    }
   ],
   "source": [
    "nums[::2]"
   ]
  },
  {
   "cell_type": "code",
   "execution_count": 113,
   "id": "f13e7e35-f629-41f5-b55a-ddebf1aba145",
   "metadata": {},
   "outputs": [
    {
     "data": {
      "text/plain": [
       "[10, 30, 40, 50]"
      ]
     },
     "execution_count": 113,
     "metadata": {},
     "output_type": "execute_result"
    }
   ],
   "source": [
    "nums[:4]"
   ]
  },
  {
   "cell_type": "code",
   "execution_count": 115,
   "id": "3693e7b5-00e7-47f9-a9bd-fb8ec80ccabc",
   "metadata": {},
   "outputs": [
    {
     "data": {
      "text/plain": [
       "[]"
      ]
     },
     "execution_count": 115,
     "metadata": {},
     "output_type": "execute_result"
    }
   ],
   "source": [
    "nums[-1:-2]  #note it"
   ]
  },
  {
   "cell_type": "code",
   "execution_count": 117,
   "id": "e944a30f-444d-434c-9561-66ee7e530f6a",
   "metadata": {},
   "outputs": [
    {
     "name": "stdout",
     "output_type": "stream",
     "text": [
      "10=>30=>40=>50=>51=>1=>"
     ]
    }
   ],
   "source": [
    "for n in nums:\n",
    "    print(n, end='=>')"
   ]
  },
  {
   "cell_type": "code",
   "execution_count": 119,
   "id": "664aca95-06b9-4edf-9b3e-bc7aa7fe3dde",
   "metadata": {},
   "outputs": [
    {
     "name": "stdout",
     "output_type": "stream",
     "text": [
      "[1, 2, 3, 'kunal']\n"
     ]
    }
   ],
   "source": [
    "print(mylist)"
   ]
  },
  {
   "cell_type": "code",
   "execution_count": 121,
   "id": "e6abd142-ed57-457a-8d09-586ff4999f0d",
   "metadata": {},
   "outputs": [
    {
     "ename": "NameError",
     "evalue": "name 'mylist' is not defined",
     "output_type": "error",
     "traceback": [
      "\u001b[1;31m----------------------------------------------------------------------\u001b[0m",
      "\u001b[1;31mNameError\u001b[0m                            Traceback (most recent call last)",
      "Cell \u001b[1;32mIn[121], line 2\u001b[0m\n\u001b[0;32m      1\u001b[0m \u001b[38;5;28;01mdel\u001b[39;00m mylist\n\u001b[1;32m----> 2\u001b[0m \u001b[38;5;28mprint\u001b[39m(mylist)\n",
      "\u001b[1;31mNameError\u001b[0m: name 'mylist' is not defined"
     ]
    }
   ],
   "source": [
    "del mylist\n",
    "print(mylist)"
   ]
  },
  {
   "cell_type": "code",
   "execution_count": 123,
   "id": "fa6fe44d-923a-420f-9a3f-f42930f507c7",
   "metadata": {},
   "outputs": [
    {
     "data": {
      "text/plain": [
       "[10, 30, 40, 50, 51, 1]"
      ]
     },
     "execution_count": 123,
     "metadata": {},
     "output_type": "execute_result"
    }
   ],
   "source": [
    "nums"
   ]
  },
  {
   "cell_type": "code",
   "execution_count": 125,
   "id": "aa2bb0f1-c553-4894-9972-3c672d744cd9",
   "metadata": {},
   "outputs": [
    {
     "name": "stdout",
     "output_type": "stream",
     "text": [
      "6\n",
      "51\n",
      "1\n",
      "182\n",
      "[1, 10, 30, 40, 50, 51]\n",
      "['k', 'u', 'n', 'a', 'l']\n",
      "True\n",
      "True\n"
     ]
    },
    {
     "data": {
      "text/plain": [
       "[10, 30, 40, 50, 51, 1]"
      ]
     },
     "execution_count": 125,
     "metadata": {},
     "output_type": "execute_result"
    }
   ],
   "source": [
    "# built-in func\n",
    "\n",
    "print(len(nums))   # -> returns the length of the list\n",
    "print(max(nums))   # -> return max value in list\n",
    "print(min(nums))   # -> return min value in list\n",
    "print(sum(nums))   # -> returns the sum of list ele\n",
    "print(sorted(nums)) # returns the sorted list; not modified the original one\n",
    "\n",
    "print(list(\"kunal\")) # make list from iterable\n",
    "print(any(nums))  # return True if any of value is non-zero or truth val\n",
    "print(all(nums))  # return True iff all value are non-zero or empty iterable\n",
    "nums"
   ]
  },
  {
   "cell_type": "code",
   "execution_count": 127,
   "id": "f76fdc58-3a9f-45a9-9dd3-59380f7dd40b",
   "metadata": {},
   "outputs": [
    {
     "name": "stdout",
     "output_type": "stream",
     "text": [
      "[1, 2, 3, 4, 'kunal']\n"
     ]
    }
   ],
   "source": [
    "# list methods: append(), extend(), insert(), index(), count(), remove(), sort(), pop(), clear(), sort(), reverse()\n",
    "\n",
    "\n",
    "mylist = [1, 2, 3, 4]\n",
    "mylist.append(\"kunal\")\n",
    "print(mylist)"
   ]
  },
  {
   "cell_type": "code",
   "execution_count": 129,
   "id": "e6014cbc-04f4-440f-9130-60df668c59a0",
   "metadata": {},
   "outputs": [
    {
     "name": "stdout",
     "output_type": "stream",
     "text": [
      "[1, 2, 3, 4, 'kunal', 'k', 'u', 'n', 'a', 'l']\n"
     ]
    }
   ],
   "source": [
    "mylist.extend(\"kunal\")\n",
    "print(mylist)"
   ]
  },
  {
   "cell_type": "code",
   "execution_count": 131,
   "id": "9f359caf-167c-44ab-b1d1-b41cf9a9042e",
   "metadata": {},
   "outputs": [
    {
     "data": {
      "text/plain": [
       "[1, 2, 3, 4, [0, 1], 'kunal', 'k', 'u', 'n', 'a', 'l']"
      ]
     },
     "execution_count": 131,
     "metadata": {},
     "output_type": "execute_result"
    }
   ],
   "source": [
    "mylist.insert(4, [0,1])\n",
    "mylist"
   ]
  },
  {
   "cell_type": "code",
   "execution_count": 133,
   "id": "c49cd3e6-a705-4066-bfdf-44b8052de841",
   "metadata": {},
   "outputs": [
    {
     "data": {
      "text/plain": [
       "1"
      ]
     },
     "execution_count": 133,
     "metadata": {},
     "output_type": "execute_result"
    }
   ],
   "source": [
    "mylist.count('k')"
   ]
  },
  {
   "cell_type": "code",
   "execution_count": 135,
   "id": "41a145cf-0987-47e5-bcf6-6bcadc0ddce2",
   "metadata": {},
   "outputs": [
    {
     "data": {
      "text/plain": [
       "[1, 2, 3, [0, 1], 'kunal', 'k', 'u', 'n', 'a', 'l']"
      ]
     },
     "execution_count": 135,
     "metadata": {},
     "output_type": "execute_result"
    }
   ],
   "source": [
    "mylist.remove(4) # --> thrown an exception if val doesn't exist\n",
    "mylist"
   ]
  },
  {
   "cell_type": "code",
   "execution_count": 137,
   "id": "5f1eb05f-e203-413c-aece-d41e29797d7b",
   "metadata": {},
   "outputs": [
    {
     "data": {
      "text/plain": [
       "'l'"
      ]
     },
     "execution_count": 137,
     "metadata": {},
     "output_type": "execute_result"
    }
   ],
   "source": [
    "mylist.pop()  # -> default index -1"
   ]
  },
  {
   "cell_type": "code",
   "execution_count": 139,
   "id": "25ffaa29-7512-4706-a0c7-264b134ca152",
   "metadata": {},
   "outputs": [
    {
     "data": {
      "text/plain": [
       "[0, 1]"
      ]
     },
     "execution_count": 139,
     "metadata": {},
     "output_type": "execute_result"
    }
   ],
   "source": [
    "mylist.pop(3)"
   ]
  },
  {
   "cell_type": "code",
   "execution_count": 141,
   "id": "fa1a1488-bc64-4821-ba64-ec26066327d0",
   "metadata": {},
   "outputs": [
    {
     "data": {
      "text/plain": [
       "[1, 2, 3, 'kunal', 'k', 'u', 'n', 'a']"
      ]
     },
     "execution_count": 141,
     "metadata": {},
     "output_type": "execute_result"
    }
   ],
   "source": [
    "mylist"
   ]
  },
  {
   "cell_type": "code",
   "execution_count": 143,
   "id": "545a89b8-1255-4644-95ce-7e020d650c50",
   "metadata": {},
   "outputs": [
    {
     "data": {
      "text/plain": [
       "[41, 32, 25, 6, 4, 2, 1]"
      ]
     },
     "execution_count": 143,
     "metadata": {},
     "output_type": "execute_result"
    }
   ],
   "source": [
    "n = [2, 1, 4,32, 41, 25, 6]\n",
    "n.sort(reverse=True)\n",
    "n"
   ]
  },
  {
   "cell_type": "code",
   "execution_count": 145,
   "id": "165246fc-4ce9-4eee-b5a6-5ee40854aae0",
   "metadata": {},
   "outputs": [
    {
     "data": {
      "text/plain": [
       "['aalu', 'kunal', 'nitya', 'bhalu', 'lokendra', 'harishankar']"
      ]
     },
     "execution_count": 145,
     "metadata": {},
     "output_type": "execute_result"
    }
   ],
   "source": [
    "# sort on the basis of str length not on the basis of UNICODE\n",
    "names = [\"kunal\", \"nitya\", \"lokendra\", \"harishankar\", \"bhalu\", \"aalu\"]\n",
    "\n",
    "names.sort(key=len)\n",
    "names"
   ]
  },
  {
   "cell_type": "code",
   "execution_count": 147,
   "id": "50dd77f5-7e30-454d-8474-7c0b1ad2b5d8",
   "metadata": {},
   "outputs": [
    {
     "data": {
      "text/plain": [
       "['harishankar', 'lokendra', 'bhalu', 'nitya', 'kunal', 'aalu']"
      ]
     },
     "execution_count": 147,
     "metadata": {},
     "output_type": "execute_result"
    }
   ],
   "source": [
    "names.reverse()\n",
    "names"
   ]
  },
  {
   "cell_type": "markdown",
   "id": "9390aba0-afb2-4f4f-91f7-5f6822d5a7e5",
   "metadata": {},
   "source": [
    "## list-comprehensions\n",
    "[🏠](#Python-Programming)"
   ]
  },
  {
   "cell_type": "code",
   "execution_count": 150,
   "id": "e72cc16c-558f-4f5b-96fe-4aca02de51e7",
   "metadata": {},
   "outputs": [],
   "source": [
    "# list comprehensions: built list from another list\n",
    "# 2.0 introduced list comprehensions and 3.0 dict comp, set comp.."
   ]
  },
  {
   "cell_type": "code",
   "execution_count": 152,
   "id": "53a1550c-b2f7-4ff9-b6b8-d79ac1a61ade",
   "metadata": {},
   "outputs": [
    {
     "name": "stdout",
     "output_type": "stream",
     "text": [
      "['N', 'a', 'g', 'p', 'u', 'r']\n"
     ]
    }
   ],
   "source": [
    "text = \"Nagpur\"\n",
    "mylist = []\n",
    "for ch in text:\n",
    "    mylist.append(ch)\n",
    "print(mylist)\n",
    "\n",
    "#=====> 31%fast"
   ]
  },
  {
   "cell_type": "code",
   "execution_count": 154,
   "id": "4344c858-3489-450f-a7a6-10bf6e9e1bae",
   "metadata": {},
   "outputs": [
    {
     "data": {
      "text/plain": [
       "['N', 'a', 'g', 'p', 'u', 'r']"
      ]
     },
     "execution_count": 154,
     "metadata": {},
     "output_type": "execute_result"
    }
   ],
   "source": [
    "mylist = list(map(lambda x: x, text))\n",
    "mylist\n",
    "\n",
    "\n",
    "#=====> 45% fast"
   ]
  },
  {
   "cell_type": "code",
   "execution_count": 155,
   "id": "3354e630-f49f-4248-ad49-19bfbe2cc04d",
   "metadata": {},
   "outputs": [
    {
     "data": {
      "text/plain": [
       "['N', 'a', 'g', 'p', 'u', 'r']"
      ]
     },
     "execution_count": 155,
     "metadata": {},
     "output_type": "execute_result"
    }
   ],
   "source": [
    "#list comprehensions\n",
    "\n",
    "mylist = [x for x in text]\n",
    "mylist"
   ]
  },
  {
   "cell_type": "code",
   "execution_count": 158,
   "id": "ecb6a739-c199-4943-92fd-77b564845d6f",
   "metadata": {},
   "outputs": [
    {
     "data": {
      "text/plain": [
       "[1, 4, 9, 16, 25]"
      ]
     },
     "execution_count": 158,
     "metadata": {},
     "output_type": "execute_result"
    }
   ],
   "source": [
    "nos = [1, 2, 3, 4, 5]\n",
    "square_nos = [n**2 for n in nos]\n",
    "square_nos"
   ]
  },
  {
   "cell_type": "markdown",
   "id": "f97f6249-7735-4dca-9a01-63573c92079f",
   "metadata": {},
   "source": [
    "## tuple\n",
    "[🏠](#Python-Programming)"
   ]
  },
  {
   "cell_type": "code",
   "execution_count": 161,
   "id": "737f994f-75df-4189-951a-d15e3b0a0dab",
   "metadata": {},
   "outputs": [
    {
     "name": "stdout",
     "output_type": "stream",
     "text": [
      "<class 'tuple'>\n",
      "<class 'tuple'>\n"
     ]
    }
   ],
   "source": [
    "# Tuple: ordered collection of objects/ immutable\n",
    "\n",
    "mytuple = ()\n",
    "print(type(mytuple))\n",
    "\n",
    "mytuple = 1, 2, 3\n",
    "print(type(mytuple))"
   ]
  },
  {
   "cell_type": "code",
   "execution_count": 162,
   "id": "e12c47d6-436f-451f-82c4-f6f7f8b88f0a",
   "metadata": {},
   "outputs": [
    {
     "name": "stdout",
     "output_type": "stream",
     "text": [
      "<class 'int'>\n"
     ]
    }
   ],
   "source": [
    "a = (10)\n",
    "print(type(a))      # EWWWWW Y? Y? Y? \n",
    "                    # -> just bcoz () is used to define operator precedence; so it assum as exp and then evaluat to int ->2"
   ]
  },
  {
   "cell_type": "code",
   "execution_count": 164,
   "id": "8159f5b8-ed53-407f-ac5b-4cb045b739d3",
   "metadata": {},
   "outputs": [
    {
     "name": "stdout",
     "output_type": "stream",
     "text": [
      "<class 'tuple'>\n",
      "<class 'tuple'>\n"
     ]
    }
   ],
   "source": [
    "# for that the solutions is;\n",
    "a = 10,\n",
    "print(type(a))\n",
    "\n",
    "# or\n",
    "a = (10,)\n",
    "print(type(a))"
   ]
  },
  {
   "cell_type": "code",
   "execution_count": 165,
   "id": "f70c6881-30e5-496f-83cf-cd853e0216ba",
   "metadata": {},
   "outputs": [
    {
     "name": "stdout",
     "output_type": "stream",
     "text": [
      "(10, 20, 40)\n",
      "10=>20=>40\n"
     ]
    },
    {
     "data": {
      "text/plain": [
       "int"
      ]
     },
     "execution_count": 165,
     "metadata": {},
     "output_type": "execute_result"
    }
   ],
   "source": [
    "# packing & unpacking\n",
    "\n",
    "t = 10, 20, 40\n",
    "print(t)\n",
    "\n",
    "a, b, c = t\n",
    "print(a, b, c, sep='=>')\n",
    "type(a)"
   ]
  },
  {
   "cell_type": "code",
   "execution_count": 167,
   "id": "8e503596-1ebc-43d9-9b35-281a96340c96",
   "metadata": {},
   "outputs": [
    {
     "name": "stdout",
     "output_type": "stream",
     "text": [
      "10 [20, 40]\n"
     ]
    }
   ],
   "source": [
    "a, *b = t\n",
    "print(a, b)"
   ]
  },
  {
   "cell_type": "code",
   "execution_count": 168,
   "id": "6dad6207-d326-4a5f-a4a8-709b6e27235a",
   "metadata": {},
   "outputs": [
    {
     "name": "stdout",
     "output_type": "stream",
     "text": [
      "[10, 20] 40\n"
     ]
    }
   ],
   "source": [
    "*a, b = t\n",
    "print(a, b)"
   ]
  },
  {
   "cell_type": "code",
   "execution_count": 170,
   "id": "a87a2291-6df2-4056-8a76-a92febe4d695",
   "metadata": {},
   "outputs": [
    {
     "name": "stdout",
     "output_type": "stream",
     "text": [
      "40 [10, 20]\n"
     ]
    }
   ],
   "source": [
    "# swap 2 no\n",
    "a, b = b, a\n",
    "print(a, b)"
   ]
  },
  {
   "cell_type": "code",
   "execution_count": 172,
   "id": "b033ac75-cd5d-4922-8f86-a2d18a30e82f",
   "metadata": {},
   "outputs": [
    {
     "name": "stdout",
     "output_type": "stream",
     "text": [
      "(10, 20, 30)\n",
      "30\n",
      "(30, 20, 10)\n"
     ]
    }
   ],
   "source": [
    "# Accessing the tuple-==> print()/subscript->[]/slice->[:]\n",
    "tt = (10, 20, 30)\n",
    "print(tt)\n",
    "print(tt[-1])\n",
    "print(tt[::-1])"
   ]
  },
  {
   "cell_type": "code",
   "execution_count": 177,
   "id": "5b47bdd6-12e3-4a4c-a45a-f2593f4d0a94",
   "metadata": {},
   "outputs": [
    {
     "ename": "NameError",
     "evalue": "name 'tt' is not defined",
     "output_type": "error",
     "traceback": [
      "\u001b[1;31m----------------------------------------------------------------------\u001b[0m",
      "\u001b[1;31mNameError\u001b[0m                            Traceback (most recent call last)",
      "Cell \u001b[1;32mIn[177], line 4\u001b[0m\n\u001b[0;32m      1\u001b[0m \u001b[38;5;66;03m# we can;t delete a part of tuple but entire can be done using -> del\u001b[39;00m\n\u001b[0;32m      3\u001b[0m \u001b[38;5;28;01mdel\u001b[39;00m tt\n\u001b[1;32m----> 4\u001b[0m \u001b[38;5;28mprint\u001b[39m(tt)\n",
      "\u001b[1;31mNameError\u001b[0m: name 'tt' is not defined"
     ]
    }
   ],
   "source": [
    "# we can;t delete a part of tuple but entire can be done using -> del\n",
    "\n",
    "del tt\n",
    "print(tt)"
   ]
  },
  {
   "cell_type": "code",
   "execution_count": 179,
   "id": "f25135ff-7426-4e28-be13-3e7ebea18dfb",
   "metadata": {},
   "outputs": [
    {
     "data": {
      "text/plain": [
       "False"
      ]
     },
     "execution_count": 179,
     "metadata": {},
     "output_type": "execute_result"
    }
   ],
   "source": [
    "# buitl-in func\n",
    "ttt = (10, 30, 40, 89)\n",
    "len(ttt)\n",
    "max(ttt)\n",
    "min(ttt)\n",
    "sum(ttt)\n",
    "sorted(ttt)  # returns an list of sorted ele\n",
    "a = tuple([1,2,3, 0])\n",
    "a\n",
    "any(ttt)\n",
    "all(a)"
   ]
  },
  {
   "cell_type": "code",
   "execution_count": 181,
   "id": "3d3c16ae-d589-4ced-a002-1508d4eed4de",
   "metadata": {},
   "outputs": [
    {
     "data": {
      "text/plain": [
       "2"
      ]
     },
     "execution_count": 181,
     "metadata": {},
     "output_type": "execute_result"
    }
   ],
   "source": [
    "ttt.index(40)"
   ]
  },
  {
   "cell_type": "code",
   "execution_count": 182,
   "id": "5421ad3b-fd22-4d11-b59b-a6dc1bd3d6a0",
   "metadata": {},
   "outputs": [
    {
     "data": {
      "text/plain": [
       "1"
      ]
     },
     "execution_count": 182,
     "metadata": {},
     "output_type": "execute_result"
    }
   ],
   "source": [
    "ttt.count(89)"
   ]
  },
  {
   "cell_type": "code",
   "execution_count": 184,
   "id": "a87ca48e-4852-420f-aa26-247cb91ce034",
   "metadata": {},
   "outputs": [
    {
     "data": {
      "text/plain": [
       "(90, 90)"
      ]
     },
     "execution_count": 184,
     "metadata": {},
     "output_type": "execute_result"
    }
   ],
   "source": [
    "(90,)+(90,)"
   ]
  },
  {
   "cell_type": "code",
   "execution_count": 186,
   "id": "44134cfb-638e-4cc7-a665-317fd4e257be",
   "metadata": {},
   "outputs": [
    {
     "data": {
      "text/plain": [
       "(60, 60, 60)"
      ]
     },
     "execution_count": 186,
     "metadata": {},
     "output_type": "execute_result"
    }
   ],
   "source": [
    "(60,) * 3"
   ]
  },
  {
   "cell_type": "markdown",
   "id": "2271d374-c40c-4139-8b66-af08993c05f7",
   "metadata": {},
   "source": [
    "## string\n",
    "[🏠](#Python-Programming)"
   ]
  },
  {
   "cell_type": "code",
   "execution_count": 189,
   "id": "be10868e-5f3a-4180-be7f-09e3a053efcc",
   "metadata": {},
   "outputs": [],
   "source": [
    "# String: sequence of zero or more character.\n",
    "#        -> Immutable\n",
    "#        -> we can't changed the its ele\n",
    "#        -> 3 ways to create string -> '' / \"\" / \"\"\"\"\"\" or ''''''"
   ]
  },
  {
   "cell_type": "code",
   "execution_count": 190,
   "id": "2fac5899-7841-4d1d-99a2-d14f743e36d5",
   "metadata": {},
   "outputs": [
    {
     "name": "stdout",
     "output_type": "stream",
     "text": [
      "Kunal Dharpure\n",
      "<class 'str'>\n",
      "e\n",
      "eruprahD lanuK\n",
      "Kunal\n"
     ]
    }
   ],
   "source": [
    "name = \"Kunal Dharpure\"\n",
    "\n",
    "print(name)\n",
    "print(type(name))\n",
    "print(name[-1])\n",
    "print(name[::-1])\n",
    "print(name[:5])"
   ]
  },
  {
   "cell_type": "code",
   "execution_count": 192,
   "id": "c6319345-dbfc-4f3f-b0ea-3468639cbdfb",
   "metadata": {},
   "outputs": [
    {
     "name": "stdout",
     "output_type": "stream",
     "text": [
      "K->u->n->a->l-> ->D->h->a->r->p->u->r->e->"
     ]
    }
   ],
   "source": [
    "i = 0\n",
    "while i < len(name):\n",
    "    print(name[i], end='->')\n",
    "    i += 1"
   ]
  },
  {
   "cell_type": "code",
   "execution_count": 194,
   "id": "7158100f-d7e4-43e5-a920-c116b2b60e4c",
   "metadata": {},
   "outputs": [
    {
     "name": "stdout",
     "output_type": "stream",
     "text": [
      "e->r->u->p->r->a->h->D-> ->l->a->n->u->K->"
     ]
    }
   ],
   "source": [
    "# reverse \n",
    "for i in range(len(name)-1, -1, -1):\n",
    "    print(name[i], end='->')"
   ]
  },
  {
   "cell_type": "code",
   "execution_count": 196,
   "id": "d0186771-6cbb-4d82-9312-340cd5772f8f",
   "metadata": {},
   "outputs": [],
   "source": [
    "# Qn x=?\n",
    "x = \"Ba\"+\"na\"*2\n",
    "# Ans: ?"
   ]
  },
  {
   "cell_type": "code",
   "execution_count": 198,
   "id": "ccc07181-fec5-4559-a756-9e9812884967",
   "metadata": {},
   "outputs": [
    {
     "name": "stdout",
     "output_type": "stream",
     "text": [
      "14\n",
      "u\n",
      " \n",
      "B\n",
      "65\n",
      "<class 'str'>\n"
     ]
    },
    {
     "data": {
      "text/plain": [
       "'['"
      ]
     },
     "execution_count": 198,
     "metadata": {},
     "output_type": "execute_result"
    }
   ],
   "source": [
    "# Built-in func\n",
    "city = \"Nagpur\"\n",
    "\n",
    "print(len(name))\n",
    "print(max(name)) # -> returns a char which is alphabetically the highest char in str\n",
    "print(min(name))\n",
    "print(chr(66)) \n",
    "print(ord('A')) # -> unicode\n",
    "\n",
    "s = str([1,2,3,4,5])\n",
    "print(type(s))\n",
    "s[0]"
   ]
  },
  {
   "cell_type": "code",
   "execution_count": 200,
   "id": "822aa031-e793-4b2d-afaa-a2f07cd2aece",
   "metadata": {},
   "outputs": [
    {
     "name": "stdout",
     "output_type": "stream",
     "text": [
      "My name is kunal & I am 21 yrs old.\n",
      "My name is kunal & I am 21 yrs old.\n",
      "My name is kunal & I am 21 yrs old.\n",
      "My name is kunal & I am 21 yrs old.\n",
      "My name is kunal & I am 21 yrs old.\n"
     ]
    }
   ],
   "source": [
    "# formating\n",
    "name = \"kunal\"\n",
    "age = 21\n",
    "\n",
    "print(\"My name is \"+name+\" & I am \"+str(age)+\" yrs old.\")\n",
    "print(\"My name is\", name, \"& I am\", age, \"yrs old.\")\n",
    "print(\"My name is {} & I am {} yrs old.\".format(name, age))\n",
    "print(\"My name is %s & I am %i yrs old.\"%(name, age))\n",
    "\n",
    "# f-string\n",
    "print(f\"My name is {name} & I am {age} yrs old.\")"
   ]
  },
  {
   "cell_type": "code",
   "execution_count": 201,
   "id": "2a3591ac-687d-4b37-ac34-0a227840cde7",
   "metadata": {},
   "outputs": [
    {
     "name": "stdout",
     "output_type": "stream",
     "text": [
      "Kunal dharpure\n",
      "kunal dharpure\n",
      "KUNAL DHARPURE\n",
      "kUNAl DHARPURE\n",
      "Kunal Dharpure\n",
      "False\n",
      "False\n"
     ]
    }
   ],
   "source": [
    "# String methods;\n",
    "# capitalize() -> return a copy\n",
    "\n",
    "name = \"KunaL dharpure\"\n",
    "\n",
    "fname = name.capitalize()\n",
    "print(fname)\n",
    "\n",
    "print(name.lower())\n",
    "print(name.upper())\n",
    "print(name.swapcase())\n",
    "print(name.title()) # -> Proper Case.--> All Are Fun\n",
    "\n",
    "# string comparison\n",
    "print(name.islower())\n",
    "print(name.isupper())\n",
    "\n",
    "# istitle()\n",
    "# isalpha()\n",
    "# isdigit()\n",
    "# isspace() -> is there any space in str\n",
    "# startswith() -> takes 3 arg (2optional)===> startswith(suffix, start, end)\n",
    "# endswith()\n"
   ]
  },
  {
   "cell_type": "code",
   "execution_count": 204,
   "id": "7c278824-7329-411a-986d-972dba380728",
   "metadata": {},
   "outputs": [
    {
     "name": "stdout",
     "output_type": "stream",
     "text": [
      "7\n",
      "2\n"
     ]
    }
   ],
   "source": [
    "# searching methods\n",
    "name = \"I hate programming!\"\n",
    "\n",
    "print(name.index('p'))  # -> throws exception if not present\n",
    "\n",
    "print(name.find(\"hate\")) # -1 in case not present"
   ]
  },
  {
   "cell_type": "code",
   "execution_count": 205,
   "id": "8938ab71-b5a6-4049-9ac5-6d68c07296c5",
   "metadata": {},
   "outputs": [
    {
     "name": "stdout",
     "output_type": "stream",
     "text": [
      " kUnal DharpUre \n",
      "kunal Dharpure\n"
     ]
    }
   ],
   "source": [
    "fname = \" kunal Dharpure \"\n",
    "\n",
    "ans = fname.replace('u', 'U')\n",
    "print(ans)\n",
    "\n",
    "print(fname.strip()) # -> leading & trailing char removed"
   ]
  },
  {
   "cell_type": "code",
   "execution_count": 208,
   "id": "4a9d075c-a23a-4b03-a134-1cd681c565eb",
   "metadata": {},
   "outputs": [
    {
     "data": {
      "text/plain": [
       "['I', 'am', 'Batman!']"
      ]
     },
     "execution_count": 208,
     "metadata": {},
     "output_type": "execute_result"
    }
   ],
   "source": [
    "# spilt() --> impt   ==> returns the list\n",
    "\n",
    "word = \"I am Batman!\"\n",
    "new_word = word.split()  # based on space splited into list\n",
    "new_word"
   ]
  },
  {
   "cell_type": "code",
   "execution_count": 212,
   "id": "99c8571c-34bf-4124-87af-80a7624090b8",
   "metadata": {},
   "outputs": [
    {
     "data": {
      "text/plain": [
       "'gmail.com'"
      ]
     },
     "execution_count": 212,
     "metadata": {},
     "output_type": "execute_result"
    }
   ],
   "source": [
    "mail = \"kunal@gmail.com\"\n",
    "# take the domain from mail \n",
    "\n",
    "domain = mail.split('@')\n",
    "domain[-1]"
   ]
  },
  {
   "cell_type": "code",
   "execution_count": 214,
   "id": "c64d4cb5-a740-4210-bb66-92edc80783d3",
   "metadata": {},
   "outputs": [
    {
     "name": "stdout",
     "output_type": "stream",
     "text": [
      "P y t h o n\n",
      "<class 'str'>\n"
     ]
    }
   ],
   "source": [
    "# join() -> <str>.join(iterable)  ==> returns the str\n",
    "\n",
    "l = \"Python\"\n",
    "ls = \" \".join(l)\n",
    "print(ls)\n",
    "print(type(ls))"
   ]
  },
  {
   "cell_type": "code",
   "execution_count": 216,
   "id": "161983ce-1228-465a-8107-55932960633a",
   "metadata": {},
   "outputs": [
    {
     "data": {
      "text/plain": [
       "'HARI'"
      ]
     },
     "execution_count": 216,
     "metadata": {},
     "output_type": "execute_result"
    }
   ],
   "source": [
    "l = [\"H\", \"A\", \"R\", \"I\"]\n",
    "\"\".join(l)"
   ]
  },
  {
   "cell_type": "markdown",
   "id": "6e76ca67-52e9-472f-bb59-2e87869a25e5",
   "metadata": {},
   "source": [
    "# dictionaries\n",
    "[🏠](#Python-Programming)"
   ]
  },
  {
   "cell_type": "code",
   "execution_count": 218,
   "id": "4f82434e-f857-4024-8dd6-20c199165b42",
   "metadata": {},
   "outputs": [
    {
     "name": "stdout",
     "output_type": "stream",
     "text": [
      "<class 'dict'>\n",
      "{'A': 'Apple', 'B': 'Banana', 'C': 'Cashew'}\n"
     ]
    }
   ],
   "source": [
    "# Dictionary: unordered collection of items ==============> but 3.7+ onward it is ordered\n",
    "# Mutable\n",
    "# Dynamic in nature\n",
    "# key: value\n",
    "\n",
    "d = {\n",
    "    'A': \"Apple\",\n",
    "    'B': \"Banana\",\n",
    "    'C': \"Cashew\"\n",
    "}\n",
    "\n",
    "print(type(d))\n",
    "print(d)"
   ]
  },
  {
   "cell_type": "code",
   "execution_count": 220,
   "id": "2ff9eb36-03b0-4f17-831a-9a8aa803e6a2",
   "metadata": {},
   "outputs": [
    {
     "data": {
      "text/plain": [
       "dict"
      ]
     },
     "execution_count": 220,
     "metadata": {},
     "output_type": "execute_result"
    }
   ],
   "source": [
    "dd = dict() #empty\n",
    "type(dd)"
   ]
  },
  {
   "cell_type": "code",
   "execution_count": 222,
   "id": "92e80198-0380-4e4d-b6f7-8f1bdfe8df2e",
   "metadata": {},
   "outputs": [
    {
     "data": {
      "text/plain": [
       "dict"
      ]
     },
     "execution_count": 222,
     "metadata": {},
     "output_type": "execute_result"
    }
   ],
   "source": [
    "d = {} #empty dict\n",
    "type(d)"
   ]
  },
  {
   "cell_type": "code",
   "execution_count": 224,
   "id": "8ae209b2-e884-402b-966a-00c7761188db",
   "metadata": {},
   "outputs": [
    {
     "data": {
      "text/plain": [
       "{50: 'kunal', 51: 'lokedra'}"
      ]
     },
     "execution_count": 224,
     "metadata": {},
     "output_type": "execute_result"
    }
   ],
   "source": [
    "d = {50: \"kunal\", 51: \"lokedra\"}\n",
    "d"
   ]
  },
  {
   "cell_type": "code",
   "execution_count": 225,
   "id": "67a6868a-ada7-4ab3-b284-f73b50a230c7",
   "metadata": {},
   "outputs": [
    {
     "name": "stdout",
     "output_type": "stream",
     "text": [
      "{50: 'kunal', 51: 'lokedra'}\n",
      "kunal\n",
      "lokedra\n",
      "50 kunal\n",
      "51 lokedra\n"
     ]
    }
   ],
   "source": [
    "# Accessing -> 4ways\n",
    "\n",
    "print(d)\n",
    "\n",
    "print(d[50])\n",
    "\n",
    "print(d.get(51))\n",
    "\n",
    "for i, v in d.items():\n",
    "    print(i, v)"
   ]
  },
  {
   "cell_type": "code",
   "execution_count": 228,
   "id": "971487ed-30c7-4385-9399-91eb05e6d118",
   "metadata": {},
   "outputs": [
    {
     "name": "stdout",
     "output_type": "stream",
     "text": [
      "dict_keys([50, 51])\n",
      "dict_values(['kunal', 'lokedra'])\n",
      "dict_items([(50, 'kunal'), (51, 'lokedra')])\n"
     ]
    }
   ],
   "source": [
    "print(d.keys())\n",
    "print(d.values())\n",
    "print(d.items()) # -> list of tuples"
   ]
  },
  {
   "cell_type": "code",
   "execution_count": 229,
   "id": "15609acd-85b5-489f-830f-83b3cd2cff2d",
   "metadata": {},
   "outputs": [
    {
     "name": "stdout",
     "output_type": "stream",
     "text": [
      "{'50': 'kunal', '51': 'lokedndra', '52': 'nikita', '53': 'krishna', 55: 'nandini'}\n",
      "{'50': 'kunal pawar', '51': 'lokedndra', '52': 'nikita', '53': 'krishna', 55: 'nandini'}\n"
     ]
    }
   ],
   "source": [
    "# update -> 2ways\n",
    "\n",
    "student = {\n",
    "    '50': \"kunal\",\n",
    "    '51': \"lokedndra\",\n",
    "    '52': \"nikita\",\n",
    "    '53': \"krishna\"\n",
    "}\n",
    "\n",
    "student[55] = \"nandini\"\n",
    "print(student)\n",
    "\n",
    "student.update({'50': \"kunal pawar\"})\n",
    "print(student)"
   ]
  },
  {
   "cell_type": "code",
   "execution_count": 231,
   "id": "63f16466-3d3b-4e95-926b-d939ce689692",
   "metadata": {},
   "outputs": [
    {
     "name": "stdout",
     "output_type": "stream",
     "text": [
      "krishna\n"
     ]
    },
    {
     "data": {
      "text/plain": [
       "{'50': 'kunal pawar', '51': 'lokedndra', '52': 'nikita', 55: 'nandini'}"
      ]
     },
     "execution_count": 231,
     "metadata": {},
     "output_type": "execute_result"
    }
   ],
   "source": [
    "#remove\n",
    "print(student.pop('53'))\n",
    "student"
   ]
  },
  {
   "cell_type": "code",
   "execution_count": 233,
   "id": "2aab651c-150b-491d-b4c5-3f3afb2ab890",
   "metadata": {},
   "outputs": [
    {
     "data": {
      "text/plain": [
       "{}"
      ]
     },
     "execution_count": 233,
     "metadata": {},
     "output_type": "execute_result"
    }
   ],
   "source": [
    "student.clear()\n",
    "student"
   ]
  },
  {
   "cell_type": "code",
   "execution_count": 235,
   "id": "5dd6722f-9242-4f8d-a8cd-2a4db1278542",
   "metadata": {},
   "outputs": [],
   "source": [
    "del student\n",
    "# student  # NameError as student is deleted completly"
   ]
  },
  {
   "cell_type": "code",
   "execution_count": 237,
   "id": "d1c3a6db-e8c7-4c90-aad3-7c59c1873c25",
   "metadata": {},
   "outputs": [
    {
     "data": {
      "text/plain": [
       "{1: 'one', 2: 'two', 3: 'three', 4: 'four', 5: 'five'}"
      ]
     },
     "execution_count": 237,
     "metadata": {},
     "output_type": "execute_result"
    }
   ],
   "source": [
    "d = {\n",
    "    1: 'one',\n",
    "    2: 'two',\n",
    "    3: 'three',\n",
    "    4: 'four',\n",
    "    5: 'five'\n",
    "}\n",
    "\n",
    "new = d.copy() # shallow copy \n",
    "new"
   ]
  },
  {
   "cell_type": "code",
   "execution_count": 239,
   "id": "f088c70a-e96d-4506-a990-917626b5a9be",
   "metadata": {},
   "outputs": [
    {
     "name": "stdout",
     "output_type": "stream",
     "text": [
      "{1: 'one', 2: 'two', 3: 'three', 4: 'four', 5: 'five', 6: 'six'}\n",
      "{1: 'one', 2: 'two', 3: 'three', 4: 'four', 5: 'five', 6: 'six'}\n"
     ]
    }
   ],
   "source": [
    "new_d = d   # deep copy;\n",
    "new_d[6] = \"six\"\n",
    "\n",
    "print(d)\n",
    "print(new_d)"
   ]
  },
  {
   "cell_type": "code",
   "execution_count": 240,
   "id": "a79d4078-dcd7-4fb4-88f4-2dc4b51fefc0",
   "metadata": {},
   "outputs": [
    {
     "name": "stdout",
     "output_type": "stream",
     "text": [
      "{'maruti': 'ciaz', 'hyundai': 'verna', 'honda': 'Amaze'}\n",
      "{'maruti': 'ciaz', 'hyundai': 'verna', 'honda': 'Amaze'}\n"
     ]
    }
   ],
   "source": [
    "# dict comprehensions\n",
    "\n",
    "cars = {\"maruti\": \"ciaz\", \"hyundai\": \"verna\", \"honda\": \"Amaze\"}\n",
    "\n",
    "cars2 =  {k: v for k, v in cars.items()}\n",
    "\n",
    "print(cars)\n",
    "print(cars2)"
   ]
  },
  {
   "cell_type": "code",
   "execution_count": null,
   "id": "e2cadd25-6b79-4ccf-9fea-c5e3c959e066",
   "metadata": {},
   "outputs": [],
   "source": []
  },
  {
   "cell_type": "code",
   "execution_count": null,
   "id": "fde22846-217f-47b2-ac4d-a774c602d64d",
   "metadata": {},
   "outputs": [],
   "source": []
  },
  {
   "cell_type": "markdown",
   "id": "8963d273-9bc9-48cf-8c46-5c55b2db8b68",
   "metadata": {},
   "source": [
    "# collections\n",
    "[🏠](#Python-Programming)"
   ]
  },
  {
   "cell_type": "code",
   "execution_count": 248,
   "id": "c6e921e0-5eb7-43e9-81c7-d1909154e6d6",
   "metadata": {},
   "outputs": [],
   "source": [
    "# Collections -> is module in python specialized containers(diff from genereal dict/list/tuple/set)\n",
    "# need? -> provides specialized container data types beyond built-in type like list/dict/tuple\n",
    "# deque, Counter, OrderedDict, defaultdict and namedtype\n",
    "# helps in frequency counting, queue operations and structured records with minimal code.\n",
    "# ideal for improving performance and code readability in data-heavy applications."
   ]
  },
  {
   "cell_type": "code",
   "execution_count": 249,
   "id": "a3c69952-0fbc-48eb-a1e6-792949009ed4",
   "metadata": {},
   "outputs": [
    {
     "name": "stdout",
     "output_type": "stream",
     "text": [
      "Counter({'B': 5, 'A': 3, 'C': 2})\n",
      "Counter({'B': 5, 'A': 3, 'C': 2})\n",
      "Counter({'B': 5, 'A': 3, 'C': 2})\n"
     ]
    }
   ],
   "source": [
    "# Counter-> sub-class of dictionary. \n",
    "# used to keep the count of ele in an iterable in the form of unordered dict\n",
    "\n",
    "from collections import Counter\n",
    "\n",
    "# Creating Counter from a list (sequence of items)  \n",
    "print(Counter(['B','B','A','B','C','A','B','B','A','C']))\n",
    "  \n",
    "# Creating Counter from a dictionary\n",
    "print(Counter({'A':3, 'B':5, 'C':2}))\n",
    "  \n",
    "# Creating Counter using keyword arguments\n",
    "print(Counter(A=3, B=5, C=2))"
   ]
  },
  {
   "cell_type": "code",
   "execution_count": 251,
   "id": "01c7ac81-d217-46d9-942b-b4824e2d8aaf",
   "metadata": {},
   "outputs": [
    {
     "name": "stdout",
     "output_type": "stream",
     "text": [
      "This is a Dict:\n",
      "\n",
      "a 1\n",
      "b 2\n",
      "c 3\n",
      "d 4\n",
      "\n",
      "This is an Ordered Dict:\n",
      "\n",
      "a 1\n",
      "b 2\n",
      "c 3\n",
      "d 4\n"
     ]
    }
   ],
   "source": [
    "# OrderedDict -> is a dictionary that preserves the order in which keys are inserted\n",
    "# while regular dict also do from 3.7+\n",
    "\n",
    "from collections import OrderedDict \n",
    "print(\"This is a Dict:\\n\") \n",
    "d = {} \n",
    "d['a'] = 1\n",
    "d['b'] = 2\n",
    "d['c'] = 3\n",
    "d['d'] = 4\n",
    "  \n",
    "for key, value in d.items(): \n",
    "    print(key, value) \n",
    "  \n",
    "print(\"\\nThis is an Ordered Dict:\\n\") \n",
    "od = OrderedDict() \n",
    "od['a'] = 1\n",
    "od['b'] = 2\n",
    "od['c'] = 3\n",
    "od['d'] = 4\n",
    "  \n",
    "for key, value in od.items(): \n",
    "    print(key, value)"
   ]
  },
  {
   "cell_type": "code",
   "execution_count": 253,
   "id": "a8702227-62bb-440c-838a-6d591d293696",
   "metadata": {},
   "outputs": [
    {
     "name": "stdout",
     "output_type": "stream",
     "text": [
      "Before Deleting\n",
      "a 1\n",
      "b 2\n",
      "c 3\n",
      "d 4\n",
      "\n",
      "After re-inserting\n",
      "b 2\n",
      "c 3\n",
      "d 4\n",
      "a 1\n"
     ]
    }
   ],
   "source": [
    "od = OrderedDict() \n",
    "od['a'] = 1\n",
    "od['b'] = 2\n",
    "od['c'] = 3\n",
    "od['d'] = 4\n",
    "  \n",
    "print('Before Deleting')\n",
    "for key, value in od.items(): \n",
    "    print(key, value) \n",
    "    \n",
    "# deleting element\n",
    "od.pop('a')\n",
    "\n",
    "# Re-inserting the same -> last; preserve the order\n",
    "od['a'] = 1\n",
    "\n",
    "print('\\nAfter re-inserting')\n",
    "for key, value in od.items(): \n",
    "    print(key, value)"
   ]
  },
  {
   "cell_type": "code",
   "execution_count": 255,
   "id": "e92bff1d-27d6-426d-be01-a4234e0b7e4f",
   "metadata": {},
   "outputs": [
    {
     "name": "stdout",
     "output_type": "stream",
     "text": [
      "defaultdict(<class 'int'>, {1: 2, 2: 3, 3: 1, 4: 2})\n"
     ]
    }
   ],
   "source": [
    "# defaultdict -> is also sub-class to dictionary.\n",
    "# it used to provide some default values for the key does not exist and never raises a keyerror.\n",
    "\n",
    "from collections import defaultdict \n",
    "\n",
    "# Creating a defaultdict with default value of 0 (int)\n",
    "d = defaultdict(int) \n",
    "L = [1, 2, 3, 4, 2, 4, 1, 2] \n",
    "\n",
    "# Counting occurrences of each element in the list\n",
    "for i in L: \n",
    "    d[i] += 1  # No need to check key existence; default is 0\n",
    "\n",
    "print(d)"
   ]
  },
  {
   "cell_type": "code",
   "execution_count": 257,
   "id": "052b2362-2e66-470f-b7f8-9ac214f58c50",
   "metadata": {},
   "outputs": [
    {
     "name": "stdout",
     "output_type": "stream",
     "text": [
      "Dictionary with values as list:\n",
      "defaultdict(<class 'list'>, {0: [0, 0], 1: [1, 1], 2: [2, 4], 3: [3, 9], 4: [4, 16]})\n"
     ]
    }
   ],
   "source": [
    "# Defining a dict \n",
    "d = defaultdict(list) \n",
    "  \n",
    "for i in range(5): \n",
    "    d[i].append(i) \n",
    "    d[i].append(i**2)\n",
    "      \n",
    "print(\"Dictionary with values as list:\") \n",
    "print(d)"
   ]
  },
  {
   "cell_type": "code",
   "execution_count": 258,
   "id": "2579d341-6ad6-4235-8c0d-5d901a2e781c",
   "metadata": {},
   "outputs": [
    {
     "name": "stdout",
     "output_type": "stream",
     "text": [
      "ChainMap({'a': 1, 'b': 2}, {'c': 3, 'd': 4}, {'e': 5, 'f': 6})\n",
      "1\n",
      "ValuesView(ChainMap({'a': 1, 'b': 2}, {'c': 3, 'd': 4}, {'e': 5, 'f': 6}))\n",
      "KeysView(ChainMap({'a': 1, 'b': 2}, {'c': 3, 'd': 4}, {'e': 5, 'f': 6}))\n"
     ]
    }
   ],
   "source": [
    "# ChainMap -> A ChainMap encapsulates many dictionaries into a single unit and \n",
    "# returns a list of dictionaries.\n",
    "\n",
    "from collections import ChainMap \n",
    "   \n",
    "d1 = {'a': 1, 'b': 2}\n",
    "d2 = {'c': 3, 'd': 4}\n",
    "d3 = {'e': 5, 'f': 6}\n",
    "\n",
    "# Defining the chainmap \n",
    "c = ChainMap(d1, d2, d3) \n",
    "print(c)\n",
    "\n",
    "# Accessing Values using key name\n",
    "print(c['a'])\n",
    "\n",
    "# Accessing values using values()\n",
    "print(c.values())\n",
    "\n",
    "# Accessing keys using keys()\n",
    "print(c.keys())"
   ]
  },
  {
   "cell_type": "code",
   "execution_count": 260,
   "id": "6e31c47a-a967-4412-9e80-eb6e151500c1",
   "metadata": {},
   "outputs": [
    {
     "name": "stdout",
     "output_type": "stream",
     "text": [
      "The Student age using index is : 19\n",
      "The Student name using keyname is : Nandini\n",
      "The namedtuple instance using iterable is  : \n",
      "Student(name='Manjeet', age='19', DOB='411997')\n",
      "The OrderedDict instance using namedtuple is  : \n",
      "{'name': 'Nandini', 'age': '19', 'DOB': '2541997'}\n"
     ]
    }
   ],
   "source": [
    "# NamedTuple -> A NamedTuple is like a regular tuple but with named fields, making data more readable and accessible. \n",
    "# Instead of using indexes, you can access elements by name (e.g., student.fname), \n",
    "# which improves code clarity and ease of use.\n",
    "\n",
    "from collections import namedtuple\n",
    "  \n",
    "# Declaring namedtuple() \n",
    "Student = namedtuple('Student',['name','age','DOB']) \n",
    "  \n",
    "# Adding values \n",
    "S = Student('Nandini','19','2541997') \n",
    "  \n",
    "# Access using index \n",
    "print (\"The Student age using index is : \",end =\"\") \n",
    "print (S[1]) \n",
    "  \n",
    "# Access using name  \n",
    "print (\"The Student name using keyname is : \",end =\"\") \n",
    "print (S.name)\n",
    "\n",
    "# initializing iterable  \n",
    "li = ['Manjeet', '19', '411997' ] \n",
    "  \n",
    "# initializing dict \n",
    "di = { 'name' : \"Nikhil\", 'age' : 19 , 'DOB' : '1391997' } \n",
    "  \n",
    "# using _make() to return namedtuple() \n",
    "print (\"The namedtuple instance using iterable is  : \") \n",
    "print (Student._make(li)) \n",
    "  \n",
    "# using _asdict() to return an OrderedDict() \n",
    "print (\"The OrderedDict instance using namedtuple is  : \") \n",
    "print (S._asdict())"
   ]
  },
  {
   "cell_type": "code",
   "execution_count": 262,
   "id": "eb292927-e5d1-45da-b250-95cb99a88513",
   "metadata": {},
   "outputs": [
    {
     "name": "stdout",
     "output_type": "stream",
     "text": [
      "deque(['name', 'age', 'DOB'])\n",
      "The deque after appending at right is :\n",
      "deque([1, 2, 3, 4])\n",
      "The deque after appending at left is :\n",
      "deque([6, 1, 2, 3, 4])\n",
      "The deque after deleting from right is :\n",
      "deque([6, 1, 2, 3])\n",
      "The deque after deleting from left is :\n",
      "deque([1, 2, 3])\n"
     ]
    }
   ],
   "source": [
    "# Deque (Doubly Ended Queue) -> is the optimized list for quicker append and pop operations from both sides of the container. \n",
    "# It provides O(1) time complexity for append and pop operations as compared to list with O(n) time complexity.\n",
    "\n",
    "from collections import deque\n",
    "  \n",
    "# Declaring deque\n",
    "queue = deque(['name','age','DOB']) \n",
    "print(queue)\n",
    "\n",
    "# Initializing deque with initial values\n",
    "de = deque([1, 2, 3]) \n",
    "  \n",
    "# Append 4 to the right end of deque\n",
    "de.append(4) \n",
    "  \n",
    "# Print deque after appending to the right\n",
    "print(\"The deque after appending at right is :\") \n",
    "print(de) \n",
    "  \n",
    "# Append 6 to the left end of deque\n",
    "de.appendleft(6) \n",
    "  \n",
    "# Print deque after appending to the left\n",
    "print(\"The deque after appending at left is :\") \n",
    "print(de)\n",
    "\n",
    "# Delete element from the right end (removes 4)\n",
    "de.pop()\n",
    "\n",
    "# Print deque after deletion from the right\n",
    "print(\"The deque after deleting from right is :\") \n",
    "print(de)\n",
    "\n",
    "# Delete element from the left end (removes 6)\n",
    "de.popleft()\n",
    "\n",
    "# Print deque after deletion from the left\n",
    "print(\"The deque after deleting from left is :\") \n",
    "print(de)"
   ]
  },
  {
   "cell_type": "markdown",
   "id": "e6479573-eb28-4c0e-8366-baf71f85bce6",
   "metadata": {},
   "source": [
    "# expention-handling\n",
    "[🏠](#Python-Programming)"
   ]
  },
  {
   "cell_type": "code",
   "execution_count": 267,
   "id": "395e764f-b92e-49d6-9f73-b0aef37dbbb3",
   "metadata": {},
   "outputs": [
    {
     "name": "stdout",
     "output_type": "stream",
     "text": [
      "Can't be divided by zero!\n"
     ]
    }
   ],
   "source": [
    "# Exception handling -> handles errors that occur during the execution of a program.\n",
    "# allows to respond to the error, instead of crashing the running program. \n",
    "\n",
    "# Simple Exception Handling Example\n",
    "n = 10\n",
    "try:\n",
    "    res = n / 0  # This will raise a ZeroDivisionError\n",
    "    \n",
    "except ZeroDivisionError:\n",
    "    print(\"Can't be divided by zero!\")"
   ]
  },
  {
   "cell_type": "code",
   "execution_count": 269,
   "id": "86c7f751-9a53-4c2a-aef1-e6fc8aa7d9a7",
   "metadata": {},
   "outputs": [
    {
     "ename": "SyntaxError",
     "evalue": "'(' was never closed (3578720568.py, line 9)",
     "output_type": "error",
     "traceback": [
      "\u001b[1;36m  Cell \u001b[1;32mIn[269], line 9\u001b[1;36m\u001b[0m\n\u001b[1;33m    print(\"Hello world\"  # Missing closing parenthesis\u001b[0m\n\u001b[1;37m         ^\u001b[0m\n\u001b[1;31mSyntaxError\u001b[0m\u001b[1;31m:\u001b[0m '(' was never closed\n"
     ]
    }
   ],
   "source": [
    "# Error: Serious issues in code logic/configuration that cannot be handled by the program; \n",
    "# must be fixed by the programmer. (e.g., syntax errors, memory errors)\n",
    "\n",
    "# Exception: Less severe issues that can be handled by the program at runtime; \n",
    "# caused by events like invalid input, missing files, or network problems.\n",
    "\n",
    "\n",
    "# Syntax Error (Error)\n",
    "print(\"Hello world\"  # Missing closing parenthesis\n",
    "\n",
    "# ZeroDivisionError (Exception)\n",
    "n = 10\n",
    "res = n / 0"
   ]
  },
  {
   "cell_type": "code",
   "execution_count": 271,
   "id": "7ca4d7f3-e50a-452e-849e-7a77e1d1251c",
   "metadata": {},
   "outputs": [
    {
     "name": "stdout",
     "output_type": "stream",
     "text": [
      "You can't divide by zero!\n",
      "Execution complete.\n"
     ]
    }
   ],
   "source": [
    "# try: Tests code for errors.\n",
    "# except: Handles exceptions if they occur.\n",
    "# else: Runs if no exceptions occur.\n",
    "# finally: Always runs (for cleanup).\n",
    "\n",
    "try:\n",
    "    n = 0\n",
    "    res = 100 / n\n",
    "    \n",
    "except ZeroDivisionError:\n",
    "    print(\"You can't divide by zero!\")\n",
    "    \n",
    "except ValueError:\n",
    "    print(\"Enter a valid number!\")\n",
    "    \n",
    "else:\n",
    "    print(\"Result is\", res)\n",
    "    \n",
    "finally:\n",
    "    print(\"Execution complete.\")"
   ]
  },
  {
   "cell_type": "code",
   "execution_count": 273,
   "id": "d7d33ddf-e78f-4de2-b4d6-2ab5510fd38c",
   "metadata": {},
   "outputs": [
    {
     "name": "stdout",
     "output_type": "stream",
     "text": [
      "Not Valid!\n"
     ]
    }
   ],
   "source": [
    "try:\n",
    "    x = int(\"str\")  # This will cause ValueError\n",
    "    \n",
    "    #inverse\n",
    "    inv = 1 / x\n",
    "    \n",
    "except ValueError:\n",
    "    print(\"Not Valid!\")\n",
    "    \n",
    "except ZeroDivisionError:\n",
    "    print(\"Zero has no inverse!\")"
   ]
  },
  {
   "cell_type": "code",
   "execution_count": 275,
   "id": "b5f53bf3-cf9e-447e-aee0-e6b645ddc37a",
   "metadata": {},
   "outputs": [
    {
     "name": "stdout",
     "output_type": "stream",
     "text": [
      "Error invalid literal for int() with base 10: 'twenty'\n"
     ]
    }
   ],
   "source": [
    "a = [\"10\", \"twenty\", 30]  # Mixed list of integers and strings\n",
    "try:\n",
    "    total = int(a[0]) + int(a[1])  # 'twenty' cannot be converted to int\n",
    "    \n",
    "except (ValueError, TypeError) as e:\n",
    "    print(\"Error\", e)\n",
    "    \n",
    "except IndexError:\n",
    "    print(\"Index out of range.\")"
   ]
  },
  {
   "cell_type": "code",
   "execution_count": 277,
   "id": "961e482e-499b-4096-ba2e-a4f799b5d644",
   "metadata": {},
   "outputs": [
    {
     "name": "stdout",
     "output_type": "stream",
     "text": [
      "Something went wrong!\n"
     ]
    }
   ],
   "source": [
    "try:\n",
    "    # Simulate risky calculation: incorrect type operation\n",
    "    res = \"100\" / 20\n",
    "    \n",
    "except ArithmeticError:\n",
    "    print(\"Arithmetic problem.\")\n",
    "    \n",
    "except:\n",
    "    print(\"Something went wrong!\")"
   ]
  },
  {
   "cell_type": "code",
   "execution_count": 279,
   "id": "9b295ca4-1264-40be-9f33-71484a551b00",
   "metadata": {},
   "outputs": [
    {
     "name": "stdout",
     "output_type": "stream",
     "text": [
      "Age cannot be negative.\n"
     ]
    }
   ],
   "source": [
    "# Raise an Exception: Use raise with a built-in or custom exception (inheriting from Exception) \n",
    "# to trigger an error intentionally.\n",
    "# Advantages:\n",
    "# Improved program reliability\n",
    "# Simplified error handling\n",
    "# Cleaner code\n",
    "# Easier debugging\n",
    "\n",
    "\n",
    "def set(age):\n",
    "    if age < 0:\n",
    "        raise ValueError(\"Age cannot be negative.\")\n",
    "    print(f\"Age set to {age}\")\n",
    "\n",
    "try:\n",
    "    set(-5)\n",
    "except ValueError as e:\n",
    "    print(e)"
   ]
  },
  {
   "cell_type": "code",
   "execution_count": 300,
   "id": "4850e919-1963-4262-b87d-16da709de173",
   "metadata": {},
   "outputs": [
    {
     "name": "stdout",
     "output_type": "stream",
     "text": [
      "<_io.TextIOWrapper name='demo.txt' mode='r' encoding='cp1252'>\n",
      "Filename: demo.txt\n",
      "Mode: r\n",
      "Is Closed? False\n",
      "Is Closed? True\n"
     ]
    }
   ],
   "source": [
    "# File Handling: Performing operations like create, open, read, write, and close on files \n",
    "# to manage data flow between program and storage safely and efficiently.\n",
    "\n",
    "# Need?:\n",
    "# - Store data permanently.\n",
    "# - Access external files (.txt, .csv, .json, etc.).\n",
    "# - Process large files efficiently.\n",
    "# - Automate tasks (configs, outputs).\n",
    "# - Handle I/O in real-world apps.\n",
    "\n",
    "f = open(\"demo.txt\", 'r')\n",
    "print(f)\n",
    "\n",
    "print(\"Filename:\", f.name)\n",
    "print(\"Mode:\", f.mode)\n",
    "print(\"Is Closed?\", f.closed)\n",
    "f.close()\n",
    "print(\"Is Closed?\", f.closed)"
   ]
  },
  {
   "cell_type": "code",
   "execution_count": 1,
   "id": "c65db4e0-3320-4403-9349-a1902735b010",
   "metadata": {},
   "outputs": [
    {
     "name": "stdout",
     "output_type": "stream",
     "text": [
      "Hi Guys;\n",
      "I am stewie griffin.\n"
     ]
    },
    {
     "data": {
      "text/plain": [
       "True"
      ]
     },
     "execution_count": 1,
     "metadata": {},
     "output_type": "execute_result"
    }
   ],
   "source": [
    "file = open(\"demo.txt\", \"r\")\n",
    "content = file.read()\n",
    "print(content)\n",
    "file.close()"
   ]
  },
  {
   "cell_type": "code",
   "execution_count": 304,
   "id": "37a5363a-b4b1-447d-bf60-7b5643c4d381",
   "metadata": {},
   "outputs": [
    {
     "name": "stdout",
     "output_type": "stream",
     "text": [
      "Hi Guys;\n",
      "I am stewie griffin.\n"
     ]
    }
   ],
   "source": [
    "# This reduces the risk of file corruption and resource leakage. -> auto close\n",
    "\n",
    "with open(\"demo.txt\", \"r\") as file:\n",
    "    content = file.read()\n",
    "    print(content)"
   ]
  },
  {
   "cell_type": "code",
   "execution_count": 306,
   "id": "e559c1ea-9c22-49eb-a8ce-b5d57b039347",
   "metadata": {},
   "outputs": [
    {
     "name": "stdout",
     "output_type": "stream",
     "text": [
      "Hi Guys;\n",
      "I am stewie griffin.\n"
     ]
    }
   ],
   "source": [
    "# another way of opening files\n",
    "try:\n",
    "    file = open(\"demo.txt\", \"r\")\n",
    "    content = file.read()\n",
    "    print(content)\n",
    "finally:\n",
    "    file.close()"
   ]
  },
  {
   "cell_type": "code",
   "execution_count": null,
   "id": "d6e819e6-1b84-428e-8043-c4f271fb0dd3",
   "metadata": {},
   "outputs": [],
   "source": [
    "# Python RegEx:\n",
    "# A Regular Expression (RegEx) is a special sequence of characters \n",
    "# that defines a search pattern to find a string or set of strings.\n",
    "# It can check if a pattern exists in text and can also split text \n",
    "# into one or more sub-patterns based on the pattern."
   ]
  },
  {
   "cell_type": "code",
   "execution_count": 5,
   "id": "f8b03394-1f05-4516-ad06-43d8e70bc787",
   "metadata": {},
   "outputs": [
    {
     "name": "stdout",
     "output_type": "stream",
     "text": [
      "Start Index: 18\n",
      "End Index: 26\n"
     ]
    },
    {
     "data": {
      "text/plain": [
       "<re.Match object; span=(18, 26), match='engineer'>"
      ]
     },
     "execution_count": 5,
     "metadata": {},
     "output_type": "execute_result"
    }
   ],
   "source": [
    "import re\n",
    "\n",
    "# below code searches the 'engineer'\n",
    "\n",
    "s = 'Kunal: A Software engineer from India'\n",
    "\n",
    "match = re.search(r'engineer', s)  # r->raw\n",
    "\n",
    "print('Start Index:', match.start())\n",
    "print('End Index:', match.end())\n",
    "match"
   ]
  },
  {
   "cell_type": "code",
   "execution_count": 313,
   "id": "fde9f21a-2638-45b6-a018-0f5cc1992275",
   "metadata": {},
   "outputs": [],
   "source": [
    "# ------------------- Python RegEx Quick Notes -------------------\n",
    "\n",
    "# re.findall() -> Returns all matching occurrences as a list.\n",
    "# re.compile() -> Compiles a regex pattern into a pattern object.\n",
    "# re.split()   -> Splits a string by a pattern.\n",
    "# re.sub()     -> Replace all matches with a replacement string.\n",
    "# re.subn()    -> Same as re.sub() but returns (new_string, count).\n",
    "# re.escape()  -> Escapes special regex characters.\n",
    "# re.search()  -> Finds first occurrence of a pattern.\n",
    "\n",
    "# ---------- Common Metacharacters ----------\n",
    "# \\   -> Escape special character\n",
    "# []  -> Character class\n",
    "# ^   -> Start of string\n",
    "# $   -> End of string\n",
    "# .   -> Any character except newline\n",
    "# |   -> OR\n",
    "# ?   -> 0 or 1 occurrence\n",
    "# *   -> 0 or more occurrences\n",
    "# +   -> 1 or more occurrences\n",
    "# {}  -> Number of occurrences {m,n}\n",
    "# ()  -> Group\n",
    "\n",
    "# ---------- Special Sequences ----------\n",
    "# \\A  -> Match start of string\n",
    "# \\b  -> Word boundary\n",
    "# \\B  -> Non-word boundary\n",
    "# \\d  -> Digit [0-9]\n",
    "# \\D  -> Non-digit\n",
    "# \\s  -> Whitespace\n",
    "# \\S  -> Non-whitespace\n",
    "# \\w  -> Word char [a-zA-Z0-9_]\n",
    "# \\W  -> Non-word char\n",
    "# \\Z  -> Match end of string\n",
    "\n",
    "# ---------- Match Object ----------\n",
    "# .re       -> Pattern used\n",
    "# .string   -> Original string\n",
    "# .start()  -> Start index of match\n",
    "# .end()    -> End index of match\n",
    "# .span()   -> (start, end) tuple\n",
    "# .group()  -> Entire matched text\n",
    "# .groups() -> Tuple of matched groups\n",
    "# .group(n) -> Specific group\n",
    "# .groupdict() -> Named groups as dict\n",
    "\n",
    "# ---------- Useful Patterns ----------\n",
    "# [abc]      -> Match a, b, or c\n",
    "# [a-z]      -> Match lowercase letters\n",
    "# [^abc]     -> Match anything except a, b, or c\n",
    "# colou?r    -> Match \"color\" or \"colour\"\n",
    "# \\d{2}-\\d{2}-\\d{4} -> Match date (dd-mm-yyyy)\n",
    "# (a|b)cd    -> Match \"acd\" or \"bcd\"\n",
    "# n(?!e)     -> 'n' not followed by 'e' (negative lookahead)\n",
    "# n(?=e)     -> 'n' followed by 'e' (positive lookahead)\n",
    "\n",
    "# ---------- Substitution ----------\n",
    "# re.sub(pattern, repl, string)  -> Replace text\n",
    "# re.subn(pattern, repl, string) -> Replace text + return count\n"
   ]
  },
  {
   "cell_type": "code",
   "execution_count": 348,
   "id": "e07f289f-0f10-4867-bbe0-27eb70dd91d9",
   "metadata": {},
   "outputs": [
    {
     "name": "stdout",
     "output_type": "stream",
     "text": [
      "['apple', 'apple']\n",
      "['24', '7']\n",
      "['Hello', 'World', 'Python']\n",
      "orange, banana, cherry, orange\n",
      "orange, banana, cherry, orange 2\n",
      "Hello\\.\\ How\\ are\\ you\\?\n",
      "Found at: 7\n",
      "['che']\n",
      "['apple']\n",
      "['apple']\n",
      "['a', 'a', 'a']\n",
      "['aa', 'aa']\n",
      "['1', '0', '1']\n",
      "['R', 'o', 'o', 'm', ' ']\n",
      "[' ']\n",
      "['H', 'e', 'l', 'l', 'o', '_', '1', '2', '3']\n",
      "bana\n",
      "('ba', 'na')\n",
      "0 4\n",
      "(0, 4)\n",
      "['n', 'n']\n",
      "[]\n"
     ]
    }
   ],
   "source": [
    "import re\n",
    "\n",
    "# ---------- 1. re.findall() ----------\n",
    "text = \"apple, banana, cherry, apple\"\n",
    "matches = re.findall(r\"apple\", text)\n",
    "print(matches)  \n",
    "# ['apple', 'apple']\n",
    "\n",
    "# ---------- 2. re.compile() ----------\n",
    "pattern = re.compile(r\"\\d+\")\n",
    "print(pattern.findall(\"There are 24 apples and 7 bananas\"))\n",
    "# ['24', '7']\n",
    "\n",
    "# ---------- 3. re.split() ----------\n",
    "print(re.split(r\"\\s+\", \"Hello   World  Python\"))\n",
    "# ['Hello', 'World', 'Python']\n",
    "\n",
    "# ---------- 4. re.sub() ----------\n",
    "print(re.sub(r\"apple\", \"orange\", text))\n",
    "# orange, banana, cherry, orange\n",
    "\n",
    "# ---------- 5. re.subn() ----------\n",
    "new_text, count = re.subn(r\"apple\", \"orange\", text)\n",
    "print(new_text, count)\n",
    "# orange, banana, cherry, orange 2\n",
    "\n",
    "# ---------- 6. re.escape() ----------\n",
    "print(re.escape(\"Hello. How are you?\"))\n",
    "# Hello\\.\\ How\\ are\\ you\\?\n",
    "\n",
    "# ---------- 7. re.search() ----------\n",
    "match = re.search(r\"banana\", text)\n",
    "if match:\n",
    "    print(\"Found at:\", match.start())\n",
    "# Found at: 7\n",
    "\n",
    "# ---------- Metacharacters ----------\n",
    "# '.' matches any character except newline\n",
    "print(re.findall(r\"c..\", text))  \n",
    "# ['che']\n",
    "\n",
    "# '^' matches start of string\n",
    "print(re.findall(r\"^apple\", text))  \n",
    "# ['apple']\n",
    "\n",
    "# '$' matches end of string\n",
    "print(re.findall(r\"apple$\", text))  \n",
    "# ['apple']\n",
    "\n",
    "# '[]' matches any char inside\n",
    "print(re.findall(r\"[aeiou]\", \"banana\"))  \n",
    "# ['a', 'a', 'a']\n",
    "\n",
    "# '{}' for exact/ range occurrences\n",
    "print(re.findall(r\"a{2}\", \"baanaana\"))  \n",
    "# ['aa', 'aa']\n",
    "\n",
    "# ---------- Special Sequences ----------\n",
    "print(re.findall(r\"\\d\", \"Room 101\"))   # ['1', '0', '1']\n",
    "print(re.findall(r\"\\D\", \"Room 101\"))   # ['R', 'o', 'o', 'm', ' ']\n",
    "print(re.findall(r\"\\s\", \"Hello World\"))# [' ']\n",
    "print(re.findall(r\"\\w\", \"Hello_123\"))  # ['H', 'e', 'l', 'l', 'o', '_', '1', '2', '3']\n",
    "\n",
    "# ---------- Match object ----------\n",
    "m = re.search(r\"(ba)(na)\", \"banana\")\n",
    "print(m.group())      # banana\n",
    "print(m.groups())     # ('ba', 'na')\n",
    "print(m.start(), m.end())  # 0 6\n",
    "print(m.span())       # (0, 6)\n",
    "\n",
    "# ---------- Lookahead & Lookbehind ----------\n",
    "# Positive lookahead\n",
    "print(re.findall(r\"n(?=a)\", \"banana\"))  # ['n', 'n']\n",
    "# Negative lookahead\n",
    "print(re.findall(r\"n(?!a)\", \"banana\"))  # []\n"
   ]
  },
  {
   "cell_type": "code",
   "execution_count": 9,
   "id": "ce57162b-034f-4f61-9db0-3f22dd0e37e4",
   "metadata": {},
   "outputs": [
    {
     "name": "stdout",
     "output_type": "stream",
     "text": [
      "K\n",
      "U\n",
      "N\n",
      "2\n",
      "4\n",
      "6\n",
      "8\n",
      "10\n",
      "100\n",
      "200\n",
      "300\n",
      "End of iteration\n"
     ]
    }
   ],
   "source": [
    "# ---------------------------\n",
    "# Iterators in Python\n",
    "# ---------------------------\n",
    "\n",
    "# An iterator is an object that allows traversal through elements of a collection\n",
    "# Implements two methods:\n",
    "# __iter__(): Returns the iterator object\n",
    "# __next__(): Returns the next element, raises StopIteration when done\n",
    "\n",
    "# Why Iterators?\n",
    "# - Lazy Evaluation: Saves memory by generating items on demand\n",
    "# - Works with generators & itertools\n",
    "# - Remembers position between calls\n",
    "# - Consistent looping for various data types\n",
    "\n",
    "# ---------------------------\n",
    "# Built-in Iterator Example\n",
    "# ---------------------------\n",
    "s = \"KUNAL\"\n",
    "it = iter(s)  # Convert iterable to iterator\n",
    "\n",
    "print(next(it))  # K\n",
    "print(next(it))  # U\n",
    "print(next(it))  # N\n",
    "\n",
    "# ---------------------------\n",
    "# Custom Iterator Example\n",
    "# ---------------------------\n",
    "class EvenNumbers:\n",
    "    def __iter__(self):\n",
    "        self.n = 2\n",
    "        return self\n",
    "    \n",
    "    def __next__(self):\n",
    "        x = self.n\n",
    "        self.n += 2\n",
    "        return x\n",
    "\n",
    "even = EvenNumbers()\n",
    "it = iter(even)\n",
    "\n",
    "print(next(it))  # 2\n",
    "print(next(it))  # 4\n",
    "print(next(it))  # 6\n",
    "print(next(it))  # 8\n",
    "print(next(it))  # 10\n",
    "\n",
    "# ---------------------------\n",
    "# StopIteration Handling\n",
    "# ---------------------------\n",
    "li = [100, 200, 300]\n",
    "it = iter(li)\n",
    "\n",
    "while True:\n",
    "    try:\n",
    "        print(next(it))\n",
    "    except StopIteration:\n",
    "        print(\"End of iteration\")\n",
    "        break\n",
    "\n",
    "# ---------------------------\n",
    "# Iterator vs Iterable\n",
    "# ---------------------------\n",
    "# Iterable: Any object that can return an iterator (has __iter__())\n",
    "# Iterator: Object with state, returns next element (has __iter__() & __next__())\n",
    "# Example:\n",
    "# List, tuple, string → iterable\n",
    "# iter(list), iter(tuple) → iterator\n"
   ]
  },
  {
   "cell_type": "code",
   "execution_count": 17,
   "id": "9f830fb9-1682-4923-b963-9cfedf6a8974",
   "metadata": {},
   "outputs": [
    {
     "name": "stdout",
     "output_type": "stream",
     "text": [
      "1\n",
      "2\n",
      "3\n",
      "4\n",
      "5\n",
      "1\n",
      "2\n",
      "3\n",
      "6\n",
      "1\n",
      "4\n",
      "9\n",
      "16\n",
      "25\n",
      "<class 'generator'>\n",
      "<generator object <genexpr> at 0x000001EE0BBA6740>\n",
      "0 1 1 2 3 5 8 13 21 34 "
     ]
    }
   ],
   "source": [
    "# ---------------------------\n",
    "# Generators in Python\n",
    "# ---------------------------\n",
    "\n",
    "# A generator function is a special function that returns an iterator object.\n",
    "# Uses `yield` instead of `return` to produce values one at a time.\n",
    "# Execution pauses after each `yield` and resumes from the same point on the next call.\n",
    "\n",
    "# ---------------------------\n",
    "# Basic Generator Example\n",
    "# ---------------------------\n",
    "def fun(max):\n",
    "    cnt = 1\n",
    "    while cnt <= max:\n",
    "        yield cnt\n",
    "        cnt += 1\n",
    "\n",
    "ctr = fun(5)  # Generator object\n",
    "for n in ctr:\n",
    "    print(n)\n",
    "# Output: 1 2 3 4 5\n",
    "\n",
    "# ---------------------------\n",
    "# Why Generators?\n",
    "# ---------------------------\n",
    "# 1. Memory Efficient: No need to store entire data in memory.\n",
    "# 2. Lazy Evaluation: Values computed only when requested.\n",
    "# 3. Infinite Sequences: Can generate endless data without overflow.\n",
    "# 4. Pipeline Processing: Can chain multiple generators for staged processing.\n",
    "\n",
    "# ---------------------------\n",
    "# Creating a Simple Generator\n",
    "# ---------------------------\n",
    "def my_gen():\n",
    "    yield 1\n",
    "    yield 2\n",
    "    yield 3\n",
    "\n",
    "for val in my_gen():\n",
    "    print(val)\n",
    "# Output: 1 2 3\n",
    "\n",
    "# ---------------------------\n",
    "# Yield vs Return\n",
    "# ---------------------------\n",
    "# yield → pauses function, returns value, retains state.\n",
    "# return → ends function immediately, returns final value.\n",
    "\n",
    "# Example with return\n",
    "def sum_func():\n",
    "    return 1 + 2 + 3\n",
    "\n",
    "res = sum_func()\n",
    "print(res)  # Output: 6\n",
    "\n",
    "# ---------------------------\n",
    "# Generator Expression\n",
    "# ---------------------------\n",
    "# Syntax: (expression for item in iterable)\n",
    "sq = (x*x for x in range(1, 6))\n",
    "for i in sq:\n",
    "    print(i)\n",
    "# Output: 1 4 9 16 25\n",
    "print(type(sq))\n",
    "print\n",
    "\n",
    "# ---------------------------\n",
    "# Fibonacci with Generator\n",
    "# ---------------------------\n",
    "def fibonacci():\n",
    "    a, b = 0, 1\n",
    "    while True:\n",
    "        yield a\n",
    "        a, b = b, a + b\n",
    "\n",
    "fib = fibonacci()\n",
    "for _ in range(10):\n",
    "    print(next(fib), end=\" \")\n",
    "# Output: 0 1 1 2 3 5 8 13 21 34\n",
    "\n",
    "# ---------------------------\n",
    "# Applications\n",
    "# ---------------------------\n",
    "# - Reading large files line-by-line without loading into memory\n",
    "# - Processing infinite or very large streams of data\n",
    "# - Creating complex pipelines without extra lists\n"
   ]
  },
  {
   "cell_type": "markdown",
   "id": "5305ed94-a4aa-4a4b-a0cb-62b5660f0e01",
   "metadata": {},
   "source": [
    "# OOPs\n",
    "[🏠](#Python-Programming)"
   ]
  },
  {
   "cell_type": "markdown",
   "id": "d83c4624-a4eb-4c67-ae61-93ed081ed010",
   "metadata": {},
   "source": [
    "## Object Oriented Programming style - OOPS\r\n",
    "\r\n",
    "Object-Oriented Programming (OOP) in Python is a programming paradigm where objects (data and methods) are used to design and organize code. It provides a way to structure and model complex systems using concepts like **classes**, **objects**, **inheritance**, **polymorphism**, **encapsulation**, and **abstraction**.\r\n",
    "\r\n",
    "#### Key OOP Concepts in Python:\r\n",
    "#### **1. Classes and Objects**\r\n",
    "- **Class**: A blueprint for creating objects (instances). A class defines properties (attributes) and behaviors (methods) that the objects created from the class can have.\r\n",
    "\r\n",
    "- **Object**: An instance of a class. When a class is defined, objects are created from the class."
   ]
  },
  {
   "cell_type": "code",
   "execution_count": 7,
   "id": "5b808bbb-f02b-4812-a986-85525b42d37b",
   "metadata": {},
   "outputs": [
    {
     "name": "stdout",
     "output_type": "stream",
     "text": [
      "4\n",
      "The Toyota Corolla is starting.\n"
     ]
    }
   ],
   "source": [
    "class Car:\n",
    "    # Class attribute\n",
    "    wheels = 4\n",
    "    \n",
    "    # Constructor\n",
    "    def __init__(self, make, model):\n",
    "        # Instance attributes\n",
    "        self.make = make\n",
    "        self.model = model\n",
    "    \n",
    "    # Method\n",
    "    def start(self):\n",
    "        print(f\"The {self.make} {self.model} is starting.\")\n",
    "\n",
    "# Creating an object (instance of the class)\n",
    "my_car = Car(\"Toyota\", \"Corolla\")\n",
    "\n",
    "# Accessing class attribute\n",
    "print(my_car.wheels)  # Output: 4\n",
    "\n",
    "# Calling a method\n",
    "my_car.start()  # Output: The Toyota Corolla is starting.\n"
   ]
  },
  {
   "cell_type": "markdown",
   "id": "2ea15221-48bd-4432-bf39-3307285f941a",
   "metadata": {},
   "source": [
    "#### The __init__() Function\n",
    "\n",
    "The `__init__()` function in Python is a special method, also known as a constructor. It is automatically called when a new instance of a class is created. The primary role of `__init__()` is to initialize the object's attributes (i.e., assign values to the instance variables).\n",
    "\n",
    "##### **Key Points**:\n",
    "- The `__init__()` function is optional but is commonly used to set up initial states for objects.\n",
    "- It can take parameters to initialize the attributes of the class.\n",
    "- It is the first method executed when an object is created.\n",
    "- The first parameter of `__init__()` is always self, which refers to the current instance of the class.\n"
   ]
  },
  {
   "cell_type": "code",
   "execution_count": 10,
   "id": "8106653f-ea81-4844-a025-5071986e31ca",
   "metadata": {},
   "outputs": [
    {
     "name": "stdout",
     "output_type": "stream",
     "text": [
      "kunal\n",
      "20\n",
      "My name is kunal and I am 20 years old.\n"
     ]
    }
   ],
   "source": [
    "class Person:\n",
    "    def __init__(self, name, age):\n",
    "        self.name = name  # Instance attribute\n",
    "        self.age = age    # Instance attribute\n",
    "\n",
    "    def introduce(self):\n",
    "        print(f\"My name is {self.name} and I am {self.age} years old.\")\n",
    "\n",
    "# Creating an object (instance) of the Person class\n",
    "person1 = Person(\"kunal\", 20)\n",
    "\n",
    "# Accessing the attributes\n",
    "print(person1.name)  # Output: kunal\n",
    "print(person1.age)   # Output: 20\n",
    "\n",
    "# Calling the method\n",
    "person1.introduce()  # Output: My name is kunal and I am 20 years old.\n"
   ]
  },
  {
   "cell_type": "code",
   "execution_count": 19,
   "id": "96acf016-5787-4e12-984d-f5e94ead331b",
   "metadata": {},
   "outputs": [
    {
     "name": "stdout",
     "output_type": "stream",
     "text": [
      "Unknown\n",
      "0\n"
     ]
    }
   ],
   "source": [
    "# can also provide default values for the parameters in the __init__() function\n",
    "\n",
    "\n",
    "class Person:\n",
    "    def __init__(self, name=\"Unknown\", age=0):\n",
    "        self.name = name\n",
    "        self.age = age\n",
    "\n",
    "person2 = Person()\n",
    "print(person2.name)  # Output: Unknown\n",
    "print(person2.age)   # Output: 0\n"
   ]
  },
  {
   "cell_type": "markdown",
   "id": "19ced99e-75e3-4e6b-9c1a-818867248a38",
   "metadata": {},
   "source": [
    "#### The __str__() Function\n",
    "The `__str__()` function in Python is a special method used to define a human-readable string representation of an object. It is automatically called when you use the print() function or str() on an object. The purpose of `__str__()` is to return a string that is meaningful and easily understandable for the end-user when printing an instance of the class.\n",
    "\n",
    "**Key Points**:\n",
    "- The`__str__()` method should return a string that describes the object in a readable way.\n",
    "- If you don't define the `__str__()` method, the default output is a memory address or an object type string, which isn't very informative.\n",
    "- It is different from `__repr__()`, which is used for generating a more detailed, developer-focused string representation of the object\n"
   ]
  },
  {
   "cell_type": "code",
   "execution_count": 30,
   "id": "7fa9c3ed-535f-4d78-886a-b09136f42864",
   "metadata": {},
   "outputs": [
    {
     "name": "stdout",
     "output_type": "stream",
     "text": [
      "Person(name: Alice, age: 30)\n"
     ]
    },
    {
     "data": {
      "text/plain": [
       "'Person(name: Alice, age: 30)'"
      ]
     },
     "execution_count": 30,
     "metadata": {},
     "output_type": "execute_result"
    }
   ],
   "source": [
    "class Person:\n",
    "    def __init__(self, name, age):\n",
    "        self.name = name\n",
    "        self.age = age\n",
    "\n",
    "    def __str__(self):\n",
    "        return f\"Person(name: {self.name}, age: {self.age})\"\n",
    "\n",
    "# Creating an object of the Person class\n",
    "person1 = Person(\"Alice\", 30)\n",
    "\n",
    "# Printing the object\n",
    "print(person1)\n",
    "str(person1)"
   ]
  },
  {
   "cell_type": "markdown",
   "id": "ded70f60-f365-4402-8de7-8ce264f8fc1a",
   "metadata": {},
   "source": [
    "**Difference between** __str__() **and** __repr__():\n",
    "\n",
    "- __str__() is for users and should return a readable and clean output.\n",
    "\n",
    "- __repr__() is for developers and should ideally return a string that could be used to recreate the object."
   ]
  },
  {
   "cell_type": "code",
   "execution_count": 34,
   "id": "609b2ce0-16ae-4d3d-8917-14e2c9ec0878",
   "metadata": {},
   "outputs": [
    {
     "name": "stdout",
     "output_type": "stream",
     "text": [
      "Person(name: Charlie, age: 22)\n",
      "Person('Charlie', 22)\n"
     ]
    }
   ],
   "source": [
    "class Person:\n",
    "    def __init__(self, name, age):\n",
    "        self.name = name\n",
    "        self.age = age\n",
    "\n",
    "    def __str__(self):\n",
    "        return f\"Person(name: {self.name}, age: {self.age})\"\n",
    "\n",
    "    def __repr__(self):\n",
    "        return f\"Person('{self.name}', {self.age})\"\n",
    "\n",
    "person3 = Person(\"Charlie\", 22)\n",
    "print(str(person3))   # Output: Person(name: Charlie, age: 22)\n",
    "print(repr(person3))  # Output: Person('Charlie', 22)\n"
   ]
  },
  {
   "cell_type": "markdown",
   "id": "a8949ba6-726b-449b-b7ea-f6924bc8ec40",
   "metadata": {},
   "source": [
    "#### **The self**\n",
    "\n",
    "In Python, `self` is a convention used as the first parameter in instance methods to refer to the current instance (object) of the class. When you call a method on an object, Python automatically passes the object itself as the first argument to the method, which is represented by `self`.\n",
    "\n",
    "**Key Points**:\n",
    "- **Purpose**: Refers to the current object.\n",
    "- **Usage**: First parameter in instance methods.\n",
    "- **Access**: Used to access instance attributes (e.g., `self.attribute`).\n",
    "- **Convention**: Not a keyword, but a strong naming convention."
   ]
  },
  {
   "cell_type": "code",
   "execution_count": 37,
   "id": "ab7f16e6-1cc1-4ab5-8ee4-22de5c8cf82d",
   "metadata": {},
   "outputs": [
    {
     "name": "stdout",
     "output_type": "stream",
     "text": [
      "Toyota\n"
     ]
    }
   ],
   "source": [
    "class Car:\n",
    "    def __init__(self, make):\n",
    "        self.make = make  # 'self.make' is an instance variable\n",
    "\n",
    "    def display(self):\n",
    "        print(self.make)\n",
    "\n",
    "car1 = Car(\"Toyota\")\n",
    "car1.display()  # Output: Toyota\n"
   ]
  },
  {
   "cell_type": "markdown",
   "id": "148ae50b-e1e8-4c4a-b486-cf8387276928",
   "metadata": {},
   "source": [
    "#### Methods:\n",
    "Methods are functions defined inside a class that represent behaviors of an object.\n",
    "\n",
    "- **Instance Methods**: Require an instance of the class to be called and can access instance attributes.\n",
    "- **Class Methods**: Operate on class attributes and are defined using the `@classmethod decorator`.\n",
    "- **Static Methods**: Do not access class or instance data and are defined using the `@staticmethod decorator`."
   ]
  },
  {
   "cell_type": "code",
   "execution_count": 51,
   "id": "7ad63844-d26e-47d2-b5b6-b9d420a1166b",
   "metadata": {},
   "outputs": [],
   "source": [
    "class Circle:\n",
    "    pi = 3.14  # Class attribute\n",
    "\n",
    "    def __init__(self, radius):\n",
    "        self.radius = radius  # Instance attribute\n",
    "\n",
    "    def area(self):  # Instance method\n",
    "        return f\"Area: {Circle.pi * (self.radius ** 2)}\"\n",
    "\n",
    "    @classmethod\n",
    "    def info(cls):  # Class method\n",
    "        return f\"This class represents a circle with pi value {cls.pi}\"\n",
    "\n",
    "    @staticmethod\n",
    "    def is_positive(num):  # Static method\n",
    "        return num > 0\n"
   ]
  },
  {
   "cell_type": "code",
   "execution_count": 59,
   "id": "efb4d83d-7373-4ef8-bb6d-5ae0a11c9c31",
   "metadata": {},
   "outputs": [
    {
     "data": {
      "text/plain": [
       "'Area: 28.26'"
      ]
     },
     "execution_count": 59,
     "metadata": {},
     "output_type": "execute_result"
    }
   ],
   "source": [
    "gola = Circle(3)\n",
    "gola.area()\n",
    "\n",
    "# Circle.info()\n",
    "\n",
    "# Circle.is_positive(-1)"
   ]
  },
  {
   "cell_type": "markdown",
   "id": "a493c63a-fd38-4051-8a8d-5750c505f3f9",
   "metadata": {},
   "source": [
    "#### Abstraction:\n",
    "Abstraction hides the internal implementation details and shows only the necessary functionality. It is achieved using **abstract classes** and **abstract methods**, which must be defined in child classes. Abstract classes are created using the `abc` module."
   ]
  },
  {
   "cell_type": "code",
   "execution_count": 63,
   "id": "e7633cb6-071c-4c16-966d-2f07085fbbae",
   "metadata": {},
   "outputs": [
    {
     "name": "stdout",
     "output_type": "stream",
     "text": [
      "16\n"
     ]
    }
   ],
   "source": [
    "from abc import ABC, abstractmethod\n",
    "\n",
    "class Shape(ABC):\n",
    "    @abstractmethod\n",
    "    def area(self):\n",
    "        pass\n",
    "\n",
    "class Square(Shape):\n",
    "    def __init__(self, side):\n",
    "        self.side = side\n",
    "\n",
    "    def area(self):\n",
    "        return self.side * self.side\n",
    "\n",
    "square = Square(4)\n",
    "print(square.area())  # Output: 16\n"
   ]
  },
  {
   "cell_type": "markdown",
   "id": "c8e00d61-adeb-40d3-aca8-739e858603df",
   "metadata": {},
   "source": [
    "#### Destructors (__del__() Method):\n",
    "The `__del__()` method is the destructor in Python, which is called when an object is about to be destroyed. It's used for cleanup actions."
   ]
  },
  {
   "cell_type": "code",
   "execution_count": 66,
   "id": "82706667-f650-4247-a958-899a9b24a941",
   "metadata": {},
   "outputs": [
    {
     "name": "stdout",
     "output_type": "stream",
     "text": [
      "Car object is created!\n",
      "Car object is destroyed!\n"
     ]
    }
   ],
   "source": [
    "class Car:\n",
    "    def __init__(self):\n",
    "        print(\"Car object is created!\")\n",
    "    def __del__(self):\n",
    "        print(\"Car object is destroyed!\")\n",
    "\n",
    "car1 = Car()\n",
    "del car1  # Output: Car object is destroyed\n"
   ]
  },
  {
   "cell_type": "markdown",
   "id": "cd0b97d8-a1e1-4439-8132-6a112c9e88ed",
   "metadata": {},
   "source": [
    "# Operator Overloading in Python\n",
    "\n",
    "**Operator Overloading** in Python allows you to define or change the behavior of built-in operators for user-defined objects. This enables operators like `+`, `-`, `*`, `==`, etc., to work with objects (instances of a class) in a meaningful way.\n",
    "\n",
    "In Python, operator overloading is achieved by defining special methods, also known as **magic methods** or **dunder methods** (methods surrounded by double underscores `__`).\n",
    "\n",
    "## Common Special Methods for Operator Overloading:\n",
    "\n",
    "| Operator | Special Method             |\n",
    "|----------|----------------------------|\n",
    "| `+`      | `__add__(self, other)`      |\n",
    "| `-`      | `__sub__(self, other)`      |\n",
    "| `*`      | `__mul__(self, other)`      |\n",
    "| `/`      | `__truediv__(self, other)`  |\n",
    "| `==`     | `__eq__(self, other)`       |\n",
    "| `<`      | `__lt__(self, other)`       |\n",
    "| `<=`     | `__le__(self, other)`       |\n",
    "| `>`      | `__gt__(self, other)`       |\n",
    "| `>=`     | `__ge__(self, other)`       |\n",
    "\n",
    "### Example of Operator Overloading\n",
    "\n",
    "#### Overloading the `+` Operator:\n",
    "\n",
    "```python\n",
    "class Point:\n",
    "    def __init__(self, x, y):\n",
    "        self.x = x\n",
    "        self.y = y\n",
    "\n",
    "    def __add__(self, other):\n",
    "        return Point(self.x + other.x, self.y + other.y)\n",
    "\n",
    "    def __repr__(self):\n",
    "        return f\"Point({self.x}, {self.y})\"\n",
    "\n",
    "# Create two Point objects\n",
    "p1 = Point(1, 2)\n",
    "p2 = Point(3, 4)\n",
    "\n",
    "# Add them using overloaded + operator\n",
    "p3 = p1 + p2  # This calls p1.__add__(p2)\n",
    "print(p3)     # Output: Point(4, 6)\n"
   ]
  },
  {
   "cell_type": "code",
   "execution_count": 73,
   "id": "2ef68305-3b4c-422a-b158-8ab8930c6909",
   "metadata": {},
   "outputs": [
    {
     "name": "stdout",
     "output_type": "stream",
     "text": [
      "True\n",
      "Book(1984, George Orwell)\n"
     ]
    }
   ],
   "source": [
    "class Book:\n",
    "    def __init__(self, title, author):\n",
    "        self.title = title\n",
    "        self.author = author\n",
    "\n",
    "    def __eq__(self, other):\n",
    "        return self.title == other.title and self.author == other.author\n",
    "\n",
    "    def __repr__(self):\n",
    "        return f\"Book({self.title}, {self.author})\"\n",
    "\n",
    "# Create two Book objects\n",
    "book1 = Book(\"1984\", \"George Orwell\")\n",
    "book2 = Book(\"1984\", \"George Orwell\")\n",
    "\n",
    "# Compare them using the overloaded == operator\n",
    "print(book1 == book2)  # Output: True\n",
    "print(book1)"
   ]
  },
  {
   "cell_type": "markdown",
   "id": "4dbcd3b2-c944-47d8-a1e0-46d9293f6a64",
   "metadata": {},
   "source": [
    "## Why Use Operator Overloading?\n",
    "\n",
    "- **Intuitive Syntax**: It makes your custom objects behave like built-in types.\n",
    "- **Code Readability**: Simplifies code by using operators in a meaningful way for custom classes.\n",
    "- **Flexibility**: You can define how operators should behave for your objects.\n",
    "\n",
    "## Other Operators and Magic Methods:\n",
    "\n",
    "### Comparison Operators:\n",
    "- `__eq__(self, other)` for `==`\n",
    "- `__ne__(self, other)` for `!=`\n",
    "- `__lt__(self, other)` for `<`\n",
    "- `__le__(self, other)` for `<=`\n",
    "- `__gt__(self, other)` for `>`\n",
    "- `__ge__(self, other)` for `>=`\n",
    "\n",
    "### Unary Operators:\n",
    "- `__neg__(self)` for unary `-` (negation)\n",
    "- `__pos__(self)` for unary `+` (positive)\n",
    "\n",
    "### Other Arithmetic Operators:\n",
    "- `__sub__(self, other)` for `-` (subtraction)\n",
    "- `__mul__(self, other)` for `*` (multiplication)\n",
    "- `__truediv__(self, other)` for `/` (division)\n",
    "- `__floordiv__(self, other)` for `//` (floor division)\n",
    "- `__mod__(self, other)` for `%` (modulo)\n",
    "\n",
    "### In-Place Operators:\n",
    "- `__iadd__(self, other)` for `+=`\n",
    "- `__isub__(self, other)` for `-=`\n",
    "- `__imul__(self, other)` for `*=`\n",
    "- `__itruediv__(self, other)` for `/=`\n"
   ]
  },
  {
   "cell_type": "markdown",
   "id": "5afd11df-4758-413d-a6fd-d14535513870",
   "metadata": {},
   "source": [
    "#### Inheritance\n",
    "Certainly! Inheritance is a fundamental concept in object-oriented programming (OOP) that allows a class (the **derived class** or **child class**) to inherit attributes and methods from another class (the **base class** or **parent class**). This mechanism promotes code reuse, modular design, and the creation of hierarchical relationships between classes.\n",
    "\n",
    "**Key Points**:\n",
    "- **Reuse of code**: Inheritance allows a child class to reuse the code and functionality of the parent class.\n",
    "- **Extend functionality**: The child class can add new attributes or methods, or override existing ones from the parent class.\n",
    "- **Types of inheritance**: Single inheritance, multiple inheritance, multilevel inheritance, hierarchical inheritance."
   ]
  },
  {
   "cell_type": "markdown",
   "id": "233214f3-e13e-4393-a924-08e9a5152ab3",
   "metadata": {},
   "source": [
    "#### **Types of Inheritance**:\n",
    "1. **Single Inheritance**:  A derived class inherits from a single base class."
   ]
  },
  {
   "cell_type": "code",
   "execution_count": 89,
   "id": "1a7b6ccb-d593-4ea5-a596-82ca79649ea0",
   "metadata": {},
   "outputs": [
    {
     "name": "stdout",
     "output_type": "stream",
     "text": [
      "This is the Parent class.\n",
      "This is the Child class.\n"
     ]
    }
   ],
   "source": [
    "class Parent:\n",
    "    def show(self):\n",
    "        print(\"This is the Parent class.\")\n",
    "\n",
    "class Child(Parent):\n",
    "    def display(self):\n",
    "        print(\"This is the Child class.\")\n",
    "\n",
    "# Example usage\n",
    "child = Child()\n",
    "child.show()    # Inherited from Parent\n",
    "child.display() # Defined in Child\n"
   ]
  },
  {
   "cell_type": "markdown",
   "id": "fe9ccd43-86bc-444d-9872-15e06e8c1f95",
   "metadata": {},
   "source": [
    "2. **Multiple Inheritance**:  A derived class inherits from multiple base classes."
   ]
  },
  {
   "cell_type": "code",
   "execution_count": 92,
   "id": "278e6516-9167-4656-ba2e-8e2754dbed34",
   "metadata": {},
   "outputs": [
    {
     "name": "stdout",
     "output_type": "stream",
     "text": [
      "This is papa.\n",
      "This is mamma.\n",
      "Hello from the Child class.\n"
     ]
    }
   ],
   "source": [
    "class Papa:\n",
    "    def show(self):\n",
    "        print(\"This is papa.\")\n",
    "\n",
    "class Mamma:\n",
    "    def display(self):\n",
    "        print(\"This is mamma.\")\n",
    "\n",
    "class Child(Papa, Mamma):\n",
    "    def greet(self):\n",
    "        print(\"Hello from the Child class.\")\n",
    "\n",
    "# Example usage\n",
    "child = Child()\n",
    "child.show()    # Inherited from Parent1\n",
    "child.display() # Inherited from Parent2\n",
    "child.greet()   # Defined in Child\n"
   ]
  },
  {
   "cell_type": "markdown",
   "id": "c59be2b8-bf45-49cf-8bc9-ce6f5899f8c7",
   "metadata": {},
   "source": [
    "3. **Multilevel Inheritance**: A class is derived from another derived class."
   ]
  },
  {
   "cell_type": "code",
   "execution_count": 95,
   "id": "772cd18f-da61-4415-b613-4a72a410a55e",
   "metadata": {},
   "outputs": [
    {
     "name": "stdout",
     "output_type": "stream",
     "text": [
      "This is the Grandparent class.\n",
      "This is the Parent class.\n",
      "Hello from the Child class.\n"
     ]
    }
   ],
   "source": [
    "class Grandparent:\n",
    "    def show(self):\n",
    "        print(\"This is the Grandparent class.\")\n",
    "\n",
    "class Parent(Grandparent):\n",
    "    def display(self):\n",
    "        print(\"This is the Parent class.\")\n",
    "\n",
    "class Child(Parent):\n",
    "    def greet(self):\n",
    "        print(\"Hello from the Child class.\")\n",
    "\n",
    "# Example usage\n",
    "child = Child()\n",
    "child.show()    # Inherited from Grandparent\n",
    "child.display() # Inherited from Parent\n",
    "child.greet()   # Defined in Child\n"
   ]
  },
  {
   "cell_type": "markdown",
   "id": "0cfb0164-a245-4cf3-a088-80a32f8bd147",
   "metadata": {},
   "source": [
    "4. **Hierarchical Inheritance**: Multiple child classes inherit from the same parent class"
   ]
  },
  {
   "cell_type": "code",
   "execution_count": 107,
   "id": "b3d52cdd-4821-4e97-bff7-e3f0b7149f94",
   "metadata": {},
   "outputs": [
    {
     "name": "stdout",
     "output_type": "stream",
     "text": [
      "This is the Parent class.\n",
      "This is Child1 class.\n",
      "This is the Parent class.\n",
      "Hello from Child2 class.\n"
     ]
    }
   ],
   "source": [
    "class Parent:\n",
    "    def show(self):\n",
    "        print(\"This is the Parent class.\")\n",
    "\n",
    "class Child1(Parent):\n",
    "    def display(self):\n",
    "        print(\"This is Child1 class.\")\n",
    "\n",
    "class Child2(Parent):\n",
    "    def greet(self):\n",
    "        print(\"Hello from Child2 class.\")\n",
    "\n",
    "# Example usage\n",
    "child1 = Child1()\n",
    "child1.show()    # Inherited from Parent\n",
    "child1.display() # Defined in Child1\n",
    "\n",
    "child2 = Child2()\n",
    "child2.show()    # Inherited from Parent\n",
    "child2.greet()   # Defined in Child2\n"
   ]
  },
  {
   "cell_type": "markdown",
   "id": "d99ccc85-a0c4-432e-8ecf-860cc9720835",
   "metadata": {},
   "source": [
    "5. **Hybrid Inheritance**: A combination of two or more types of inheritance."
   ]
  },
  {
   "cell_type": "code",
   "execution_count": 110,
   "id": "6f8f47b0-a2a5-43b5-b509-d4e422ded59f",
   "metadata": {},
   "outputs": [
    {
     "name": "stdout",
     "output_type": "stream",
     "text": [
      "I am a Batman\n",
      "Animal sound\n",
      "Walks on legs\n",
      "Flies in the sky\n"
     ]
    }
   ],
   "source": [
    "class Animal:\n",
    "    def speak(self):\n",
    "        print(\"Animal sound\")\n",
    "\n",
    "class Mammal(Animal):\n",
    "    def walk(self):\n",
    "        print(\"Walks on legs\")\n",
    "\n",
    "class Bird(Animal):\n",
    "    def fly(self):\n",
    "        print(\"Flies in the sky\")\n",
    "\n",
    "class Bat(Mammal, Bird):\n",
    "    def __init__(self):\n",
    "        print(\"I am a Batman\")\n",
    "\n",
    "# Example usage\n",
    "bat = Bat()\n",
    "bat.speak()  # Inherited from Animal\n",
    "bat.walk()   # Inherited from Mammal\n",
    "bat.fly()    # Inherited from Bird\n"
   ]
  },
  {
   "cell_type": "markdown",
   "id": "481b1d83-7e7a-43b4-8f2b-b5601cdd2f43",
   "metadata": {},
   "source": [
    "#### **Key Concepts of Inheritance**\n",
    "1. **Base Class**: The class being inherited from. It can have attributes and methods that are common to all derived classes.\n",
    "\n",
    "2. **Derived Class**: The class that inherits from the base class. It can have additional attributes and methods or override methods from the base class.\n",
    "\n",
    "3. **Access Specifiers**: In Python, access control is not as strict as in some other languages like C++. However, naming conventions are used to indicate intended access:\n",
    "\n",
    "    - **Public**: Members (attributes and methods) that can be accessed from anywhere (default).\n",
    "    - **Protected**: Members that should not be accessed outside the class and its subclasses (indicated by a single underscore prefix, e.g., `_protected_var`).\n",
    "    - **Private**: Members that should not be accessed from outside the class (indicated by a double underscore prefix, e.g., `__private_var`)."
   ]
  },
  {
   "cell_type": "code",
   "execution_count": 113,
   "id": "11b6dc78-44a4-4f31-809f-67a981208107",
   "metadata": {},
   "outputs": [
    {
     "name": "stdout",
     "output_type": "stream",
     "text": [
      "I am a public variable\n",
      "This is a public method\n"
     ]
    }
   ],
   "source": [
    "class MyClass:\n",
    "    def __init__(self):\n",
    "        self.public_var = \"I am a public variable\"\n",
    "\n",
    "    def public_method(self):\n",
    "        print(\"This is a public method\")\n",
    "\n",
    "obj = MyClass()\n",
    "print(obj.public_var)    # Accessing public variable\n",
    "obj.public_method()      # Calling public method\n"
   ]
  },
  {
   "cell_type": "code",
   "execution_count": 115,
   "id": "3215b120-912b-44e7-a934-2fa35fb59287",
   "metadata": {},
   "outputs": [
    {
     "name": "stdout",
     "output_type": "stream",
     "text": [
      "I am a protected variable\n",
      "I am a protected variable\n"
     ]
    }
   ],
   "source": [
    "class BaseClass:\n",
    "    def __init__(self):\n",
    "        self._protected_var = \"I am a protected variable\"\n",
    "\n",
    "class DerivedClass(BaseClass):\n",
    "    def access_protected(self):\n",
    "        print(self._protected_var)  # Accessing protected variable from subclass\n",
    "\n",
    "\n",
    "obj = DerivedClass()\n",
    "obj.access_protected()  # Valid access\n",
    "print(obj._protected_var)  # Valid but not recommended access\n"
   ]
  },
  {
   "cell_type": "code",
   "execution_count": 117,
   "id": "33c0f305-390c-4ffa-97bd-35cf515255a1",
   "metadata": {},
   "outputs": [
    {
     "name": "stdout",
     "output_type": "stream",
     "text": [
      "I am a private variable\n",
      "This is a private method\n",
      "I am a private variable\n"
     ]
    }
   ],
   "source": [
    "class MyClass:\n",
    "    def __init__(self):\n",
    "        self.__private_var = \"I am a private variable\"\n",
    "\n",
    "    def __private_method(self):\n",
    "        print(\"This is a private method\")\n",
    "\n",
    "    def access_private(self):\n",
    "        print(self.__private_var)  # Accessing private variable from within the class\n",
    "        self.__private_method()     # Calling private method from within the class\n",
    "\n",
    "obj = MyClass()\n",
    "obj.access_private()       # Valid access to private members\n",
    "# print(obj.__private_var)  # Raises AttributeError: 'MyClass' object has no attribute '__private_var'\n",
    "# obj.__private_method()     # Raises AttributeError: 'MyClass' object has no attribute '__private_method'\n",
    "\n",
    "# Accessing private variable using name mangling\n",
    "print(obj._MyClass__private_var)  # Accessing private variable (not recommended)\n"
   ]
  },
  {
   "cell_type": "markdown",
   "id": "90d0209a-dcaa-445b-9c10-dc9e298d6d20",
   "metadata": {},
   "source": [
    "#### **Name mangling**\n",
    "is a technique used in Python to avoid naming conflicts in subclasses, especially with private attributes and methods. When a name is prefixed with double underscores (e.g., `__private_var`), Python alters the name to include the class name, making it more unique. This is intended to prevent accidental access or modification of private members from outside the class or from subclasses.\n",
    "\n",
    "**How Name Mangling Works**\n",
    "When you define a variable or method with double underscores, Python changes its name by adding the class name as a prefix. This process is known as name mangling."
   ]
  },
  {
   "cell_type": "code",
   "execution_count": 121,
   "id": "4f5fccab-d989-4546-a0ed-4c898eff4bc6",
   "metadata": {},
   "outputs": [
    {
     "name": "stdout",
     "output_type": "stream",
     "text": [
      "'MyClass' object has no attribute '__private_var'\n",
      "I am private\n",
      "This is a private method\n",
      "None\n"
     ]
    }
   ],
   "source": [
    "class MyClass:\n",
    "    def __init__(self):\n",
    "        self.__private_var = \"I am private\"\n",
    "\n",
    "    def __private_method(self):\n",
    "        print(\"This is a private method\")\n",
    "\n",
    "# Creating an instance of MyClass\n",
    "obj = MyClass()\n",
    "\n",
    "# Accessing private members directly will raise an AttributeError\n",
    "try:\n",
    "    print(obj.__private_var)  # Raises AttributeError\n",
    "except AttributeError as e:\n",
    "    print(e)\n",
    "\n",
    "# Accessing the mangled name\n",
    "print(obj._MyClass__private_var)  # Valid access\n",
    "print(obj._MyClass__private_method())  # Valid access\n",
    "\n"
   ]
  },
  {
   "cell_type": "markdown",
   "id": "1c76bca2-effc-49f0-bd6d-9093c19bab80",
   "metadata": {},
   "source": [
    "#### **Diamond Problem**\n",
    "The **diamond problem** (also known as the **deadly diamond of death**) is a specific case of ambiguity that arises in multiple inheritance in object-oriented programming languages. It occurs when a class inherits from two classes that both inherit from a common base class. This can lead to confusion about which path to follow when accessing a method or attribute from the base class.\n",
    "\n",
    "**Illustration of the Diamond Problem**\n",
    "Here's a simple example to illustrate the diamond problem in Python:\n",
    "\n"
   ]
  },
  {
   "cell_type": "code",
   "execution_count": 124,
   "id": "b6727571-a714-4e0a-8caf-1b0d8f1071c6",
   "metadata": {},
   "outputs": [
    {
     "name": "stdout",
     "output_type": "stream",
     "text": [
      "Method from class B\n"
     ]
    }
   ],
   "source": [
    "class A:\n",
    "    def show(self):\n",
    "        print(\"Method from class A\")\n",
    "\n",
    "class B(A):\n",
    "    def show(self):\n",
    "        print(\"Method from class B\")\n",
    "\n",
    "class C(A):\n",
    "    def show(self):\n",
    "        print(\"Method from class C\")\n",
    "\n",
    "class D(B, C):\n",
    "    pass\n",
    "\n",
    "# Example usage\n",
    "d = D()\n",
    "d.show()  # Which method will be called?\n"
   ]
  },
  {
   "cell_type": "markdown",
   "id": "9587386d-86a1-4b32-be9e-d5672af1b91c",
   "metadata": {},
   "source": [
    "**Explanation**\n",
    "In this example:\n",
    "\n",
    "- Class `A` is the base class with a method `show()`.\n",
    "- Classes `B` and `C` both inherit from class `A`, and they each override the `show()` method.\n",
    "- Class `D` inherits from both `B` and `C`.\n",
    "  \n",
    "When you create an instance of class `D` and call the `show()` method, Python uses the **Method Resolution Order (MRO)** to determine which method to execute."
   ]
  },
  {
   "cell_type": "markdown",
   "id": "71263c27-6c19-46db-8911-cc88460004d4",
   "metadata": {},
   "source": [
    "#### **Method Resolution Order (MRO)**\n",
    "Python resolves the diamond problem using a specific algorithm for MRO, which is defined by the **C3 linearization algorithm**. The MRO can be viewed using the `__mro__` attribute or the `mro()` method."
   ]
  },
  {
   "cell_type": "code",
   "execution_count": 128,
   "id": "1b454296-ce6d-4b98-b453-725b7ea26941",
   "metadata": {},
   "outputs": [
    {
     "name": "stdout",
     "output_type": "stream",
     "text": [
      "(<class '__main__.D'>, <class '__main__.B'>, <class '__main__.C'>, <class '__main__.A'>, <class 'object'>)\n"
     ]
    }
   ],
   "source": [
    "print(D.__mro__)  # Output: (<class '__main__.D'>, <class '__main__.B'>, <class '__main__.C'>, <class '__main__.A'>, <class 'object'>)\n"
   ]
  },
  {
   "cell_type": "markdown",
   "id": "dadf3ef4-5722-4683-a80a-2ece88556f33",
   "metadata": {},
   "source": [
    "**The MRO for class `D` is:**\n",
    "\n",
    "1. D\n",
    "2. B\n",
    "3. C\n",
    "4. A\n",
    "5. object\n",
    " \n",
    "This means that when `d.show()` is called, Python first looks for the method in `D`, then in `B`, and finds `show()` in `B`, so it executes that method."
   ]
  },
  {
   "cell_type": "markdown",
   "id": "595de5b9-f36c-4178-a37f-4f665970ecab",
   "metadata": {},
   "source": [
    "#### **Key Points**\n",
    "1. **Ambiguity**: The diamond problem can cause ambiguity when multiple paths exist to reach a method or attribute in a base class. This ambiguity can lead to unexpected behavior if not handled properly.\n",
    "\n",
    "2. **MRO**: Python uses the C3 linearization algorithm to define a consistent MRO, ensuring that the method resolution is predictable and avoids ambiguity.\n",
    "\n",
    "3. **Avoiding Diamond Problem**: To minimize complications arising from the diamond problem, it's recommended to design class hierarchies carefully. Using composition instead of inheritance is another approach to avoid these kinds of issues."
   ]
  },
  {
   "cell_type": "markdown",
   "id": "25182c23-4fd6-4f6f-a9b5-3c9d60a7d237",
   "metadata": {},
   "source": [
    "### Polymorphism\n",
    "\n",
    "The word **Polymorphism** means \"many forms\", and in programming it refers to methods/functions/operators with the same name that can be executed on many objects or classes.\n",
    "\n",
    "There are two main types of polymorphism in Python:\n",
    "\n",
    "1. #### **Compile-time Polymorphism (Method Overloading)**:\n",
    "    Achieved by defining methods with the same name but different signatures (in terms of argument types or counts). **Python doesn't support method overloading in the traditional sense**, but similar functionality can be achieved using default or variable-length arguments.\n",
    "\n",
    "3. #### **Runtime Polymorphism (Method Overriding)**:\n",
    "   Achieved when a method defined in a subclass has the same name and signature as a method in the parent class, but its behavior differs."
   ]
  },
  {
   "cell_type": "markdown",
   "id": "519a12dd-0861-4d46-836c-ae7fd6f39adf",
   "metadata": {},
   "source": [
    "#### Function Polymorphism"
   ]
  },
  {
   "cell_type": "code",
   "execution_count": 138,
   "id": "5d6850d8-2ea1-4c67-ab34-cbe08a0caf15",
   "metadata": {},
   "outputs": [
    {
     "name": "stdout",
     "output_type": "stream",
     "text": [
      "12\n"
     ]
    }
   ],
   "source": [
    "# strings len() returns the number of characters:)\n",
    "\n",
    "x = \"Hello World!\"\n",
    "\n",
    "print(len(x))"
   ]
  },
  {
   "cell_type": "code",
   "execution_count": 140,
   "id": "e93142a1-4de7-4668-929d-d4e3bb5fb118",
   "metadata": {},
   "outputs": [
    {
     "name": "stdout",
     "output_type": "stream",
     "text": [
      "4\n"
     ]
    }
   ],
   "source": [
    "# For tuples len() returns the number of items in the tuple:)\n",
    "\n",
    "t = (10, 30, 40, 50)\n",
    "\n",
    "print(len(t))"
   ]
  },
  {
   "cell_type": "code",
   "execution_count": 142,
   "id": "e74d23fc-56b0-4cd8-8dce-75c4cca4f95d",
   "metadata": {},
   "outputs": [
    {
     "name": "stdout",
     "output_type": "stream",
     "text": [
      "3\n"
     ]
    }
   ],
   "source": [
    "# For dictionaries len() returns the number of key/value pairs in the dictionary:)\n",
    "\n",
    "thisdict = {\n",
    "  \"brand\": \"Ford\",\n",
    "  \"model\": \"Mustang\",\n",
    "  \"year\": 1964\n",
    "}\n",
    "\n",
    "print(len(thisdict))"
   ]
  },
  {
   "cell_type": "markdown",
   "id": "95d548db-dff1-443b-8537-d88d84c7f7f8",
   "metadata": {},
   "source": [
    "#### **Method Overriding**\n",
    "Derived classes can override methods from their base classes to provide specific implementations."
   ]
  },
  {
   "cell_type": "code",
   "execution_count": 145,
   "id": "adf9c224-8724-41bb-b91e-e0acba1daa51",
   "metadata": {},
   "outputs": [
    {
     "name": "stdout",
     "output_type": "stream",
     "text": [
      "Child class method\n"
     ]
    }
   ],
   "source": [
    "class Parent:\n",
    "    def show(self):\n",
    "        print(\"Parent class method\")\n",
    "\n",
    "class Child(Parent):\n",
    "    def show(self):  # Overriding the method\n",
    "        print(\"Child class method\")\n",
    "\n",
    "# Example usage\n",
    "child = Child()\n",
    "child.show()  # Output: Child class method\n"
   ]
  },
  {
   "cell_type": "markdown",
   "id": "a35c2aca-31d9-471f-896d-1bd0781932fa",
   "metadata": {},
   "source": [
    "#### **Using super()**\n",
    "The super() function is used to call methods from a parent class. This is especially useful in constructors to initialize base class attributes."
   ]
  },
  {
   "cell_type": "code",
   "execution_count": 152,
   "id": "669c70ef-e0ac-414d-beb4-40ac0a9f3e49",
   "metadata": {},
   "outputs": [
    {
     "name": "stdout",
     "output_type": "stream",
     "text": [
      "Parent constructor\n",
      "Child constructor\n"
     ]
    }
   ],
   "source": [
    "class Parent:\n",
    "    def __init__(self):\n",
    "        print(\"Parent constructor\")\n",
    "\n",
    "class Child(Parent):\n",
    "    def __init__(self):\n",
    "        super().__init__()  # Call the Parent constructor\n",
    "        print(\"Child constructor\")\n",
    "\n",
    "# Example usage\n",
    "child = Child()\n"
   ]
  },
  {
   "cell_type": "markdown",
   "id": "a2844b26-e9d8-464f-810d-6999a81d442b",
   "metadata": {},
   "source": [
    "**Method overloading** is a feature in object-oriented programming that allows a class to have more than one method with the same name but different parameters (type, number, or both). This can make it easier to use a class's methods in a flexible way, as the same method name can be used to perform different tasks based on the input parameters.\n",
    "\n",
    "**Method Overloading in Python**\n",
    "\n",
    "    While Python does not support method overloading in the same way as some other languages (like Java or C++), it can achieve similar behavior using default arguments or variable-length arguments.\n",
    "\n",
    "**Using Default Arguments**\n",
    "\n",
    "    You can define a method with default parameter values, which allows it to be called with different numbers of arguments."
   ]
  },
  {
   "cell_type": "code",
   "execution_count": 155,
   "id": "13fd99db-fc91-4d09-a3a0-fd5d92294b64",
   "metadata": {},
   "outputs": [
    {
     "name": "stdout",
     "output_type": "stream",
     "text": [
      "5\n",
      "15\n"
     ]
    }
   ],
   "source": [
    "class MathOperations:\n",
    "    def add(self, a, b=0):\n",
    "        return a + b\n",
    "\n",
    "math = MathOperations()\n",
    "print(math.add(5))        # Output: 5 (5 + 0)\n",
    "print(math.add(5, 10))    # Output: 15 (5 + 10)\n"
   ]
  },
  {
   "cell_type": "markdown",
   "id": "bcf4ec9e-2e87-4e03-9b52-27ae5651c003",
   "metadata": {},
   "source": [
    "**Using Variable-Length Arguments**\n",
    "\n",
    "You can use `*args` and `**kwargs` to define methods that can accept any number of positional or keyword arguments."
   ]
  },
  {
   "cell_type": "code",
   "execution_count": 158,
   "id": "f96effe7-016b-46f2-9b99-7c2ccd1be6a2",
   "metadata": {},
   "outputs": [
    {
     "name": "stdout",
     "output_type": "stream",
     "text": [
      "5\n",
      "15\n",
      "15\n"
     ]
    }
   ],
   "source": [
    "class MathOperations:\n",
    "    def add(self, *args):\n",
    "        return sum(args)\n",
    "\n",
    "math = MathOperations()\n",
    "print(math.add(5))                   # Output: 5\n",
    "print(math.add(5, 10))               # Output: 15\n",
    "print(math.add(1, 2, 3, 4, 5))       # Output: 15\n"
   ]
  },
  {
   "cell_type": "markdown",
   "id": "8b69f4b5-1053-4e9c-b23c-1c905d8f13d4",
   "metadata": {},
   "source": [
    "**Custom Logic for Overloading**\n",
    "\n",
    "You can also implement custom logic within a single method to handle different types or numbers of parameters."
   ]
  },
  {
   "cell_type": "code",
   "execution_count": 162,
   "id": "c57c66b9-9d1b-4a60-b40b-a1ff5fe44fc1",
   "metadata": {},
   "outputs": [
    {
     "name": "stdout",
     "output_type": "stream",
     "text": [
      "25\n",
      "50\n",
      "24\n"
     ]
    }
   ],
   "source": [
    "class MathOperations:\n",
    "    def multiply(self, a, b=None):\n",
    "        if b is not None:\n",
    "            return a * b\n",
    "        elif isinstance(a, (list, tuple)):\n",
    "            result = 1\n",
    "            for num in a:\n",
    "                result *= num\n",
    "            return result\n",
    "        else:\n",
    "            return a * a  # Square the number if only one argument is provided\n",
    "\n",
    "math = MathOperations()\n",
    "print(math.multiply(5))               # Output: 25 (5 * 5)\n",
    "print(math.multiply(5, 10))           # Output: 50 (5 * 10)\n",
    "print(math.multiply([1, 2, 3, 4]))    # Output: 24 (1 * 2 * 3 * 4)\n"
   ]
  },
  {
   "cell_type": "markdown",
   "id": "a505e2b4-c1df-422e-924d-3d48d226db24",
   "metadata": {},
   "source": [
    "Although Python does not have built-in support for method overloading like some other programming languages, it provides flexibility through default arguments, variable-length arguments, and custom logic to achieve similar functionality. Understanding how to implement and utilize these techniques can enhance your ability to write flexible and maintainable code."
   ]
  },
  {
   "cell_type": "markdown",
   "id": "8c4e1983-58b6-46c1-b1da-3c3d7501d171",
   "metadata": {},
   "source": [
    "---"
   ]
  },
  {
   "cell_type": "markdown",
   "id": "4c60e488-303b-4e8e-9c2d-ec79b5486b33",
   "metadata": {},
   "source": [
    "---"
   ]
  },
  {
   "cell_type": "code",
   "execution_count": null,
   "id": "18d6a881-6c07-4367-beac-22b4ee5208b5",
   "metadata": {},
   "outputs": [],
   "source": []
  }
 ],
 "metadata": {
  "kernelspec": {
   "display_name": "Python 3 (ipykernel)",
   "language": "python",
   "name": "python3"
  },
  "language_info": {
   "codemirror_mode": {
    "name": "ipython",
    "version": 3
   },
   "file_extension": ".py",
   "mimetype": "text/x-python",
   "name": "python",
   "nbconvert_exporter": "python",
   "pygments_lexer": "ipython3",
   "version": "3.12.4"
  }
 },
 "nbformat": 4,
 "nbformat_minor": 5
}
