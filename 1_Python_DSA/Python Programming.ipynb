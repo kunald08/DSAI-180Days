{
 "cells": [
  {
   "cell_type": "markdown",
   "id": "ecc184d4-9aaf-4a46-ba2c-9edd94d1393d",
   "metadata": {},
   "source": [
    "# Python-Programming"
   ]
  },
  {
   "cell_type": "code",
   "execution_count": 1,
   "id": "7c1451cc-c722-4235-b052-9f9c283c0971",
   "metadata": {},
   "outputs": [
    {
     "name": "stdout",
     "output_type": "stream",
     "text": [
      "Python 3.12.4\n"
     ]
    }
   ],
   "source": [
    "!python --version"
   ]
  },
  {
   "cell_type": "code",
   "execution_count": 1,
   "id": "91d9d220-a007-4678-8cad-96478f3e55f9",
   "metadata": {},
   "outputs": [],
   "source": [
    "# Python -> general purpose & powerfull programming lang\n",
    "# Python is considered as one the most versatile lang\n",
    "# as it can develop -\n",
    "#     -> Desktop application\n",
    "#     -> Web\n",
    "#     -> Iot\n",
    "#     -> and Most imp AL, ML, DS\n",
    "\n",
    "# created by: Guido var rossum\n",
    "\n",
    "# inspired by ABC PL\n",
    "\n",
    "# name after: \"Monty Python's flying circus\"\n",
    "\n",
    "# managed by: Python Software Foundation\n",
    "\n",
    "# https://www.python.org"
   ]
  },
  {
   "cell_type": "code",
   "execution_count": 3,
   "id": "1853ee65-2499-4f6f-8759-77ba84c352fb",
   "metadata": {},
   "outputs": [],
   "source": [
    "# # Features:\n",
    "#     -> Simple\n",
    "#     -> Dynamically typed\n",
    "#     -> Robust\n",
    "#     -> Support multiple Programming paradigms\n",
    "#     -> Cross Platform\n",
    "#     -> Extensible\n",
    "#     -> Huge Library \n",
    "#     impt===> compile as well as the interpreted"
   ]
  },
  {
   "cell_type": "code",
   "execution_count": 4,
   "id": "2fd81f30-e3f9-407a-a86d-65b46d16d0ac",
   "metadata": {},
   "outputs": [],
   "source": [
    "# ===> source code\n",
    "# ===> compiler\n",
    "# ===> Byte code\n",
    "# ===> VM [interpreter]-> machine code"
   ]
  },
  {
   "cell_type": "markdown",
   "id": "49530451-f8ed-4c83-9fc9-ee4f17d55d4e",
   "metadata": {},
   "source": [
    "## 📘 Table of Contents\n",
    "\n",
    "- [Data Types](#data-types)\n",
    "- [Operators](#operatores)\n",
    "- [Control Statement](#control-statement)\n",
    "- [Loops](#loops)\n",
    "- [Function](#function)\n",
    "- [Lambda](#lambda)\n",
    "- [List](#list)\n",
    "- [List Comprehensions](#list-comprehensions)\n",
    "- [Tuple](#tuple)\n",
    "- [String](#string)\n",
    "- [Dictionaries](#dictionary)\n",
    "- [Comprehensions](#comprehensions)\n",
    "- [OOPs Concepts](#OOPs)\n",
    "- [Exception Handling](#exception-handling)\n"
   ]
  },
  {
   "cell_type": "code",
   "execution_count": null,
   "id": "0b87f203-9382-4a55-af10-3f92ba005a02",
   "metadata": {},
   "outputs": [],
   "source": [
    "# for verifying compile as well as the interpreted\n",
    "\n",
    "# >>> python -m py_compile main.py  ===> folder ===> __pycache__\n",
    "# >>> python main.cpython-312.pyc"
   ]
  },
  {
   "cell_type": "code",
   "execution_count": 5,
   "id": "25caf62e-0c9e-446f-a8eb-d85cf3df4f60",
   "metadata": {},
   "outputs": [
    {
     "name": "stdout",
     "output_type": "stream",
     "text": [
      "Hare Krishna!\n",
      "Sanatan!\n"
     ]
    },
    {
     "data": {
      "text/plain": [
       "tuple"
      ]
     },
     "execution_count": 5,
     "metadata": {},
     "output_type": "execute_result"
    }
   ],
   "source": [
    "print(\"Hare Krishna!\")\n",
    "print(\"Sanatan!\")"
   ]
  },
  {
   "cell_type": "code",
   "execution_count": 23,
   "id": "fcb598e3-c367-4a9c-a626-50c5d461f9bd",
   "metadata": {},
   "outputs": [
    {
     "name": "stdout",
     "output_type": "stream",
     "text": [
      "hare krishna!\n",
      "Sanatan\n"
     ]
    }
   ],
   "source": [
    "# how new line\n",
    "\n",
    "print(\"hare krishna!\", end=\"\\n\")  # ===> bcoz of default keyword arg --> end=\"\\n\" , sep=\" \"\n",
    "print(\"Sanatan\")"
   ]
  },
  {
   "cell_type": "code",
   "execution_count": 27,
   "id": "d47bc58e-f20c-4daf-a3ac-760b7ae48c3b",
   "metadata": {},
   "outputs": [
    {
     "name": "stdout",
     "output_type": "stream",
     "text": [
      "DA-CSE-ECE-CE\n"
     ]
    }
   ],
   "source": [
    "print(\"DA\", \"CSE\", \"ECE\", \"CE\", sep=\"-\")  # sep=\"-\""
   ]
  },
  {
   "cell_type": "code",
   "execution_count": 29,
   "id": "fc5fd842-e069-4fbd-be06-41d8aa8511cf",
   "metadata": {},
   "outputs": [],
   "source": [
    "# there are 2 types of error in py\n",
    "\n",
    "# -> Syntax error -> compile time error\n",
    "# -> runtime error -> exception"
   ]
  },
  {
   "cell_type": "code",
   "execution_count": 40,
   "id": "0a88c992-41c7-42cd-98e4-decd8351f877",
   "metadata": {},
   "outputs": [],
   "source": [
    "# identifier: name given to entities\n",
    " # -> A-Z, a-z\n",
    " # -> 0-9 but can't start with\n",
    " # -> _ "
   ]
  },
  {
   "cell_type": "code",
   "execution_count": 46,
   "id": "68ecc43b-1282-4b64-9b88-a5d56ba5cf19",
   "metadata": {},
   "outputs": [
    {
     "name": "stdout",
     "output_type": "stream",
     "text": [
      "['False', 'None', 'True', 'and', 'as', 'assert', 'async', 'await', 'break', 'class', 'continue', 'def', 'del', 'elif', 'else', 'except', 'finally', 'for', 'from', 'global', 'if', 'import', 'in', 'is', 'lambda', 'nonlocal', 'not', 'or', 'pass', 'raise', 'return', 'try', 'while', 'with', 'yield']\n"
     ]
    }
   ],
   "source": [
    "# keyword: pre-defined words/ reserved word\n",
    "\n",
    "import keyword\n",
    "print(keyword.kwlist)"
   ]
  },
  {
   "cell_type": "markdown",
   "id": "12e233f5-3b92-4e57-97bd-296fb611a4be",
   "metadata": {},
   "source": [
    "## data-types\n",
    "[🏠](#Python-Programming)"
   ]
  },
  {
   "cell_type": "code",
   "execution_count": 50,
   "id": "8e324d45-fe95-4f00-bea1-673dec5394ef",
   "metadata": {},
   "outputs": [],
   "source": [
    "# Numeric -> int, float, complex\n",
    "# Boolean -> bool\n",
    "# Sequence -> str, list, bytes, bytearray, tuples, range\n",
    "# set -> set, frozenset\n",
    "# Mapping -> dict\n",
    "# None type -> None"
   ]
  },
  {
   "cell_type": "code",
   "execution_count": 50,
   "id": "91eb04c2-98c0-455a-9d2f-4b64bcbd59a5",
   "metadata": {},
   "outputs": [
    {
     "data": {
      "text/plain": [
       "str"
      ]
     },
     "execution_count": 50,
     "metadata": {},
     "output_type": "execute_result"
    }
   ],
   "source": [
    "s = \"kunal\"\n",
    "type(s)"
   ]
  },
  {
   "cell_type": "code",
   "execution_count": 52,
   "id": "558e2c01-14d2-4b5b-ac2e-89ca95fcd7ac",
   "metadata": {},
   "outputs": [
    {
     "data": {
      "text/plain": [
       "complex"
      ]
     },
     "execution_count": 52,
     "metadata": {},
     "output_type": "execute_result"
    }
   ],
   "source": [
    "nos = 3 + 7j\n",
    "type(nos)"
   ]
  },
  {
   "cell_type": "code",
   "execution_count": 62,
   "id": "7a0b522d-b92c-4bd6-b026-d0e8c09c6a83",
   "metadata": {},
   "outputs": [
    {
     "name": "stdout",
     "output_type": "stream",
     "text": [
      "101\n",
      "5\n"
     ]
    }
   ],
   "source": [
    "# diff way of representing (int)\n",
    "\n",
    "a = 101\n",
    "print(a)\n",
    "\n",
    "a = 0b101  # zero B/b -> binary  ==> base(2)\n",
    "print(a)\n",
    "\n",
    "# zero O/o -> octal ==> base(8)\n",
    "# zero x -> hexadecimal ==> base(16)"
   ]
  },
  {
   "cell_type": "code",
   "execution_count": 70,
   "id": "167aec01-4da9-4c7c-a923-3efe34e1df99",
   "metadata": {},
   "outputs": [
    {
     "data": {
      "text/plain": [
       "'0b101'"
      ]
     },
     "execution_count": 70,
     "metadata": {},
     "output_type": "execute_result"
    }
   ],
   "source": [
    "bin(5)  # returns value in string form"
   ]
  },
  {
   "cell_type": "code",
   "execution_count": 72,
   "id": "a441e42d-6423-4fc3-a5bc-cca2940b5f81",
   "metadata": {},
   "outputs": [
    {
     "data": {
      "text/plain": [
       "'0o5'"
      ]
     },
     "execution_count": 72,
     "metadata": {},
     "output_type": "execute_result"
    }
   ],
   "source": [
    "oct(5)"
   ]
  },
  {
   "cell_type": "code",
   "execution_count": 74,
   "id": "0c7e9f29-b36b-4d1d-a2e6-81f15e42e026",
   "metadata": {},
   "outputs": [
    {
     "data": {
      "text/plain": [
       "'0x5'"
      ]
     },
     "execution_count": 74,
     "metadata": {},
     "output_type": "execute_result"
    }
   ],
   "source": [
    "hex(5)"
   ]
  },
  {
   "cell_type": "code",
   "execution_count": 86,
   "id": "a6645cc4-b85d-473c-9d0d-b74f64b33baa",
   "metadata": {},
   "outputs": [
    {
     "data": {
      "text/plain": [
       "\"It's beautifull day\""
      ]
     },
     "execution_count": 86,
     "metadata": {},
     "output_type": "execute_result"
    }
   ],
   "source": [
    "s = \"It's beautifull day\"\n",
    "s"
   ]
  },
  {
   "cell_type": "code",
   "execution_count": 90,
   "id": "72e764bb-eaf6-4683-ada8-c895abd2103f",
   "metadata": {},
   "outputs": [
    {
     "name": "stdout",
     "output_type": "stream",
     "text": [
      "kunal\n"
     ]
    }
   ],
   "source": [
    "name = \"kunal\"   # need like : \"kunal\"\n",
    "print(name)"
   ]
  },
  {
   "cell_type": "code",
   "execution_count": 92,
   "id": "0da36cd7-270e-4aa3-8f80-ab1fb4e7a468",
   "metadata": {},
   "outputs": [
    {
     "name": "stdout",
     "output_type": "stream",
     "text": [
      "\"kunal\"\n"
     ]
    }
   ],
   "source": [
    "name = '''\"kunal\"'''\n",
    "print(name)"
   ]
  },
  {
   "cell_type": "code",
   "execution_count": 94,
   "id": "e2860b23-c343-40d9-bcf9-db5c8c9eceec",
   "metadata": {},
   "outputs": [
    {
     "name": "stdout",
     "output_type": "stream",
     "text": [
      "\"kunal\"\n"
     ]
    }
   ],
   "source": [
    "name = '\"kunal\"'\n",
    "print(name)"
   ]
  },
  {
   "cell_type": "code",
   "execution_count": 100,
   "id": "c38b8cec-839b-4da7-a9d6-485c8ed89e2d",
   "metadata": {},
   "outputs": [
    {
     "name": "stdout",
     "output_type": "stream",
     "text": [
      "\"\n",
      "l\n"
     ]
    }
   ],
   "source": [
    "print(name[0])\n",
    "print(name[-2])"
   ]
  },
  {
   "cell_type": "code",
   "execution_count": 102,
   "id": "dff99453-e240-4304-a249-e76e6e9905f5",
   "metadata": {},
   "outputs": [
    {
     "data": {
      "text/plain": [
       "'GATE DA'"
      ]
     },
     "execution_count": 102,
     "metadata": {},
     "output_type": "execute_result"
    }
   ],
   "source": [
    "# string concatenation\n",
    "\n",
    "\"GATE\" +\" DA\""
   ]
  },
  {
   "cell_type": "code",
   "execution_count": 104,
   "id": "ce70bae6-2cd0-4e26-b8ec-307731956f06",
   "metadata": {},
   "outputs": [
    {
     "data": {
      "text/plain": [
       "'I am fr'"
      ]
     },
     "execution_count": 104,
     "metadata": {},
     "output_type": "execute_result"
    }
   ],
   "source": [
    "# slicing: extractig a portion from string\n",
    "#          pulling out a sequence of characters...\n",
    "\n",
    "word = \"I am from India!\"\n",
    "\n",
    "word[0:7]"
   ]
  },
  {
   "cell_type": "code",
   "execution_count": 106,
   "id": "fe719707-4cd9-4c7d-9598-57d19df9fd5c",
   "metadata": {},
   "outputs": [
    {
     "data": {
      "text/plain": [
       "'I am from India!'"
      ]
     },
     "execution_count": 106,
     "metadata": {},
     "output_type": "execute_result"
    }
   ],
   "source": [
    "word[:]"
   ]
  },
  {
   "cell_type": "code",
   "execution_count": 116,
   "id": "26df2e4d-9c39-4050-8254-80d74d2a63ff",
   "metadata": {},
   "outputs": [
    {
     "data": {
      "text/plain": [
       "'!aidnI morf ma I'"
      ]
     },
     "execution_count": 116,
     "metadata": {},
     "output_type": "execute_result"
    }
   ],
   "source": [
    "word[-1::-1]"
   ]
  },
  {
   "cell_type": "code",
   "execution_count": 114,
   "id": "66ce1d12-2167-4e13-85b6-b70296e314a1",
   "metadata": {},
   "outputs": [
    {
     "data": {
      "text/plain": [
       "'!aidnI morf ma I'"
      ]
     },
     "execution_count": 114,
     "metadata": {},
     "output_type": "execute_result"
    }
   ],
   "source": [
    "word[::-1]"
   ]
  },
  {
   "cell_type": "code",
   "execution_count": 120,
   "id": "035fb6fe-d939-4a27-9a25-b5de34b30d8c",
   "metadata": {},
   "outputs": [
    {
     "name": "stdout",
     "output_type": "stream",
     "text": [
      "6\n",
      "bharat\n",
      "BHARAT\n"
     ]
    }
   ],
   "source": [
    "# string operation\n",
    "\n",
    "country = \"Bharat\"\n",
    "print(len(country))\n",
    "print(country.lower())   # ==> methods\n",
    "print(country.upper())"
   ]
  },
  {
   "cell_type": "code",
   "execution_count": 126,
   "id": "5b8b46cb-811a-45e5-8289-36ef3ae6a415",
   "metadata": {},
   "outputs": [
    {
     "name": "stdout",
     "output_type": "stream",
     "text": [
      "123\n"
     ]
    },
    {
     "data": {
      "text/plain": [
       "int"
      ]
     },
     "execution_count": 126,
     "metadata": {},
     "output_type": "execute_result"
    }
   ],
   "source": [
    "# Type Conversion: Implicit===> done by compiler\n",
    "#                  Explicit===> done programmer -> type casting\n",
    "# int() float() str() complex() bool() \n",
    "\n",
    "no = int('123')\n",
    "print(no)\n",
    "type(no)"
   ]
  },
  {
   "cell_type": "code",
   "execution_count": 128,
   "id": "e2e301a9-3f2a-461b-adfd-b407812b8192",
   "metadata": {},
   "outputs": [],
   "source": [
    "# Immutable: Not changeable\n",
    "# Mutable: can be changed\n",
    "\n",
    "# Immutable:  int\n",
    "#             float\n",
    "#             str\n",
    "#             complex\n",
    "#             tuple\n",
    "#             range\n",
    "#             frozenset\n",
    "#             bytes\n",
    "###########################\n",
    "# Mutable:    list\n",
    "#             dict\n",
    "#             set\n",
    "#             bytearray"
   ]
  },
  {
   "cell_type": "code",
   "execution_count": 137,
   "id": "00cd943e-f74d-4ce4-9452-fa2d5d842751",
   "metadata": {},
   "outputs": [
    {
     "name": "stdout",
     "output_type": "stream",
     "text": [
      "140723011403000 || 140723011403000\n",
      "True\n"
     ]
    }
   ],
   "source": [
    "a = 27\n",
    "b = 27\n",
    "\n",
    "# Qn is how many object created above\n",
    "# ans: 1\n",
    "# proof==> is / id()\n",
    "\n",
    "print(id(a), id(b), sep=' || ')\n",
    "print(a is b)"
   ]
  },
  {
   "cell_type": "code",
   "execution_count": 144,
   "id": "5e2685f0-48b2-472f-9607-e4b4a0761c9e",
   "metadata": {},
   "outputs": [
    {
     "name": "stdout",
     "output_type": "stream",
     "text": [
      "True\n",
      "True\n"
     ]
    }
   ],
   "source": [
    "print(a == b) # compares the value\n",
    "print(a is b) # compare the address"
   ]
  },
  {
   "cell_type": "code",
   "execution_count": 148,
   "id": "14f83a5c-94fc-4041-9633-cdefed191581",
   "metadata": {},
   "outputs": [
    {
     "data": {
      "text/plain": [
       "False"
      ]
     },
     "execution_count": 148,
     "metadata": {},
     "output_type": "execute_result"
    }
   ],
   "source": [
    "a = 258\n",
    "b = 258\n",
    "\n",
    "a is b   # ahhh :((("
   ]
  },
  {
   "cell_type": "code",
   "execution_count": 156,
   "id": "fb6a9db5-9d04-45c1-88da-ddf29606ab46",
   "metadata": {},
   "outputs": [
    {
     "data": {
      "text/plain": [
       "False"
      ]
     },
     "execution_count": 156,
     "metadata": {},
     "output_type": "execute_result"
    }
   ],
   "source": [
    "a = -6\n",
    "b = -6\n",
    "\n",
    "a is b  # woahhh woahhh"
   ]
  },
  {
   "cell_type": "code",
   "execution_count": 150,
   "id": "ccfc6fc7-ca54-4fdf-914c-4dff85d47cc2",
   "metadata": {},
   "outputs": [],
   "source": [
    "# why it is so ???\n",
    "\n",
    "# so the python internally caches the integer value\n",
    "# in the range of -5 to 256   ===> in total 262\n",
    "# beyond this python creates new object\n"
   ]
  },
  {
   "cell_type": "code",
   "execution_count": 158,
   "id": "01ec983b-55a2-45bd-9229-ba86cc3d42f5",
   "metadata": {},
   "outputs": [],
   "source": [
    "# comment ===> single line ==> # ...\n",
    "#         ===> multi line ==> \"\"\"...\"\"\" (unofficial way)"
   ]
  },
  {
   "cell_type": "code",
   "execution_count": 165,
   "id": "67c0d9c1-6a43-4fd7-bf1d-291f1e935d51",
   "metadata": {},
   "outputs": [],
   "source": [
    "# python does not have constant ...\n",
    "\n",
    "# but do follow conventions ==> capital letters ==> PI = 3.14"
   ]
  },
  {
   "cell_type": "markdown",
   "id": "a2475ea6-31b2-4953-a95b-2e5f61c124b5",
   "metadata": {},
   "source": [
    "## operatores\n",
    "[🏠](#Python-Programming)"
   ]
  },
  {
   "cell_type": "code",
   "execution_count": 170,
   "id": "1e656f84-8a9a-4543-b034-80a9efc5a8d0",
   "metadata": {},
   "outputs": [],
   "source": [
    "# operators \n",
    "# ===> arithmatic  ==> + - * // ** /\n",
    "# ===> relatioinal ==> < <= > >= !=\n",
    "# ===> logical ==> and or not\n",
    "# ===> assignment ==> += -=,...\n",
    "# ===> identity ==> is, is not\n",
    "# ===> membership ==> in, not in"
   ]
  },
  {
   "cell_type": "code",
   "execution_count": 176,
   "id": "a5c3c76d-c349-494f-a7c3-1ec51717506c",
   "metadata": {},
   "outputs": [
    {
     "name": "stdin",
     "output_type": "stream",
     "text": [
      "Enter ur name:  kunal\n"
     ]
    },
    {
     "name": "stdout",
     "output_type": "stream",
     "text": [
      "welcome kunal\n"
     ]
    }
   ],
   "source": [
    "# input -> take any type of value converts into str\n",
    "\n",
    "name = input(\"Enter ur name: \")\n",
    "print(\"welcome\", name)"
   ]
  },
  {
   "cell_type": "code",
   "execution_count": 180,
   "id": "6c95ab43-1ae2-40b1-b08a-a1ea51210014",
   "metadata": {},
   "outputs": [
    {
     "name": "stdin",
     "output_type": "stream",
     "text": [
      " 2\n"
     ]
    },
    {
     "name": "stdout",
     "output_type": "stream",
     "text": [
      "12.56 12.56\n"
     ]
    }
   ],
   "source": [
    "### area of circle. circumference\n",
    "\n",
    "r = int(input())\n",
    "a = 3.14*(r**2)\n",
    "c = 2*3.14*r\n",
    "\n",
    "print(a, c)"
   ]
  },
  {
   "cell_type": "code",
   "execution_count": 184,
   "id": "c5ffc60d-6171-48d0-ba9b-00d5c879a110",
   "metadata": {},
   "outputs": [
    {
     "name": "stdout",
     "output_type": "stream",
     "text": [
      "kunal\n"
     ]
    },
    {
     "data": {
      "text/plain": [
       "str"
      ]
     },
     "execution_count": 184,
     "metadata": {},
     "output_type": "execute_result"
    }
   ],
   "source": [
    "# formate specifier\n",
    "name = \"kunal\"\n",
    "print(\"%s\"%name)\n",
    "type(name)"
   ]
  },
  {
   "cell_type": "code",
   "execution_count": 188,
   "id": "505fdd29-0fc4-4ab6-bf3a-545070806825",
   "metadata": {},
   "outputs": [
    {
     "name": "stdout",
     "output_type": "stream",
     "text": [
      "A\n"
     ]
    },
    {
     "data": {
      "text/plain": [
       "str"
      ]
     },
     "execution_count": 188,
     "metadata": {},
     "output_type": "execute_result"
    }
   ],
   "source": [
    "cc = 'A'\n",
    "print(\"%c\"%cc)\n",
    "type(cc)"
   ]
  },
  {
   "cell_type": "code",
   "execution_count": 190,
   "id": "a947e6c2-57d4-421f-9586-005a4f7fb35d",
   "metadata": {},
   "outputs": [
    {
     "name": "stdout",
     "output_type": "stream",
     "text": [
      "Hare krishna kunal\n"
     ]
    }
   ],
   "source": [
    "# format() method\n",
    "\n",
    "print(\"Hare krishna {}\".format(\"kunal\"))"
   ]
  },
  {
   "cell_type": "code",
   "execution_count": 194,
   "id": "744178dc-7f57-425c-a3fe-937fefdbee9c",
   "metadata": {},
   "outputs": [
    {
     "name": "stdout",
     "output_type": "stream",
     "text": [
      "hi, kunal and u r 21yrs old\n"
     ]
    }
   ],
   "source": [
    "name = \"kunal\"\n",
    "age = 21\n",
    "print(\"hi, {} and u r {}yrs old\".format(name, age))"
   ]
  },
  {
   "cell_type": "markdown",
   "id": "26b0bcd0-a42e-40c8-a390-03f1fbfded99",
   "metadata": {},
   "source": [
    "## control-statement\n",
    "[🏠](#Python-Programming)"
   ]
  },
  {
   "cell_type": "code",
   "execution_count": 196,
   "id": "d40e1356-2612-4c5c-ac10-f42455f5a2dd",
   "metadata": {},
   "outputs": [
    {
     "name": "stdin",
     "output_type": "stream",
     "text": [
      " 7\n"
     ]
    },
    {
     "name": "stdout",
     "output_type": "stream",
     "text": [
      "Odd\n"
     ]
    }
   ],
   "source": [
    "# Decision control ==> if-else\n",
    "n = int(input())\n",
    "if n%2 == 0:\n",
    "    print(\"Even\")\n",
    "else:\n",
    "    print(\"Odd\")"
   ]
  },
  {
   "cell_type": "code",
   "execution_count": 202,
   "id": "20bc83eb-3f60-4cfa-b535-a8fc197112a9",
   "metadata": {},
   "outputs": [
    {
     "name": "stdin",
     "output_type": "stream",
     "text": [
      " k\n"
     ]
    },
    {
     "name": "stdout",
     "output_type": "stream",
     "text": [
      "lower\n"
     ]
    }
   ],
   "source": [
    "# lower or Capital\n",
    "alpha = input()\n",
    "if 'A' <= alpha <= 'Z':\n",
    "    print(\"Capital\")\n",
    "else:\n",
    "    print(\"lower\")"
   ]
  },
  {
   "cell_type": "code",
   "execution_count": 214,
   "id": "8646924b-7ffe-44ac-a026-91c8328e79ae",
   "metadata": {},
   "outputs": [
    {
     "name": "stdin",
     "output_type": "stream",
     "text": [
      " $\n"
     ]
    },
    {
     "name": "stdout",
     "output_type": "stream",
     "text": [
      "Something else\n"
     ]
    }
   ],
   "source": [
    "# detect char\n",
    "char = input()\n",
    "if 'A' <= char <='Z':\n",
    "    print(\"Capital\")\n",
    "elif 'a' <= char <= 'z':\n",
    "    print(\"lower\")\n",
    "elif '1' <= char <= '9':\n",
    "    print(\"digit\")\n",
    "else:\n",
    "    print(\"Something else\")"
   ]
  },
  {
   "cell_type": "code",
   "execution_count": 224,
   "id": "461b04c4-0df5-4f89-94f8-b5e1deabc033",
   "metadata": {},
   "outputs": [
    {
     "data": {
      "text/plain": [
       "'kid'"
      ]
     },
     "execution_count": 224,
     "metadata": {},
     "output_type": "execute_result"
    }
   ],
   "source": [
    "age = 12\n",
    "'kid' if age < 13 else \"teenager\""
   ]
  },
  {
   "cell_type": "markdown",
   "id": "cd846acd-4fa6-4491-8db3-7f809171f97e",
   "metadata": {},
   "source": [
    "## loops\n",
    "[🏠](#Python-Programming)"
   ]
  },
  {
   "cell_type": "code",
   "execution_count": 61,
   "id": "9eb3ff86-09d7-44f1-b63f-c090b69856bf",
   "metadata": {},
   "outputs": [],
   "source": [
    "# - while loop\n",
    "# - for loop\n",
    "# - do while loop isn't present in python"
   ]
  },
  {
   "cell_type": "code",
   "execution_count": 242,
   "id": "a8f15c9b-8a12-4d7f-bead-53f3b78cf672",
   "metadata": {},
   "outputs": [
    {
     "name": "stdout",
     "output_type": "stream",
     "text": [
      "0=>1=>2=>3=>4=>5=>6=>7=>8=>9=>10=>"
     ]
    }
   ],
   "source": [
    "i = 0\n",
    "while i < 11:\n",
    "    print(i, end='=>')\n",
    "    i += 1"
   ]
  },
  {
   "cell_type": "code",
   "execution_count": 251,
   "id": "c8559e93-2ef2-4618-b546-f1ff77395fba",
   "metadata": {},
   "outputs": [
    {
     "name": "stdin",
     "output_type": "stream",
     "text": [
      " kunal\n"
     ]
    },
    {
     "name": "stdout",
     "output_type": "stream",
     "text": [
      "===>contains\n"
     ]
    }
   ],
   "source": [
    "# check str contains vowel or not\n",
    "\n",
    "text = input()\n",
    "i = 0\n",
    "while i < len(text):\n",
    "    if text[i] in \"aeiouAEIOU\":\n",
    "        print(\"===>contains\")\n",
    "        break  # break out of the loop\n",
    "    i += 1\n",
    "else:\n",
    "    print(\"===>not contain\")"
   ]
  },
  {
   "cell_type": "code",
   "execution_count": 265,
   "id": "45fc4815-6d18-4e93-aba2-475a6b1c6ccd",
   "metadata": {},
   "outputs": [
    {
     "name": "stdout",
     "output_type": "stream",
     "text": [
      "<class 'range'>\n"
     ]
    },
    {
     "data": {
      "text/plain": [
       "[0, 1, 2, 3, 4, 5, 6, 7, 8, 9]"
      ]
     },
     "execution_count": 265,
     "metadata": {},
     "output_type": "execute_result"
    }
   ],
   "source": [
    "# range() function: returns a range object\n",
    "a = range(10)\n",
    "print(type(a))\n",
    "list(a)"
   ]
  },
  {
   "cell_type": "code",
   "execution_count": 267,
   "id": "a3389445-882b-4b12-8b4f-cf93f3c2b132",
   "metadata": {},
   "outputs": [
    {
     "data": {
      "text/plain": [
       "[0, 2, 4, 6, 8]"
      ]
     },
     "execution_count": 267,
     "metadata": {},
     "output_type": "execute_result"
    }
   ],
   "source": [
    "list(range(0, 10, 2))"
   ]
  },
  {
   "cell_type": "code",
   "execution_count": 273,
   "id": "beb596d0-2133-4944-a23d-3d5a031b2b0d",
   "metadata": {},
   "outputs": [
    {
     "name": "stdout",
     "output_type": "stream",
     "text": [
      "0->1->2->3->4->5->6->7->8->9->10->"
     ]
    }
   ],
   "source": [
    "for i in range(11):\n",
    "    print(i, end='->')"
   ]
  },
  {
   "cell_type": "code",
   "execution_count": 293,
   "id": "bb0c5e23-9f9b-4bf1-9661-35e7b640b707",
   "metadata": {},
   "outputs": [
    {
     "name": "stdout",
     "output_type": "stream",
     "text": [
      "10->9->8->7->6->5->4->3->2->1->"
     ]
    }
   ],
   "source": [
    "for i in range(10, 0, -1):\n",
    "    print(i, end='->')"
   ]
  },
  {
   "cell_type": "markdown",
   "id": "82fbbe3e-efdd-41ed-a6ca-aca00d62d4ca",
   "metadata": {},
   "source": [
    "## functions\n",
    "[🏠](#Python-Programming)"
   ]
  },
  {
   "cell_type": "code",
   "execution_count": 295,
   "id": "ff5c06d4-6304-426b-b47c-8514b3e3bd97",
   "metadata": {},
   "outputs": [
    {
     "data": {
      "text/plain": [
       "50"
      ]
     },
     "execution_count": 295,
     "metadata": {},
     "output_type": "execute_result"
    }
   ],
   "source": [
    "# Function: reusable block of code/\\\\\n",
    "\n",
    "def add(a,b):\n",
    "    return a+b\n",
    "\n",
    "add(10, 40)"
   ]
  },
  {
   "cell_type": "code",
   "execution_count": 303,
   "id": "4d0e38d9-12f2-4837-887d-29ac6fab3fa5",
   "metadata": {},
   "outputs": [
    {
     "name": "stdout",
     "output_type": "stream",
     "text": [
      "hi kunal How r u!\n"
     ]
    }
   ],
   "source": [
    "# default arg\n",
    "def greet(name, msg=\"How r u!\"):\n",
    "    print(\"hi\", name, msg)\n",
    "\n",
    "greet(\"kunal\")"
   ]
  },
  {
   "cell_type": "code",
   "execution_count": 315,
   "id": "35ed3182-add7-4fe7-a315-165fa7a83e8e",
   "metadata": {},
   "outputs": [
    {
     "ename": "TypeError",
     "evalue": "addno() missing 1 required positional argument: 'c'",
     "output_type": "error",
     "traceback": [
      "\u001b[1;31m----------------------------------------------------------------------\u001b[0m",
      "\u001b[1;31mTypeError\u001b[0m                            Traceback (most recent call last)",
      "Cell \u001b[1;32mIn[315], line 6\u001b[0m\n\u001b[0;32m      3\u001b[0m \u001b[38;5;28;01mdef\u001b[39;00m \u001b[38;5;21maddno\u001b[39m(a, b, c):\n\u001b[0;32m      4\u001b[0m     \u001b[38;5;28;01mreturn\u001b[39;00m a\u001b[38;5;241m+\u001b[39mb\u001b[38;5;241m+\u001b[39mc\n\u001b[1;32m----> 6\u001b[0m addno(\u001b[38;5;241m10\u001b[39m,\u001b[38;5;241m20\u001b[39m)\n\u001b[0;32m      7\u001b[0m addno(\u001b[38;5;241m10\u001b[39m,\u001b[38;5;241m20\u001b[39m,\u001b[38;5;241m30\u001b[39m)\n",
      "\u001b[1;31mTypeError\u001b[0m: addno() missing 1 required positional argument: 'c'"
     ]
    }
   ],
   "source": [
    "def addno(a, b):\n",
    "    return a+b\n",
    "def addno(a, b, c):\n",
    "    return a+b+c\n",
    "\n",
    "addno(10,20)\n",
    "addno(10,20,30)"
   ]
  },
  {
   "cell_type": "code",
   "execution_count": 325,
   "id": "b4fb2c95-bb10-41c9-9dcb-ef4e94bf7273",
   "metadata": {},
   "outputs": [
    {
     "name": "stdout",
     "output_type": "stream",
     "text": [
      "30\n",
      "60\n"
     ]
    }
   ],
   "source": [
    "# variable length arg\n",
    "def addnos(*args):\n",
    "    total = 0\n",
    "    for n in args:\n",
    "        total += n\n",
    "    return total\n",
    "\n",
    "\n",
    "print(addnos(10,20))\n",
    "print(addnos(10,20,30))"
   ]
  },
  {
   "cell_type": "markdown",
   "id": "170243a0-8e29-436f-bc58-8059b6941ae9",
   "metadata": {},
   "source": [
    "## lambda\n",
    "[🏠](#Python-Programming)"
   ]
  },
  {
   "cell_type": "code",
   "execution_count": 11,
   "id": "bd2b4c6c-7aae-4abe-953e-d48b36812866",
   "metadata": {},
   "outputs": [
    {
     "name": "stdout",
     "output_type": "stream",
     "text": [
      "7\n"
     ]
    },
    {
     "data": {
      "text/plain": [
       "5"
      ]
     },
     "execution_count": 11,
     "metadata": {},
     "output_type": "execute_result"
    }
   ],
   "source": [
    "# Anonymouse functions: func that defined without name, lambda [arg1, arg2,...]: [exp]\n",
    "# ====> lambda func can have many no of arguments ===> but only have the single expe\n",
    "\n",
    "\n",
    "def add(a,b):\n",
    "    return a+b\n",
    "\n",
    "print(add(3, 4))\n",
    "\n",
    "\n",
    "add2 = lambda a, b: a+b\n",
    "add2(2, 3)"
   ]
  },
  {
   "cell_type": "code",
   "execution_count": 35,
   "id": "aacecb63-6a6c-492d-a81c-dda09dad749a",
   "metadata": {},
   "outputs": [
    {
     "name": "stdout",
     "output_type": "stream",
     "text": [
      "J\n",
      "True\n"
     ]
    },
    {
     "data": {
      "text/plain": [
       "5"
      ]
     },
     "execution_count": 35,
     "metadata": {},
     "output_type": "execute_result"
    }
   ],
   "source": [
    "# first char of any str\n",
    "\n",
    "c = lambda country: country[0]\n",
    "print(c(\"Jambudeep\"))\n",
    "\n",
    "\n",
    "# even odd\n",
    "evenOdd = lambda n: n%2 == 0\n",
    "print(evenOdd(4))\n",
    "\n",
    "# greater ele\n",
    "greater = lambda a, b: a if a > b else b\n",
    "\n",
    "greater(3, 5)"
   ]
  },
  {
   "cell_type": "code",
   "execution_count": 72,
   "id": "1ef5e636-d127-4571-9755-7447d0c92289",
   "metadata": {},
   "outputs": [
    {
     "name": "stdout",
     "output_type": "stream",
     "text": [
      "<map object at 0x0000028B929ADF60>\n",
      "[1, 4, 9, 16, 25, 36, 49, 64, 81, 100, 121, 144, 169, 196, 225, 256, 289, 324, 361, 400, 441, 484, 529, 576, 625, 676, 729, 784, 841, 900, 961, 1024, 1089, 1156, 1225, 1296, 1369, 1444, 1521, 1600, 1681, 1764, 1849, 1936, 2025, 2116, 2209, 2304, 2401, 2500, 2601, 2704, 2809, 2916, 3025, 3136, 3249, 3364, 3481, 3600, 3721, 3844, 3969, 4096, 4225, 4356, 4489, 4624, 4761, 4900, 5041, 5184, 5329, 5476, 5625, 5776, 5929, 6084, 6241, 6400, 6561, 6724, 6889, 7056, 7225, 7396, 7569, 7744, 7921, 8100, 8281, 8464, 8649, 8836, 9025, 9216, 9409, 9604, 9801, 10000]\n"
     ]
    }
   ],
   "source": [
    "# map(): applies the function to all the ele of the sequence iterable.\n",
    "# --> returns an object\n",
    "\n",
    "def square(n):\n",
    "    return n**2\n",
    "\n",
    "x = map(square, range(1, 101))\n",
    "print(x)\n",
    "print(list(x))"
   ]
  },
  {
   "cell_type": "code",
   "execution_count": 78,
   "id": "b7fc9015-c5ea-4c24-92e1-15003578a48f",
   "metadata": {},
   "outputs": [
    {
     "name": "stdout",
     "output_type": "stream",
     "text": [
      "[1, 4, 9, 16, 25, 36, 49, 64, 81, 100]\n"
     ]
    }
   ],
   "source": [
    "# or\n",
    "\n",
    "print(list(map(square, range(1, 11))))"
   ]
  },
  {
   "cell_type": "code",
   "execution_count": 86,
   "id": "d1cd2c04-c68f-4b99-a160-fe0cbba7da0d",
   "metadata": {},
   "outputs": [
    {
     "name": "stdout",
     "output_type": "stream",
     "text": [
      "<class 'filter'>\n",
      "[2, 4, 6, 78]\n"
     ]
    }
   ],
   "source": [
    "# filter()\n",
    "\n",
    "def check_even(n):\n",
    "    return n%2 == 0\n",
    "\n",
    "mylist = [2, 3, 4, 5, 6, 43, 78]\n",
    "result = filter(check_even, mylist)\n",
    "print(type(result))\n",
    "print(list(result))"
   ]
  },
  {
   "cell_type": "code",
   "execution_count": 90,
   "id": "845613c5-f50c-4662-815c-69b212e1f019",
   "metadata": {},
   "outputs": [
    {
     "data": {
      "text/plain": [
       "'Guess\\ndef f(n):\\n    return n*n\\n\\nmyNum = [1, 2, 3, 4, 5]\\nprint(list(filter(f, myNum)))\\n\\n\\na) [1, 4, 9, 16, 25]\\nb) [1, 2, 3, 4, 5]\\n'"
      ]
     },
     "execution_count": 90,
     "metadata": {},
     "output_type": "execute_result"
    }
   ],
   "source": [
    "'''Guess\n",
    "def f(n):\n",
    "    return n*n\n",
    "\n",
    "myNum = [1, 2, 3, 4, 5]\n",
    "print(list(filter(f, myNum)))\n",
    "\n",
    "\n",
    "a) [1, 4, 9, 16, 25]\n",
    "b) [1, 2, 3, 4, 5]\n",
    "'''"
   ]
  },
  {
   "cell_type": "code",
   "execution_count": 96,
   "id": "b6580fd8-c449-48c8-bd80-5759b033568b",
   "metadata": {},
   "outputs": [
    {
     "name": "stdout",
     "output_type": "stream",
     "text": [
      "['K', 'L', 'N', 'K']\n"
     ]
    }
   ],
   "source": [
    "# High-order-func with lambda:)\n",
    "# first char of string\n",
    "\n",
    "print(list(map(lambda s: s[0], [\"Kunal\", \"Lokendra\", \"Nikita\", \"Krishna\"])))"
   ]
  },
  {
   "cell_type": "code",
   "execution_count": 94,
   "id": "9e919c83-bb1b-4baf-a5a1-1055b5daef42",
   "metadata": {},
   "outputs": [
    {
     "name": "stdout",
     "output_type": "stream",
     "text": [
      "['k', 'even', 'k', 'even', 'D']\n"
     ]
    }
   ],
   "source": [
    "# even length --> even\n",
    "# odd length --> first char of str\n",
    "\n",
    "print(list(map(lambda s: \"even\" if len(s)%2 == 0 else s[0], [\"kunal\", \"lokendra\", \"krishna\", \"nikita\", \"Dev\"])))"
   ]
  },
  {
   "cell_type": "code",
   "execution_count": 112,
   "id": "d909ffc6-2023-4340-be01-4d539f8a304d",
   "metadata": {},
   "outputs": [
    {
     "name": "stdin",
     "output_type": "stream",
     "text": [
      " kunal\n"
     ]
    },
    {
     "name": "stdout",
     "output_type": "stream",
     "text": [
      "Vowel\n"
     ]
    }
   ],
   "source": [
    "# accepts character if it is vowel -> Vowel\n",
    "                       # otherwise -> No Vowel\n",
    "\n",
    "name = input()\n",
    "vowel = list(filter(lambda ch: ch.lower() in \"aeiou\", name))\n",
    "if len(vowel) == 0:\n",
    "    print(\"No Vowel\")\n",
    "else:\n",
    "    print(\"Vowel\")"
   ]
  },
  {
   "cell_type": "code",
   "execution_count": null,
   "id": "510b2f6d-6f9a-4200-8408-40a8234dedbf",
   "metadata": {},
   "outputs": [],
   "source": []
  },
  {
   "cell_type": "code",
   "execution_count": null,
   "id": "71f0f052-69d6-46d8-9a45-f4705022a1d7",
   "metadata": {},
   "outputs": [],
   "source": []
  },
  {
   "cell_type": "markdown",
   "id": "3e7907ed-5b6d-4eb1-a8ee-2366da35d900",
   "metadata": {},
   "source": [
    "## list\n",
    "[🏠](#Python-Programming)"
   ]
  },
  {
   "cell_type": "code",
   "execution_count": 126,
   "id": "c6a4c2b4-84ca-4a13-9e62-545d6ce86625",
   "metadata": {},
   "outputs": [
    {
     "name": "stdout",
     "output_type": "stream",
     "text": [
      "<class 'list'>\n",
      "<class 'list'>\n",
      "<class 'list'>\n"
     ]
    }
   ],
   "source": [
    "# List ===> ordered, contain any arbitary object, indexed-base, dynamic in nature\n",
    "\n",
    "# how to create\n",
    "l = []\n",
    "print(type(l))\n",
    "\n",
    "mylist = [1, 2, 3, \"kunal\"]\n",
    "print(type(mylist))\n",
    "\n",
    "my_list = list()\n",
    "print(type(my_list))"
   ]
  },
  {
   "cell_type": "code",
   "execution_count": 128,
   "id": "91254e16-feb3-4acd-a8a1-c9ea5283e90f",
   "metadata": {},
   "outputs": [
    {
     "name": "stdout",
     "output_type": "stream",
     "text": [
      "[]\n",
      "[1, 2, 3, 'kunal']\n",
      "[]\n"
     ]
    }
   ],
   "source": [
    "print(l)\n",
    "print(mylist)\n",
    "print(my_list)"
   ]
  },
  {
   "cell_type": "code",
   "execution_count": 130,
   "id": "a412b019-0ed1-4755-ae15-987fb58c0935",
   "metadata": {},
   "outputs": [
    {
     "data": {
      "text/plain": [
       "[10, 30, 40, 50, 51, 1]"
      ]
     },
     "execution_count": 130,
     "metadata": {},
     "output_type": "execute_result"
    }
   ],
   "source": [
    "nums = [10, 30, 40, 50, 51]\n",
    "nums.append(1)\n",
    "nums"
   ]
  },
  {
   "cell_type": "code",
   "execution_count": 132,
   "id": "5baa79ba-6700-459b-9c74-7d3b9baf913e",
   "metadata": {},
   "outputs": [
    {
     "data": {
      "text/plain": [
       "[1, 51, 50, 40, 30, 10]"
      ]
     },
     "execution_count": 132,
     "metadata": {},
     "output_type": "execute_result"
    }
   ],
   "source": [
    "nums[::-1]"
   ]
  },
  {
   "cell_type": "code",
   "execution_count": 134,
   "id": "2f74679e-fac9-48ba-b594-0b61c6630414",
   "metadata": {},
   "outputs": [
    {
     "data": {
      "text/plain": [
       "[10, 30, 40, 50, 51, 1]"
      ]
     },
     "execution_count": 134,
     "metadata": {},
     "output_type": "execute_result"
    }
   ],
   "source": [
    "nums[::]"
   ]
  },
  {
   "cell_type": "code",
   "execution_count": 136,
   "id": "fc7989e8-ed1d-47d6-8cce-c1709acfadf2",
   "metadata": {},
   "outputs": [
    {
     "data": {
      "text/plain": [
       "[10, 40, 51]"
      ]
     },
     "execution_count": 136,
     "metadata": {},
     "output_type": "execute_result"
    }
   ],
   "source": [
    "nums[::2]"
   ]
  },
  {
   "cell_type": "code",
   "execution_count": 138,
   "id": "f13e7e35-f629-41f5-b55a-ddebf1aba145",
   "metadata": {},
   "outputs": [
    {
     "data": {
      "text/plain": [
       "[10, 30, 40, 50]"
      ]
     },
     "execution_count": 138,
     "metadata": {},
     "output_type": "execute_result"
    }
   ],
   "source": [
    "nums[:4]"
   ]
  },
  {
   "cell_type": "code",
   "execution_count": 142,
   "id": "3693e7b5-00e7-47f9-a9bd-fb8ec80ccabc",
   "metadata": {},
   "outputs": [
    {
     "data": {
      "text/plain": [
       "[]"
      ]
     },
     "execution_count": 142,
     "metadata": {},
     "output_type": "execute_result"
    }
   ],
   "source": [
    "nums[-1:-2]  #note it"
   ]
  },
  {
   "cell_type": "code",
   "execution_count": 140,
   "id": "e944a30f-444d-434c-9561-66ee7e530f6a",
   "metadata": {},
   "outputs": [
    {
     "name": "stdout",
     "output_type": "stream",
     "text": [
      "10=>30=>40=>50=>51=>1=>"
     ]
    }
   ],
   "source": [
    "for n in nums:\n",
    "    print(n, end='=>')"
   ]
  },
  {
   "cell_type": "code",
   "execution_count": 144,
   "id": "664aca95-06b9-4edf-9b3e-bc7aa7fe3dde",
   "metadata": {},
   "outputs": [
    {
     "name": "stdout",
     "output_type": "stream",
     "text": [
      "[1, 2, 3, 'kunal']\n"
     ]
    }
   ],
   "source": [
    "print(mylist)"
   ]
  },
  {
   "cell_type": "code",
   "execution_count": 150,
   "id": "e6abd142-ed57-457a-8d09-586ff4999f0d",
   "metadata": {},
   "outputs": [
    {
     "ename": "NameError",
     "evalue": "name 'mylist' is not defined",
     "output_type": "error",
     "traceback": [
      "\u001b[1;31m----------------------------------------------------------------------\u001b[0m",
      "\u001b[1;31mNameError\u001b[0m                            Traceback (most recent call last)",
      "Cell \u001b[1;32mIn[150], line 1\u001b[0m\n\u001b[1;32m----> 1\u001b[0m \u001b[38;5;28;01mdel\u001b[39;00m mylist\n\u001b[0;32m      2\u001b[0m \u001b[38;5;28mprint\u001b[39m(mylist)\n",
      "\u001b[1;31mNameError\u001b[0m: name 'mylist' is not defined"
     ]
    }
   ],
   "source": [
    "del mylist\n",
    "print(mylist)"
   ]
  },
  {
   "cell_type": "code",
   "execution_count": 166,
   "id": "fa6fe44d-923a-420f-9a3f-f42930f507c7",
   "metadata": {},
   "outputs": [
    {
     "data": {
      "text/plain": [
       "[10, 30, 40, 50, 51, 1]"
      ]
     },
     "execution_count": 166,
     "metadata": {},
     "output_type": "execute_result"
    }
   ],
   "source": [
    "nums"
   ]
  },
  {
   "cell_type": "code",
   "execution_count": 172,
   "id": "aa2bb0f1-c553-4894-9972-3c672d744cd9",
   "metadata": {},
   "outputs": [
    {
     "name": "stdout",
     "output_type": "stream",
     "text": [
      "6\n",
      "51\n",
      "1\n",
      "182\n",
      "[1, 10, 30, 40, 50, 51]\n",
      "['k', 'u', 'n', 'a', 'l']\n",
      "True\n",
      "True\n"
     ]
    },
    {
     "data": {
      "text/plain": [
       "[10, 30, 40, 50, 51, 1]"
      ]
     },
     "execution_count": 172,
     "metadata": {},
     "output_type": "execute_result"
    }
   ],
   "source": [
    "# built-in func\n",
    "\n",
    "print(len(nums))   # -> returns the length of the list\n",
    "print(max(nums))   # -> return max value in list\n",
    "print(min(nums))   # -> return min value in list\n",
    "print(sum(nums))   # -> returns the sum of list ele\n",
    "print(sorted(nums)) # returns the sorted list; not modified the original one\n",
    "\n",
    "print(list(\"kunal\")) # make list from iterable\n",
    "print(any(nums))  # return True if any of value is non-zero or truth val\n",
    "print(all(nums))  # return True iff all value are non-zero or empty iterable\n",
    "nums"
   ]
  },
  {
   "cell_type": "code",
   "execution_count": 199,
   "id": "f76fdc58-3a9f-45a9-9dd3-59380f7dd40b",
   "metadata": {},
   "outputs": [
    {
     "name": "stdout",
     "output_type": "stream",
     "text": [
      "[1, 2, 3, 4, 'kunal']\n"
     ]
    }
   ],
   "source": [
    "# list methods: append(), extend(), insert(), index(), count(), remove(), sort(), pop(), clear(), sort(), reverse()\n",
    "\n",
    "\n",
    "mylist = [1, 2, 3, 4]\n",
    "mylist.append(\"kunal\")\n",
    "print(mylist)"
   ]
  },
  {
   "cell_type": "code",
   "execution_count": 201,
   "id": "e6014cbc-04f4-440f-9130-60df668c59a0",
   "metadata": {},
   "outputs": [
    {
     "name": "stdout",
     "output_type": "stream",
     "text": [
      "[1, 2, 3, 4, 'kunal', 'k', 'u', 'n', 'a', 'l']\n"
     ]
    }
   ],
   "source": [
    "mylist.extend(\"kunal\")\n",
    "print(mylist)"
   ]
  },
  {
   "cell_type": "code",
   "execution_count": 203,
   "id": "9f359caf-167c-44ab-b1d1-b41cf9a9042e",
   "metadata": {},
   "outputs": [
    {
     "data": {
      "text/plain": [
       "[1, 2, 3, 4, [0, 1], 'kunal', 'k', 'u', 'n', 'a', 'l']"
      ]
     },
     "execution_count": 203,
     "metadata": {},
     "output_type": "execute_result"
    }
   ],
   "source": [
    "mylist.insert(4, [0,1])\n",
    "mylist"
   ]
  },
  {
   "cell_type": "code",
   "execution_count": 205,
   "id": "c49cd3e6-a705-4066-bfdf-44b8052de841",
   "metadata": {},
   "outputs": [
    {
     "data": {
      "text/plain": [
       "1"
      ]
     },
     "execution_count": 205,
     "metadata": {},
     "output_type": "execute_result"
    }
   ],
   "source": [
    "mylist.count('k')"
   ]
  },
  {
   "cell_type": "code",
   "execution_count": 207,
   "id": "41a145cf-0987-47e5-bcf6-6bcadc0ddce2",
   "metadata": {},
   "outputs": [
    {
     "data": {
      "text/plain": [
       "[1, 2, 3, [0, 1], 'kunal', 'k', 'u', 'n', 'a', 'l']"
      ]
     },
     "execution_count": 207,
     "metadata": {},
     "output_type": "execute_result"
    }
   ],
   "source": [
    "mylist.remove(4) # --> thrown an exception if val doesn't exist\n",
    "mylist"
   ]
  },
  {
   "cell_type": "code",
   "execution_count": 211,
   "id": "5f1eb05f-e203-413c-aece-d41e29797d7b",
   "metadata": {},
   "outputs": [
    {
     "data": {
      "text/plain": [
       "'l'"
      ]
     },
     "execution_count": 211,
     "metadata": {},
     "output_type": "execute_result"
    }
   ],
   "source": [
    "mylist.pop()  # -> default index -1"
   ]
  },
  {
   "cell_type": "code",
   "execution_count": 213,
   "id": "25ffaa29-7512-4706-a0c7-264b134ca152",
   "metadata": {},
   "outputs": [
    {
     "data": {
      "text/plain": [
       "[0, 1]"
      ]
     },
     "execution_count": 213,
     "metadata": {},
     "output_type": "execute_result"
    }
   ],
   "source": [
    "mylist.pop(3)"
   ]
  },
  {
   "cell_type": "code",
   "execution_count": 215,
   "id": "fa1a1488-bc64-4821-ba64-ec26066327d0",
   "metadata": {},
   "outputs": [
    {
     "data": {
      "text/plain": [
       "[1, 2, 3, 'kunal', 'k', 'u', 'n', 'a']"
      ]
     },
     "execution_count": 215,
     "metadata": {},
     "output_type": "execute_result"
    }
   ],
   "source": [
    "mylist"
   ]
  },
  {
   "cell_type": "code",
   "execution_count": 223,
   "id": "545a89b8-1255-4644-95ce-7e020d650c50",
   "metadata": {},
   "outputs": [
    {
     "data": {
      "text/plain": [
       "[41, 32, 25, 6, 4, 2, 1]"
      ]
     },
     "execution_count": 223,
     "metadata": {},
     "output_type": "execute_result"
    }
   ],
   "source": [
    "n = [2, 1, 4,32, 41, 25, 6]\n",
    "n.sort(reverse=True)\n",
    "n"
   ]
  },
  {
   "cell_type": "code",
   "execution_count": 229,
   "id": "165246fc-4ce9-4eee-b5a6-5ee40854aae0",
   "metadata": {},
   "outputs": [
    {
     "data": {
      "text/plain": [
       "['aalu', 'kunal', 'nitya', 'bhalu', 'lokendra', 'harishankar']"
      ]
     },
     "execution_count": 229,
     "metadata": {},
     "output_type": "execute_result"
    }
   ],
   "source": [
    "# sort on the basis of str length not on the basis of UNICODE\n",
    "names = [\"kunal\", \"nitya\", \"lokendra\", \"harishankar\", \"bhalu\", \"aalu\"]\n",
    "\n",
    "names.sort(key=len)\n",
    "names"
   ]
  },
  {
   "cell_type": "code",
   "execution_count": 231,
   "id": "50dd77f5-7e30-454d-8474-7c0b1ad2b5d8",
   "metadata": {},
   "outputs": [
    {
     "data": {
      "text/plain": [
       "['harishankar', 'lokendra', 'bhalu', 'nitya', 'kunal', 'aalu']"
      ]
     },
     "execution_count": 231,
     "metadata": {},
     "output_type": "execute_result"
    }
   ],
   "source": [
    "names.reverse()\n",
    "names"
   ]
  },
  {
   "cell_type": "markdown",
   "id": "9390aba0-afb2-4f4f-91f7-5f6822d5a7e5",
   "metadata": {},
   "source": [
    "## list-comprehensions\n",
    "[🏠](#Python-Programming)"
   ]
  },
  {
   "cell_type": "code",
   "execution_count": 236,
   "id": "e72cc16c-558f-4f5b-96fe-4aca02de51e7",
   "metadata": {},
   "outputs": [],
   "source": [
    "# list comprehensions: built list from another list\n",
    "# 2.0 introduced list comprehensions and 3.0 dict comp, set comp.."
   ]
  },
  {
   "cell_type": "code",
   "execution_count": 244,
   "id": "53a1550c-b2f7-4ff9-b6b8-d79ac1a61ade",
   "metadata": {},
   "outputs": [
    {
     "name": "stdout",
     "output_type": "stream",
     "text": [
      "['N', 'a', 'g', 'p', 'u', 'r']\n"
     ]
    }
   ],
   "source": [
    "text = \"Nagpur\"\n",
    "mylist = []\n",
    "for ch in text:\n",
    "    mylist.append(ch)\n",
    "print(mylist)\n",
    "\n",
    "#=====> 31%fast"
   ]
  },
  {
   "cell_type": "code",
   "execution_count": 246,
   "id": "4344c858-3489-450f-a7a6-10bf6e9e1bae",
   "metadata": {},
   "outputs": [
    {
     "data": {
      "text/plain": [
       "['N', 'a', 'g', 'p', 'u', 'r']"
      ]
     },
     "execution_count": 246,
     "metadata": {},
     "output_type": "execute_result"
    }
   ],
   "source": [
    "mylist = list(map(lambda x: x, text))\n",
    "mylist\n",
    "\n",
    "\n",
    "#=====> 45% fast"
   ]
  },
  {
   "cell_type": "code",
   "execution_count": 248,
   "id": "3354e630-f49f-4248-ad49-19bfbe2cc04d",
   "metadata": {},
   "outputs": [
    {
     "data": {
      "text/plain": [
       "['N', 'a', 'g', 'p', 'u', 'r']"
      ]
     },
     "execution_count": 248,
     "metadata": {},
     "output_type": "execute_result"
    }
   ],
   "source": [
    "#list comprehensions\n",
    "\n",
    "mylist = [x for x in text]\n",
    "mylist"
   ]
  },
  {
   "cell_type": "code",
   "execution_count": 252,
   "id": "ecb6a739-c199-4943-92fd-77b564845d6f",
   "metadata": {},
   "outputs": [
    {
     "data": {
      "text/plain": [
       "[1, 4, 9, 16, 25]"
      ]
     },
     "execution_count": 252,
     "metadata": {},
     "output_type": "execute_result"
    }
   ],
   "source": [
    "nos = [1, 2, 3, 4, 5]\n",
    "square_nos = [n**2 for n in nos]\n",
    "square_nos"
   ]
  },
  {
   "cell_type": "markdown",
   "id": "f97f6249-7735-4dca-9a01-63573c92079f",
   "metadata": {},
   "source": [
    "## tuple\n",
    "[🏠](#Python-Programming)"
   ]
  },
  {
   "cell_type": "code",
   "execution_count": 114,
   "id": "737f994f-75df-4189-951a-d15e3b0a0dab",
   "metadata": {},
   "outputs": [
    {
     "name": "stdout",
     "output_type": "stream",
     "text": [
      "<class 'tuple'>\n",
      "<class 'tuple'>\n"
     ]
    }
   ],
   "source": [
    "# Tuple: ordered collection of objects/ immutable\n",
    "\n",
    "mytuple = ()\n",
    "print(type(mytuple))\n",
    "\n",
    "mytuple = 1, 2, 3\n",
    "print(type(mytuple))"
   ]
  },
  {
   "cell_type": "code",
   "execution_count": 116,
   "id": "e12c47d6-436f-451f-82c4-f6f7f8b88f0a",
   "metadata": {},
   "outputs": [
    {
     "name": "stdout",
     "output_type": "stream",
     "text": [
      "<class 'int'>\n"
     ]
    }
   ],
   "source": [
    "a = (10)\n",
    "print(type(a))      # EWWWWW Y? Y? Y? \n",
    "                    # -> just bcoz () is used to define operator precedence; so it assum as exp and then evaluat to int ->2"
   ]
  },
  {
   "cell_type": "code",
   "execution_count": 118,
   "id": "8159f5b8-ed53-407f-ac5b-4cb045b739d3",
   "metadata": {},
   "outputs": [
    {
     "name": "stdout",
     "output_type": "stream",
     "text": [
      "<class 'tuple'>\n",
      "<class 'tuple'>\n"
     ]
    }
   ],
   "source": [
    "# for that the solutions is;\n",
    "a = 10,\n",
    "print(type(a))\n",
    "\n",
    "# or\n",
    "a = (10,)\n",
    "print(type(a))"
   ]
  },
  {
   "cell_type": "code",
   "execution_count": 120,
   "id": "f70c6881-30e5-496f-83cf-cd853e0216ba",
   "metadata": {},
   "outputs": [
    {
     "name": "stdout",
     "output_type": "stream",
     "text": [
      "(10, 20, 40)\n",
      "10=>20=>40\n"
     ]
    },
    {
     "data": {
      "text/plain": [
       "int"
      ]
     },
     "execution_count": 120,
     "metadata": {},
     "output_type": "execute_result"
    }
   ],
   "source": [
    "# packing & unpacking\n",
    "\n",
    "t = 10, 20, 40\n",
    "print(t)\n",
    "\n",
    "a, b, c = t\n",
    "print(a, b, c, sep='=>')\n",
    "type(a)"
   ]
  },
  {
   "cell_type": "code",
   "execution_count": 122,
   "id": "8e503596-1ebc-43d9-9b35-281a96340c96",
   "metadata": {},
   "outputs": [
    {
     "name": "stdout",
     "output_type": "stream",
     "text": [
      "10 [20, 40]\n"
     ]
    }
   ],
   "source": [
    "a, *b = t\n",
    "print(a, b)"
   ]
  },
  {
   "cell_type": "code",
   "execution_count": 124,
   "id": "6dad6207-d326-4a5f-a4a8-709b6e27235a",
   "metadata": {},
   "outputs": [
    {
     "name": "stdout",
     "output_type": "stream",
     "text": [
      "[10, 20] 40\n"
     ]
    }
   ],
   "source": [
    "*a, b = t\n",
    "print(a, b)"
   ]
  },
  {
   "cell_type": "code",
   "execution_count": 126,
   "id": "a87a2291-6df2-4056-8a76-a92febe4d695",
   "metadata": {},
   "outputs": [
    {
     "name": "stdout",
     "output_type": "stream",
     "text": [
      "40 [10, 20]\n"
     ]
    }
   ],
   "source": [
    "# swap 2 no\n",
    "a, b = b, a\n",
    "print(a, b)"
   ]
  },
  {
   "cell_type": "code",
   "execution_count": 128,
   "id": "b033ac75-cd5d-4922-8f86-a2d18a30e82f",
   "metadata": {},
   "outputs": [
    {
     "name": "stdout",
     "output_type": "stream",
     "text": [
      "(10, 20, 30)\n",
      "30\n",
      "(30, 20, 10)\n"
     ]
    }
   ],
   "source": [
    "# Accessing the tuple-==> print()/subscript->[]/slice->[:]\n",
    "tt = (10, 20, 30)\n",
    "print(tt)\n",
    "print(tt[-1])\n",
    "print(tt[::-1])"
   ]
  },
  {
   "cell_type": "code",
   "execution_count": 130,
   "id": "5b47bdd6-12e3-4a4c-a45a-f2593f4d0a94",
   "metadata": {},
   "outputs": [
    {
     "ename": "NameError",
     "evalue": "name 'tt' is not defined",
     "output_type": "error",
     "traceback": [
      "\u001b[1;31m----------------------------------------------------------------------\u001b[0m",
      "\u001b[1;31mNameError\u001b[0m                            Traceback (most recent call last)",
      "Cell \u001b[1;32mIn[130], line 4\u001b[0m\n\u001b[0;32m      1\u001b[0m \u001b[38;5;66;03m# we can;t delete a part of tuple but entire can be done using -> del\u001b[39;00m\n\u001b[0;32m      3\u001b[0m \u001b[38;5;28;01mdel\u001b[39;00m tt\n\u001b[1;32m----> 4\u001b[0m \u001b[38;5;28mprint\u001b[39m(tt)\n",
      "\u001b[1;31mNameError\u001b[0m: name 'tt' is not defined"
     ]
    }
   ],
   "source": [
    "# we can;t delete a part of tuple but entire can be done using -> del\n",
    "\n",
    "del tt\n",
    "print(tt)"
   ]
  },
  {
   "cell_type": "code",
   "execution_count": 131,
   "id": "f25135ff-7426-4e28-be13-3e7ebea18dfb",
   "metadata": {},
   "outputs": [
    {
     "data": {
      "text/plain": [
       "False"
      ]
     },
     "execution_count": 131,
     "metadata": {},
     "output_type": "execute_result"
    }
   ],
   "source": [
    "# buitl-in func\n",
    "ttt = (10, 30, 40, 89)\n",
    "len(ttt)\n",
    "max(ttt)\n",
    "min(ttt)\n",
    "sum(ttt)\n",
    "sorted(ttt)  # returns an list of sorted ele\n",
    "a = tuple([1,2,3, 0])\n",
    "a\n",
    "any(ttt)\n",
    "all(a)"
   ]
  },
  {
   "cell_type": "code",
   "execution_count": 134,
   "id": "3d3c16ae-d589-4ced-a002-1508d4eed4de",
   "metadata": {},
   "outputs": [
    {
     "data": {
      "text/plain": [
       "2"
      ]
     },
     "execution_count": 134,
     "metadata": {},
     "output_type": "execute_result"
    }
   ],
   "source": [
    "ttt.index(40)"
   ]
  },
  {
   "cell_type": "code",
   "execution_count": 136,
   "id": "5421ad3b-fd22-4d11-b59b-a6dc1bd3d6a0",
   "metadata": {},
   "outputs": [
    {
     "data": {
      "text/plain": [
       "1"
      ]
     },
     "execution_count": 136,
     "metadata": {},
     "output_type": "execute_result"
    }
   ],
   "source": [
    "ttt.count(89)"
   ]
  },
  {
   "cell_type": "code",
   "execution_count": 138,
   "id": "a87ca48e-4852-420f-aa26-247cb91ce034",
   "metadata": {},
   "outputs": [
    {
     "data": {
      "text/plain": [
       "(90, 90)"
      ]
     },
     "execution_count": 138,
     "metadata": {},
     "output_type": "execute_result"
    }
   ],
   "source": [
    "(90,)+(90,)"
   ]
  },
  {
   "cell_type": "code",
   "execution_count": 140,
   "id": "44134cfb-638e-4cc7-a665-317fd4e257be",
   "metadata": {},
   "outputs": [
    {
     "data": {
      "text/plain": [
       "(60, 60, 60)"
      ]
     },
     "execution_count": 140,
     "metadata": {},
     "output_type": "execute_result"
    }
   ],
   "source": [
    "(60,) * 3"
   ]
  },
  {
   "cell_type": "markdown",
   "id": "2271d374-c40c-4139-8b66-af08993c05f7",
   "metadata": {},
   "source": [
    "## string\n",
    "[🏠](#Python-Programming)"
   ]
  },
  {
   "cell_type": "code",
   "execution_count": 1,
   "id": "be10868e-5f3a-4180-be7f-09e3a053efcc",
   "metadata": {},
   "outputs": [],
   "source": [
    "# String: sequence of zero or more character.\n",
    "#        -> Immutable\n",
    "#        -> we can't changed the its ele\n",
    "#        -> 3 ways to create string -> '' / \"\" / \"\"\"\"\"\" or ''''''"
   ]
  },
  {
   "cell_type": "code",
   "execution_count": 8,
   "id": "2fac5899-7841-4d1d-99a2-d14f743e36d5",
   "metadata": {},
   "outputs": [
    {
     "name": "stdout",
     "output_type": "stream",
     "text": [
      "Kunal Dharpure\n",
      "<class 'str'>\n",
      "e\n",
      "eruprahD lanuK\n",
      "Kunal\n"
     ]
    }
   ],
   "source": [
    "name = \"Kunal Dharpure\"\n",
    "\n",
    "print(name)\n",
    "print(type(name))\n",
    "print(name[-1])\n",
    "print(name[::-1])\n",
    "print(name[:5])"
   ]
  },
  {
   "cell_type": "code",
   "execution_count": 12,
   "id": "c6319345-dbfc-4f3f-b0ea-3468639cbdfb",
   "metadata": {},
   "outputs": [
    {
     "name": "stdout",
     "output_type": "stream",
     "text": [
      "K->u->n->a->l-> ->D->h->a->r->p->u->r->e->"
     ]
    }
   ],
   "source": [
    "i = 0\n",
    "while i < len(name):\n",
    "    print(name[i], end='->')\n",
    "    i += 1"
   ]
  },
  {
   "cell_type": "code",
   "execution_count": 16,
   "id": "7158100f-d7e4-43e5-a920-c116b2b60e4c",
   "metadata": {},
   "outputs": [
    {
     "name": "stdout",
     "output_type": "stream",
     "text": [
      "e->r->u->p->r->a->h->D-> ->l->a->n->u->K->"
     ]
    }
   ],
   "source": [
    "# reverse \n",
    "for i in range(len(name)-1, -1, -1):\n",
    "    print(name[i], end='->')"
   ]
  },
  {
   "cell_type": "code",
   "execution_count": 24,
   "id": "d0186771-6cbb-4d82-9312-340cd5772f8f",
   "metadata": {},
   "outputs": [],
   "source": [
    "# Qn x=?\n",
    "x = \"Ba\"+\"na\"*2\n",
    "# Ans: ?"
   ]
  },
  {
   "cell_type": "code",
   "execution_count": 74,
   "id": "ccc07181-fec5-4559-a756-9e9812884967",
   "metadata": {},
   "outputs": [
    {
     "name": "stdout",
     "output_type": "stream",
     "text": [
      "14\n",
      "u\n",
      " \n",
      "B\n",
      "65\n",
      "<class 'str'>\n"
     ]
    },
    {
     "data": {
      "text/plain": [
       "'['"
      ]
     },
     "execution_count": 74,
     "metadata": {},
     "output_type": "execute_result"
    }
   ],
   "source": [
    "# Built-in func\n",
    "city = \"Nagpur\"\n",
    "\n",
    "print(len(name))\n",
    "print(max(name)) # -> returns a char which is alphabetically the highest char in str\n",
    "print(min(name))\n",
    "print(chr(66)) \n",
    "print(ord('A')) # -> unicode\n",
    "\n",
    "s = str([1,2,3,4,5])\n",
    "print(type(s))\n",
    "s[0]"
   ]
  },
  {
   "cell_type": "code",
   "execution_count": 86,
   "id": "822aa031-e793-4b2d-afaa-a2f07cd2aece",
   "metadata": {},
   "outputs": [
    {
     "name": "stdout",
     "output_type": "stream",
     "text": [
      "My name is kunal & I am 21 yrs old.\n",
      "My name is kunal & I am 21 yrs old.\n",
      "My name is kunal & I am 21 yrs old.\n",
      "My name is kunal & I am 21 yrs old.\n",
      "My name is kunal & I am 21 yrs old.\n"
     ]
    }
   ],
   "source": [
    "# formating\n",
    "name = \"kunal\"\n",
    "age = 21\n",
    "\n",
    "print(\"My name is \"+name+\" & I am \"+str(age)+\" yrs old.\")\n",
    "print(\"My name is\", name, \"& I am\", age, \"yrs old.\")\n",
    "print(\"My name is {} & I am {} yrs old.\".format(name, age))\n",
    "print(\"My name is %s & I am %i yrs old.\"%(name, age))\n",
    "\n",
    "# f-string\n",
    "print(f\"My name is {name} & I am {age} yrs old.\")"
   ]
  },
  {
   "cell_type": "code",
   "execution_count": 110,
   "id": "2a3591ac-687d-4b37-ac34-0a227840cde7",
   "metadata": {},
   "outputs": [
    {
     "name": "stdout",
     "output_type": "stream",
     "text": [
      "Kunal dharpure\n",
      "kunal dharpure\n",
      "KUNAL DHARPURE\n",
      "kUNAl DHARPURE\n",
      "Kunal Dharpure\n",
      "False\n",
      "False\n"
     ]
    }
   ],
   "source": [
    "# String methods;\n",
    "# capitalize() -> return a copy\n",
    "\n",
    "name = \"KunaL dharpure\"\n",
    "\n",
    "fname = name.capitalize()\n",
    "print(fname)\n",
    "\n",
    "print(name.lower())\n",
    "print(name.upper())\n",
    "print(name.swapcase())\n",
    "print(name.title()) # -> Proper Case.--> All Are Fun\n",
    "\n",
    "# string comparison\n",
    "print(name.islower())\n",
    "print(name.isupper())\n",
    "\n",
    "# istitle()\n",
    "# isalpha()\n",
    "# isdigit()\n",
    "# isspace() -> is there any space in str\n",
    "# startswith() -> takes 3 arg (2optional)===> startswith(suffix, start, end)\n",
    "# endswith()\n"
   ]
  },
  {
   "cell_type": "code",
   "execution_count": 122,
   "id": "7c278824-7329-411a-986d-972dba380728",
   "metadata": {},
   "outputs": [
    {
     "name": "stdout",
     "output_type": "stream",
     "text": [
      "7\n",
      "2\n"
     ]
    }
   ],
   "source": [
    "# searching methods\n",
    "name = \"I hate programming!\"\n",
    "\n",
    "print(name.index('p'))  # -> throws exception if not present\n",
    "\n",
    "print(name.find(\"hate\")) # -1 in case not present"
   ]
  },
  {
   "cell_type": "code",
   "execution_count": 130,
   "id": "8938ab71-b5a6-4049-9ac5-6d68c07296c5",
   "metadata": {},
   "outputs": [
    {
     "name": "stdout",
     "output_type": "stream",
     "text": [
      " kUnal DharpUre \n"
     ]
    },
    {
     "data": {
      "text/plain": [
       "'kunal Dharpure'"
      ]
     },
     "execution_count": 130,
     "metadata": {},
     "output_type": "execute_result"
    }
   ],
   "source": [
    "fname = \" kunal Dharpure \"\n",
    "\n",
    "ans = fname.replace('u', 'U')\n",
    "print(ans)\n",
    "\n",
    "print(fname.strip()) # -> leading & trailing char removed"
   ]
  },
  {
   "cell_type": "code",
   "execution_count": 138,
   "id": "4a9d075c-a23a-4b03-a134-1cd681c565eb",
   "metadata": {},
   "outputs": [
    {
     "data": {
      "text/plain": [
       "['I', 'am', 'Batman!']"
      ]
     },
     "execution_count": 138,
     "metadata": {},
     "output_type": "execute_result"
    }
   ],
   "source": [
    "# spilt() --> impt   ==> returns the list\n",
    "\n",
    "word = \"I am Batman!\"\n",
    "new_word = word.split()  # based on space splited into list\n",
    "new_word"
   ]
  },
  {
   "cell_type": "code",
   "execution_count": 152,
   "id": "99c8571c-34bf-4124-87af-80a7624090b8",
   "metadata": {},
   "outputs": [
    {
     "data": {
      "text/plain": [
       "'gmail.com'"
      ]
     },
     "execution_count": 152,
     "metadata": {},
     "output_type": "execute_result"
    }
   ],
   "source": [
    "mail = \"kunal@gmail.com\"\n",
    "# take the domain from mail \n",
    "\n",
    "domain = mail.split('@')\n",
    "domain[-1]"
   ]
  },
  {
   "cell_type": "code",
   "execution_count": 160,
   "id": "c64d4cb5-a740-4210-bb66-92edc80783d3",
   "metadata": {},
   "outputs": [
    {
     "name": "stdout",
     "output_type": "stream",
     "text": [
      "P y t h o n\n",
      "<class 'str'>\n"
     ]
    }
   ],
   "source": [
    "# join() -> <str>.join(iterable)  ==> returns the str\n",
    "\n",
    "l = \"Python\"\n",
    "ls = \" \".join(l)\n",
    "print(ls)\n",
    "print(type(ls))"
   ]
  },
  {
   "cell_type": "code",
   "execution_count": 166,
   "id": "161983ce-1228-465a-8107-55932960633a",
   "metadata": {},
   "outputs": [
    {
     "data": {
      "text/plain": [
       "'HARI'"
      ]
     },
     "execution_count": 166,
     "metadata": {},
     "output_type": "execute_result"
    }
   ],
   "source": [
    "l = [\"H\", \"A\", \"R\", \"I\"]\n",
    "\"\".join(l)"
   ]
  },
  {
   "cell_type": "markdown",
   "id": "6e76ca67-52e9-472f-bb59-2e87869a25e5",
   "metadata": {},
   "source": [
    "# dictionaries\n",
    "[🏠](#Python-Programming)"
   ]
  },
  {
   "cell_type": "code",
   "execution_count": 258,
   "id": "4f82434e-f857-4024-8dd6-20c199165b42",
   "metadata": {},
   "outputs": [
    {
     "name": "stdout",
     "output_type": "stream",
     "text": [
      "<class 'dict'>\n",
      "{'A': 'Apple', 'B': 'Banana', 'C': 'Cashew'}\n"
     ]
    }
   ],
   "source": [
    "# Dictionary: unordered collection of items ==============> but 3.7+ onward it is ordered\n",
    "# Mutable\n",
    "# Dynamic in nature\n",
    "# key: value\n",
    "\n",
    "d = {\n",
    "    'A': \"Apple\",\n",
    "    'B': \"Banana\",\n",
    "    'C': \"Cashew\"\n",
    "}\n",
    "\n",
    "print(type(d))\n",
    "print(d)"
   ]
  },
  {
   "cell_type": "code",
   "execution_count": 260,
   "id": "2ff9eb36-03b0-4f17-831a-9a8aa803e6a2",
   "metadata": {},
   "outputs": [
    {
     "data": {
      "text/plain": [
       "dict"
      ]
     },
     "execution_count": 260,
     "metadata": {},
     "output_type": "execute_result"
    }
   ],
   "source": [
    "dd = dict() #empty\n",
    "type(dd)"
   ]
  },
  {
   "cell_type": "code",
   "execution_count": 262,
   "id": "92e80198-0380-4e4d-b6f7-8f1bdfe8df2e",
   "metadata": {},
   "outputs": [
    {
     "data": {
      "text/plain": [
       "dict"
      ]
     },
     "execution_count": 262,
     "metadata": {},
     "output_type": "execute_result"
    }
   ],
   "source": [
    "d = {} #empty dict\n",
    "type(d)"
   ]
  },
  {
   "cell_type": "code",
   "execution_count": 269,
   "id": "8ae209b2-e884-402b-966a-00c7761188db",
   "metadata": {},
   "outputs": [
    {
     "data": {
      "text/plain": [
       "{50: 'kunal', 51: 'lokedra'}"
      ]
     },
     "execution_count": 269,
     "metadata": {},
     "output_type": "execute_result"
    }
   ],
   "source": [
    "d = {50: \"kunal\", 51: \"lokedra\"}\n",
    "d"
   ]
  },
  {
   "cell_type": "code",
   "execution_count": 281,
   "id": "67a6868a-ada7-4ab3-b284-f73b50a230c7",
   "metadata": {},
   "outputs": [
    {
     "name": "stdout",
     "output_type": "stream",
     "text": [
      "{50: 'kunal', 51: 'lokedra'}\n",
      "kunal\n",
      "lokedra\n",
      "50 kunal\n",
      "51 lokedra\n"
     ]
    }
   ],
   "source": [
    "# Accessing -> 4ways\n",
    "\n",
    "print(d)\n",
    "\n",
    "print(d[50])\n",
    "\n",
    "print(d.get(51))\n",
    "\n",
    "for i, v in d.items():\n",
    "    print(i, v)"
   ]
  },
  {
   "cell_type": "code",
   "execution_count": 283,
   "id": "971487ed-30c7-4385-9399-91eb05e6d118",
   "metadata": {},
   "outputs": [
    {
     "name": "stdout",
     "output_type": "stream",
     "text": [
      "dict_keys([50, 51])\n",
      "dict_values(['kunal', 'lokedra'])\n",
      "dict_items([(50, 'kunal'), (51, 'lokedra')])\n"
     ]
    }
   ],
   "source": [
    "print(d.keys())\n",
    "print(d.values())\n",
    "print(d.items()) # -> list of tuples"
   ]
  },
  {
   "cell_type": "code",
   "execution_count": 307,
   "id": "15609acd-85b5-489f-830f-83b3cd2cff2d",
   "metadata": {},
   "outputs": [
    {
     "name": "stdout",
     "output_type": "stream",
     "text": [
      "{'50': 'kunal', '51': 'lokedndra', '52': 'nikita', '53': 'krishna', 55: 'nandini'}\n",
      "{'50': 'kunal pawar', '51': 'lokedndra', '52': 'nikita', '53': 'krishna', 55: 'nandini'}\n"
     ]
    }
   ],
   "source": [
    "# update -> 2ways\n",
    "\n",
    "student = {\n",
    "    '50': \"kunal\",\n",
    "    '51': \"lokedndra\",\n",
    "    '52': \"nikita\",\n",
    "    '53': \"krishna\"\n",
    "}\n",
    "\n",
    "student[55] = \"nandini\"\n",
    "print(student)\n",
    "\n",
    "student.update({'50': \"kunal pawar\"})\n",
    "print(student)"
   ]
  },
  {
   "cell_type": "code",
   "execution_count": 309,
   "id": "63f16466-3d3b-4e95-926b-d939ce689692",
   "metadata": {},
   "outputs": [
    {
     "name": "stdout",
     "output_type": "stream",
     "text": [
      "krishna\n"
     ]
    },
    {
     "data": {
      "text/plain": [
       "{'50': 'kunal pawar', '51': 'lokedndra', '52': 'nikita', 55: 'nandini'}"
      ]
     },
     "execution_count": 309,
     "metadata": {},
     "output_type": "execute_result"
    }
   ],
   "source": [
    "#remove\n",
    "print(student.pop('53'))\n",
    "student"
   ]
  },
  {
   "cell_type": "code",
   "execution_count": 313,
   "id": "2aab651c-150b-491d-b4c5-3f3afb2ab890",
   "metadata": {},
   "outputs": [
    {
     "data": {
      "text/plain": [
       "{}"
      ]
     },
     "execution_count": 313,
     "metadata": {},
     "output_type": "execute_result"
    }
   ],
   "source": [
    "student.clear()\n",
    "student"
   ]
  },
  {
   "cell_type": "code",
   "execution_count": 315,
   "id": "5dd6722f-9242-4f8d-a8cd-2a4db1278542",
   "metadata": {},
   "outputs": [
    {
     "ename": "NameError",
     "evalue": "name 'student' is not defined",
     "output_type": "error",
     "traceback": [
      "\u001b[1;31m----------------------------------------------------------------------\u001b[0m",
      "\u001b[1;31mNameError\u001b[0m                            Traceback (most recent call last)",
      "Cell \u001b[1;32mIn[315], line 2\u001b[0m\n\u001b[0;32m      1\u001b[0m \u001b[38;5;28;01mdel\u001b[39;00m student\n\u001b[1;32m----> 2\u001b[0m student\n",
      "\u001b[1;31mNameError\u001b[0m: name 'student' is not defined"
     ]
    }
   ],
   "source": [
    "del student\n",
    "# student  # NameError as student is deleted completly"
   ]
  },
  {
   "cell_type": "code",
   "execution_count": 323,
   "id": "d1c3a6db-e8c7-4c90-aad3-7c59c1873c25",
   "metadata": {},
   "outputs": [
    {
     "data": {
      "text/plain": [
       "{1: 'one', 2: 'two', 3: 'three', 4: 'four', 5: 'five'}"
      ]
     },
     "execution_count": 323,
     "metadata": {},
     "output_type": "execute_result"
    }
   ],
   "source": [
    "d = {\n",
    "    1: 'one',\n",
    "    2: 'two',\n",
    "    3: 'three',\n",
    "    4: 'four',\n",
    "    5: 'five'\n",
    "}\n",
    "\n",
    "new = d.copy() # shallow copy \n",
    "new"
   ]
  },
  {
   "cell_type": "code",
   "execution_count": 333,
   "id": "f088c70a-e96d-4506-a990-917626b5a9be",
   "metadata": {},
   "outputs": [
    {
     "name": "stdout",
     "output_type": "stream",
     "text": [
      "{1: 'one', 2: 'two', 3: 'three', 4: 'four', 5: 'five', 6: 'six'}\n",
      "{1: 'one', 2: 'two', 3: 'three', 4: 'four', 5: 'five', 6: 'six'}\n"
     ]
    }
   ],
   "source": [
    "new_d = d   # deep copy;\n",
    "new_d[6] = \"six\"\n",
    "\n",
    "print(d)\n",
    "print(new_d)"
   ]
  },
  {
   "cell_type": "code",
   "execution_count": 335,
   "id": "a79d4078-dcd7-4fb4-88f4-2dc4b51fefc0",
   "metadata": {},
   "outputs": [
    {
     "name": "stdout",
     "output_type": "stream",
     "text": [
      "{'maruti': 'ciaz', 'hyundai': 'verna', 'honda': 'Amaze'}\n",
      "{'maruti': 'ciaz', 'hyundai': 'verna', 'honda': 'Amaze'}\n"
     ]
    }
   ],
   "source": [
    "# dict comprehensions\n",
    "\n",
    "cars = {\"maruti\": \"ciaz\", \"hyundai\": \"verna\", \"honda\": \"Amaze\"}\n",
    "\n",
    "cars2 =  {k: v for k, v in cars.items()}\n",
    "\n",
    "print(cars)\n",
    "print(cars2)"
   ]
  },
  {
   "cell_type": "markdown",
   "id": "875ab5e0-438c-46b1-be4c-f25ff6208bd7",
   "metadata": {},
   "source": [
    "# OOPs\n",
    "[🏠](#Python-Programming)"
   ]
  },
  {
   "cell_type": "code",
   "execution_count": null,
   "id": "bdaf2044-8700-49d7-95ba-ec4411c63602",
   "metadata": {},
   "outputs": [],
   "source": []
  },
  {
   "cell_type": "code",
   "execution_count": null,
   "id": "dbdec007-c203-439b-ae43-395d5046ed9f",
   "metadata": {},
   "outputs": [],
   "source": []
  },
  {
   "cell_type": "code",
   "execution_count": null,
   "id": "e4997f96-a9ef-4fba-b858-0b24a792d6e9",
   "metadata": {},
   "outputs": [],
   "source": []
  },
  {
   "cell_type": "code",
   "execution_count": null,
   "id": "7281f404-65c6-438d-b336-fd23a4587beb",
   "metadata": {},
   "outputs": [],
   "source": []
  },
  {
   "cell_type": "code",
   "execution_count": null,
   "id": "460c8479-d76a-4346-b5b7-f70a60c950e7",
   "metadata": {},
   "outputs": [],
   "source": []
  },
  {
   "cell_type": "code",
   "execution_count": null,
   "id": "5b808bbb-f02b-4812-a986-85525b42d37b",
   "metadata": {},
   "outputs": [],
   "source": []
  },
  {
   "cell_type": "code",
   "execution_count": null,
   "id": "7a13a8a8-39ef-4028-ba66-94748f2080cf",
   "metadata": {},
   "outputs": [],
   "source": []
  },
  {
   "cell_type": "code",
   "execution_count": null,
   "id": "8106653f-ea81-4844-a025-5071986e31ca",
   "metadata": {},
   "outputs": [],
   "source": []
  }
 ],
 "metadata": {
  "kernelspec": {
   "display_name": "Python 3 (ipykernel)",
   "language": "python",
   "name": "python3"
  },
  "language_info": {
   "codemirror_mode": {
    "name": "ipython",
    "version": 3
   },
   "file_extension": ".py",
   "mimetype": "text/x-python",
   "name": "python",
   "nbconvert_exporter": "python",
   "pygments_lexer": "ipython3",
   "version": "3.12.4"
  }
 },
 "nbformat": 4,
 "nbformat_minor": 5
}
