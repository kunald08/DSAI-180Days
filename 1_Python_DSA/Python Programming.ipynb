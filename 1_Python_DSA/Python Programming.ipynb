{
 "cells": [
  {
   "cell_type": "code",
   "execution_count": 1,
   "id": "3bebf98c-0151-4516-aef5-6190590e45e0",
   "metadata": {},
   "outputs": [
    {
     "name": "stdout",
     "output_type": "stream",
     "text": [
      "Python 3.12.4\n"
     ]
    }
   ],
   "source": [
    "!python --version"
   ]
  },
  {
   "cell_type": "code",
   "execution_count": 3,
   "id": "fb887946-50ad-4f00-bfe4-2455b14d2b32",
   "metadata": {},
   "outputs": [
    {
     "name": "stdout",
     "output_type": "stream",
     "text": [
      "Hello, World!\n"
     ]
    }
   ],
   "source": [
    "print(\"Hello, World!\")"
   ]
  },
  {
   "cell_type": "markdown",
   "id": "bc13154f-89b9-4e92-a6e6-e1c742fc4a47",
   "metadata": {},
   "source": [
    "### Taking Input in Python"
   ]
  },
  {
   "cell_type": "code",
   "execution_count": 6,
   "id": "80ad8892-1a89-48e8-bcb1-a7cbdd1f763d",
   "metadata": {},
   "outputs": [
    {
     "name": "stdin",
     "output_type": "stream",
     "text": [
      "What is ur name?  kunal\n"
     ]
    },
    {
     "name": "stdout",
     "output_type": "stream",
     "text": [
      "Hi,  kunal ! Welcome!\n"
     ]
    }
   ],
   "source": [
    "# input() function is used to take input.\n",
    "# By default it returns the user input in form of string\n",
    "\n",
    "name = input(\"What is ur name? \")\n",
    "print(\"Hi, \", name, \"! Welcome!\")"
   ]
  },
  {
   "cell_type": "code",
   "execution_count": 12,
   "id": "d556564f-3a21-46f5-ac89-42f2f9ec7570",
   "metadata": {},
   "outputs": [
    {
     "name": "stdin",
     "output_type": "stream",
     "text": [
      " 12 21\n"
     ]
    },
    {
     "name": "stdout",
     "output_type": "stream",
     "text": [
      "12 21\n",
      "<class 'str'>\n"
     ]
    }
   ],
   "source": [
    "# taking multiple input at a time\n",
    "\n",
    "a, b = input().split()\n",
    "\n",
    "print(a, b)\n",
    "\n",
    "print(type(a))"
   ]
  },
  {
   "cell_type": "code",
   "execution_count": 14,
   "id": "3c182d27-e3f7-4f5e-9e34-169214de052a",
   "metadata": {},
   "outputs": [
    {
     "name": "stdin",
     "output_type": "stream",
     "text": [
      "How many roses?:  21\n"
     ]
    },
    {
     "name": "stdout",
     "output_type": "stream",
     "text": [
      "21\n"
     ]
    }
   ],
   "source": [
    "# Taking input as int\n",
    "# Typecasting to int\n",
    "n = int(input(\"How many roses?: \"))\n",
    "print(n)"
   ]
  },
  {
   "cell_type": "code",
   "execution_count": 16,
   "id": "eef1c496-40a1-46d6-83e5-134c55af49aa",
   "metadata": {},
   "outputs": [
    {
     "data": {
      "text/plain": [
       "int"
      ]
     },
     "execution_count": 16,
     "metadata": {},
     "output_type": "execute_result"
    }
   ],
   "source": [
    "type(n)"
   ]
  },
  {
   "cell_type": "code",
   "execution_count": 18,
   "id": "2dbcc394-135b-43b9-9fc2-5355c8df41da",
   "metadata": {},
   "outputs": [
    {
     "name": "stdout",
     "output_type": "stream",
     "text": [
      "<class 'str'>\n",
      "<class 'int'>\n",
      "<class 'float'>\n",
      "<class 'tuple'>\n",
      "<class 'list'>\n",
      "<class 'dict'>\n"
     ]
    }
   ],
   "source": [
    "a = \"Hello World\"\n",
    "b = 10\n",
    "c = 11.22\n",
    "d = (\"Geeks\", \"for\", \"Geeks\")\n",
    "e = [\"Geeks\", \"for\", \"Geeks\"]\n",
    "f = {\"Geeks\": 1, \"for\":2, \"Geeks\":3}\n",
    "\n",
    "\n",
    "print(type(a))\n",
    "print(type(b))\n",
    "print(type(c))\n",
    "print(type(d))\n",
    "print(type(e))\n",
    "print(type(f))"
   ]
  },
  {
   "cell_type": "code",
   "execution_count": 31,
   "id": "c93b1352-968a-4dbc-88a0-fd86f8cca978",
   "metadata": {},
   "outputs": [
    {
     "name": "stdout",
     "output_type": "stream",
     "text": [
      "Amount: $150.7500000000\n"
     ]
    }
   ],
   "source": [
    "### Formatting output\n",
    "\n",
    "### 1. using format()\n",
    "amount = 150.75\n",
    "print(\"Amount: ${:.10f}\".format(amount))"
   ]
  },
  {
   "cell_type": "code",
   "execution_count": 33,
   "id": "b7925d34-31a1-4353-ac9a-aaea4a071fd5",
   "metadata": {},
   "outputs": [
    {
     "name": "stdout",
     "output_type": "stream",
     "text": [
      "Python@GeeksforGeeks\n",
      "GFG\n",
      "09-12-2016\n",
      "pratik@geeksforgeeks\n"
     ]
    }
   ],
   "source": [
    "### 2: Using sep and end parameter\n",
    "\n",
    "# end Parameter with '@'\n",
    "print(\"Python\", end='@')\n",
    "print(\"GeeksforGeeks\")\n",
    "\n",
    "# Seprating with Comma\n",
    "print('G', 'F', 'G', sep='')\n",
    "\n",
    "# for formatting a date\n",
    "print('09', '12', '2016', sep='-')\n",
    "\n",
    "# another example\n",
    "print('pratik', 'geeksforgeeks', sep='@')\n"
   ]
  },
  {
   "cell_type": "code",
   "execution_count": 35,
   "id": "f42e1cdc-a650-4470-9a89-339df5842f04",
   "metadata": {},
   "outputs": [
    {
     "name": "stdout",
     "output_type": "stream",
     "text": [
      "Hello, My name is kunal and I'm 21 years old.\n"
     ]
    }
   ],
   "source": [
    "### 3. Using f-string\n",
    "\n",
    "name = 'kunal'\n",
    "age = 21\n",
    "print(f\"Hello, My name is {name} and I'm {age} years old.\")"
   ]
  },
  {
   "cell_type": "code",
   "execution_count": 37,
   "id": "67d978c0-5b78-49d1-933e-e163a3708e2e",
   "metadata": {},
   "outputs": [
    {
     "name": "stdin",
     "output_type": "stream",
     "text": [
      "Enter a value:  2\n"
     ]
    },
    {
     "name": "stdout",
     "output_type": "stream",
     "text": [
      "The sum is 7\n"
     ]
    }
   ],
   "source": [
    "### 4. Using % operator\n",
    "\n",
    "# Taking input from the user\n",
    "num = int(input(\"Enter a value: \"))\n",
    "\n",
    "add = num + 5\n",
    "\n",
    "# Output\n",
    "print(\"The sum is %d\" %add)"
   ]
  },
  {
   "cell_type": "code",
   "execution_count": 39,
   "id": "358a3292-23b3-49bd-ab0e-bdf81a957fbe",
   "metadata": {},
   "outputs": [
    {
     "name": "stdout",
     "output_type": "stream",
     "text": [
      "10\n"
     ]
    }
   ],
   "source": [
    "# Assigning value to variable\n",
    "x = 10\n",
    "print(x) \n",
    "\n",
    "# Removing the variable using del\n",
    "del x\n",
    "\n",
    "# Trying to print x after deletion will raise an error\n",
    "# print(x)  # Uncommenting this line will raise NameError: name 'x' is not defined"
   ]
  },
  {
   "cell_type": "code",
   "execution_count": 43,
   "id": "ed35c397-e9d5-41d3-8032-c04fe7af777e",
   "metadata": {},
   "outputs": [
    {
     "name": "stdout",
     "output_type": "stream",
     "text": [
      "40 3\n"
     ]
    }
   ],
   "source": [
    "### swaping two no\n",
    "\n",
    "a, b = 3, 40\n",
    "a, b = b, a\n",
    "\n",
    "print(a, b)"
   ]
  },
  {
   "cell_type": "code",
   "execution_count": 45,
   "id": "0c4b99e0-e688-414e-b078-86d21e3149ba",
   "metadata": {},
   "outputs": [
    {
     "name": "stdout",
     "output_type": "stream",
     "text": [
      "length of the word:  6\n"
     ]
    }
   ],
   "source": [
    "### counting character in str\n",
    "\n",
    "word = \"Python\"\n",
    "length = len(word)\n",
    "print(\"length of the word: \", length)"
   ]
  },
  {
   "cell_type": "code",
   "execution_count": 49,
   "id": "25951612-de0f-4241-8d4b-99771d41e6b8",
   "metadata": {},
   "outputs": [
    {
     "name": "stdout",
     "output_type": "stream",
     "text": [
      "['False', 'None', 'True', 'and', 'as', 'assert', 'async', 'await', 'break', 'class', 'continue', 'def', 'del', 'elif', 'else', 'except', 'finally', 'for', 'from', 'global', 'if', 'import', 'in', 'is', 'lambda', 'nonlocal', 'not', 'or', 'pass', 'raise', 'return', 'try', 'while', 'with', 'yield']\n"
     ]
    }
   ],
   "source": [
    "import keyword\n",
    "\n",
    "print(keyword.kwlist)"
   ]
  },
  {
   "cell_type": "markdown",
   "id": "156c8350-6c67-4b5a-abbb-529c2e81e90d",
   "metadata": {},
   "source": [
    "### Data types and operators"
   ]
  },
  {
   "cell_type": "code",
   "execution_count": 52,
   "id": "d2d97a4c-cadc-4db9-8e27-8d7c3769e3d2",
   "metadata": {},
   "outputs": [],
   "source": [
    "# OPERATORS: These are the special symbols. Eg- + , * , /, etc.\n",
    "# OPERAND: It is the value on which the operator is applied."
   ]
  },
  {
   "cell_type": "code",
   "execution_count": 64,
   "id": "41dc60fb-8bb6-4cca-9135-f4439bc1e558",
   "metadata": {},
   "outputs": [
    {
     "name": "stdout",
     "output_type": "stream",
     "text": [
      "Addition: 19\n",
      "Subtraction: 11\n",
      "Multiplication: 60\n",
      "Division: 3.75\n",
      "Floor Division: 3\n",
      "Modulus: 3\n",
      "Exponentiation: 50625\n"
     ]
    }
   ],
   "source": [
    "### Arithmetic operators\n",
    "\n",
    "# Variables\n",
    "a = 15\n",
    "b = 4\n",
    "\n",
    "# Addition\n",
    "print(\"Addition:\", a + b)  \n",
    "\n",
    "# Subtraction\n",
    "print(\"Subtraction:\", a - b) \n",
    "\n",
    "# Multiplication\n",
    "print(\"Multiplication:\", a * b)  \n",
    "\n",
    "# Division\n",
    "print(\"Division:\", a / b) \n",
    "\n",
    "# Floor Division\n",
    "print(\"Floor Division:\", a // b)  \n",
    "\n",
    "# Modulus\n",
    "print(\"Modulus:\", a % b) \n",
    "\n",
    "# Exponentiation\n",
    "print(\"Exponentiation:\", a ** b)"
   ]
  },
  {
   "cell_type": "code",
   "execution_count": 66,
   "id": "1aba4ecc-088c-4983-93c7-efa48c1a0a5d",
   "metadata": {},
   "outputs": [
    {
     "name": "stdout",
     "output_type": "stream",
     "text": [
      "False\n",
      "True\n",
      "False\n",
      "True\n",
      "False\n",
      "True\n"
     ]
    }
   ],
   "source": [
    "## comparisioin operator\n",
    "\n",
    "a = 13\n",
    "b = 33\n",
    "\n",
    "print(a > b)\n",
    "print(a < b)\n",
    "print(a == b)\n",
    "print(a != b)\n",
    "print(a >= b)\n",
    "print(a <= b)"
   ]
  },
  {
   "cell_type": "code",
   "execution_count": 68,
   "id": "813e9509-5374-41c1-80d5-5cc71bfc7039",
   "metadata": {},
   "outputs": [
    {
     "name": "stdout",
     "output_type": "stream",
     "text": [
      "False\n",
      "True\n",
      "False\n"
     ]
    }
   ],
   "source": [
    "## logical operator\n",
    "\n",
    "a = True\n",
    "b = False\n",
    "print(a and b)\n",
    "print(a or b)\n",
    "print(not a)"
   ]
  },
  {
   "cell_type": "code",
   "execution_count": 70,
   "id": "6fb481fe-3b94-413c-b5a6-74a4636cd9ea",
   "metadata": {},
   "outputs": [
    {
     "name": "stdout",
     "output_type": "stream",
     "text": [
      "0\n",
      "14\n",
      "-11\n",
      "14\n",
      "2\n",
      "40\n"
     ]
    }
   ],
   "source": [
    "## bitwise operator\n",
    "\n",
    "a = 10\n",
    "b = 4\n",
    "\n",
    "print(a & b)\n",
    "print(a | b)\n",
    "print(~a)\n",
    "print(a ^ b)\n",
    "print(a >> 2)\n",
    "print(a << 2)"
   ]
  },
  {
   "cell_type": "code",
   "execution_count": 72,
   "id": "8e3d4a31-52d2-4592-a54c-ae4687a6ca0a",
   "metadata": {},
   "outputs": [
    {
     "name": "stdout",
     "output_type": "stream",
     "text": [
      "10\n",
      "20\n",
      "10\n",
      "100\n",
      "102400\n"
     ]
    }
   ],
   "source": [
    "## assignment op\n",
    "\n",
    "a = 10\n",
    "b = a\n",
    "print(b)\n",
    "b += a\n",
    "print(b)\n",
    "b -= a\n",
    "print(b)\n",
    "b *= a\n",
    "print(b)\n",
    "b <<= a\n",
    "print(b)"
   ]
  },
  {
   "cell_type": "code",
   "execution_count": 78,
   "id": "dbcd3050-1257-4a48-bdc1-7804882b58b0",
   "metadata": {},
   "outputs": [
    {
     "name": "stdout",
     "output_type": "stream",
     "text": [
      "True\n",
      "True\n"
     ]
    }
   ],
   "source": [
    "## identity op\n",
    "\n",
    "a = 10\n",
    "b = 20\n",
    "c = a\n",
    "\n",
    "print(a is not b)\n",
    "print(a is c)"
   ]
  },
  {
   "cell_type": "code",
   "execution_count": 80,
   "id": "0a591a7d-c162-48a8-8e9a-222f5d48405f",
   "metadata": {},
   "outputs": [
    {
     "name": "stdout",
     "output_type": "stream",
     "text": [
      "x is NOT present in given list\n",
      "y is present in given list\n"
     ]
    }
   ],
   "source": [
    "## membership op\n",
    "\n",
    "x = 24\n",
    "y = 20\n",
    "list = [10, 20, 30, 40, 50]\n",
    "\n",
    "if (x not in list):\n",
    "    print(\"x is NOT present in given list\")\n",
    "else:\n",
    "    print(\"x is present in given list\")\n",
    "\n",
    "if (y in list):\n",
    "    print(\"y is present in given list\")\n",
    "else:\n",
    "    print(\"y is NOT present in given list\")"
   ]
  },
  {
   "cell_type": "code",
   "execution_count": 82,
   "id": "1b100752-ae10-464e-acd6-49f7a4fc6767",
   "metadata": {},
   "outputs": [
    {
     "name": "stdout",
     "output_type": "stream",
     "text": [
      "10\n"
     ]
    }
   ],
   "source": [
    "## ternary also known as conditional expression\n",
    "\n",
    "a, b = 10, 20\n",
    "min = a if a < b else b\n",
    "\n",
    "print(min)"
   ]
  },
  {
   "cell_type": "markdown",
   "id": "8d4d7331-a686-4751-882a-0f5968bd8d12",
   "metadata": {},
   "source": [
    "## Data types\n",
    "\n",
    "- Numeric -> integer, complex, float <br>\n",
    "- Dictionary <br>\n",
    "- Boolean<br>\n",
    "- Set<br>\n",
    "- Sequence type -> string, list, tuple<br>"
   ]
  },
  {
   "cell_type": "code",
   "execution_count": 96,
   "id": "b5a8e760-fc21-4ed3-88a9-91541a4ec3f8",
   "metadata": {},
   "outputs": [],
   "source": [
    "#  int, float, string, list and set\n",
    "x = 50\n",
    "x = 60.5\n",
    "x = \"Hello World\"\n",
    "x = [\"ML\", \"100x\"]\n",
    "x = (\"ML\", \"100x\")"
   ]
  },
  {
   "cell_type": "code",
   "execution_count": 88,
   "id": "67a858ad-5b9a-47e0-8611-f403ef0f5e15",
   "metadata": {},
   "outputs": [
    {
     "name": "stdout",
     "output_type": "stream",
     "text": [
      "<class 'int'>\n",
      "<class 'float'>\n",
      "<class 'complex'>\n"
     ]
    }
   ],
   "source": [
    "a = 5\n",
    "print(type(a))\n",
    "\n",
    "b = 5.0\n",
    "print(type(b))\n",
    "\n",
    "c = 2 + 4j\n",
    "print(type(c))"
   ]
  },
  {
   "cell_type": "code",
   "execution_count": 98,
   "id": "c6af4bec-27c0-47d9-bf43-4eab739da384",
   "metadata": {},
   "outputs": [
    {
     "name": "stdout",
     "output_type": "stream",
     "text": [
      "Welcome to the ML100x\n",
      "<class 'str'>\n",
      "e\n",
      "l\n",
      "x\n"
     ]
    }
   ],
   "source": [
    "## sequence data type: string, list, tuple\n",
    "\n",
    "s = 'Welcome to the ML100x'\n",
    "print(s)\n",
    "\n",
    "# check data type \n",
    "print(type(s))\n",
    "\n",
    "# access string with index\n",
    "print(s[1])\n",
    "print(s[2])\n",
    "print(s[-1])"
   ]
  },
  {
   "cell_type": "code",
   "execution_count": 100,
   "id": "d255db0a-8fd1-4096-a51c-c0cf8f40633c",
   "metadata": {},
   "outputs": [
    {
     "name": "stdout",
     "output_type": "stream",
     "text": [
      "[1, 2, 3]\n",
      "['ML', '100x', 4, 5]\n"
     ]
    }
   ],
   "source": [
    "# Empty list\n",
    "a = []\n",
    "\n",
    "# list with int values\n",
    "a = [1, 2, 3]\n",
    "print(a)\n",
    "\n",
    "# list with mixed int and string\n",
    "b = [\"ML\", \"100x\", 4, 5]\n",
    "print(b)"
   ]
  },
  {
   "cell_type": "code",
   "execution_count": 104,
   "id": "967d5cfb-f448-4d9f-b6e4-e3112822df01",
   "metadata": {},
   "outputs": [
    {
     "name": "stdout",
     "output_type": "stream",
     "text": [
      "\n",
      "Tuple with the use of String:  ('ML', '100x')\n"
     ]
    }
   ],
   "source": [
    "# initiate empty tuple\n",
    "tup1 = ()\n",
    "\n",
    "tup2 = ('ML', '100x')\n",
    "print(\"\\nTuple with the use of String: \", tup2)"
   ]
  },
  {
   "cell_type": "code",
   "execution_count": 108,
   "id": "74733b75-94ed-42fc-adfa-7af2e561e9a0",
   "metadata": {},
   "outputs": [
    {
     "name": "stdout",
     "output_type": "stream",
     "text": [
      "Set with the use of String:  {'0', 'M', 'x', '1', 'L'}\n",
      "Set with the use of List:  {'x', 'ML', '100'}\n"
     ]
    }
   ],
   "source": [
    "# initializing empty set\n",
    "s1 = set()\n",
    "\n",
    "s1 = set(\"ML100x\")\n",
    "print(\"Set with the use of String: \", s1)\n",
    "\n",
    "s2 = set([\"ML\", \"100\", \"x\"])\n",
    "print(\"Set with the use of List: \", s2)"
   ]
  },
  {
   "cell_type": "code",
   "execution_count": 112,
   "id": "ce1af46d-ab99-485d-b782-52310c2044ab",
   "metadata": {},
   "outputs": [
    {
     "name": "stdout",
     "output_type": "stream",
     "text": [
      "{1: 'ML', 2: '100', 3: 'x'}\n",
      "{1: 'ML', 2: '100', 3: 'x'}\n"
     ]
    }
   ],
   "source": [
    "# initialize empty dictionary\n",
    "d = {}\n",
    "\n",
    "\n",
    "d = {1: 'ML', 2: '100', 3: 'x'}\n",
    "print(d)\n",
    "\n",
    "# creating dictionary using dict() constructor\n",
    "d1 = dict({1: 'ML', 2: '100', 3: 'x'})\n",
    "print(d1)"
   ]
  },
  {
   "cell_type": "code",
   "execution_count": 114,
   "id": "ab75be80-1f36-497b-aefb-177413bc455d",
   "metadata": {},
   "outputs": [
    {
     "name": "stdout",
     "output_type": "stream",
     "text": [
      "['apple', 'banana', 'orange']\n",
      "['apple', 'banana', 'orange', 'grape']\n",
      "['apple', 'banana', 'grape']\n"
     ]
    }
   ],
   "source": [
    "## list operations\n",
    "\n",
    "fruits = [\"apple\", \"banana\", \"orange\"]\n",
    "print(fruits)\n",
    "fruits.append(\"grape\")\n",
    "print(fruits)\n",
    "fruits.remove(\"orange\")\n",
    "print(fruits)"
   ]
  },
  {
   "cell_type": "code",
   "execution_count": 116,
   "id": "c931d600-be40-4c56-a3ec-d84ffac750eb",
   "metadata": {},
   "outputs": [
    {
     "name": "stdout",
     "output_type": "stream",
     "text": [
      "(3, 5)\n",
      "X-coordinate: 3\n",
      "Y-coordinate: 5\n"
     ]
    }
   ],
   "source": [
    "# tuple operations\n",
    "\n",
    "coordinates = (3, 5)\n",
    "print(coordinates)\n",
    "print(\"X-coordinate:\", coordinates[0])\n",
    "print(\"Y-coordinate:\", coordinates[1])"
   ]
  },
  {
   "cell_type": "markdown",
   "id": "72af60d1-bd5e-4862-a18d-d8993685dff3",
   "metadata": {},
   "source": [
    "### if conditional statement in python\n",
    "\n",
    "```\n",
    "if conditions:\n",
    "    // stmt\n",
    "else:\n",
    "    // stmt\n",
    "```"
   ]
  },
  {
   "cell_type": "code",
   "execution_count": 135,
   "id": "7bf1fb5e-7cfa-40c5-8dac-62173f523f5c",
   "metadata": {},
   "outputs": [
    {
     "name": "stdout",
     "output_type": "stream",
     "text": [
      "Eligible to vote.\n"
     ]
    }
   ],
   "source": [
    "age = 20\n",
    "\n",
    "if age >= 18:\n",
    "    print(\"Eligible to vote.\")"
   ]
  },
  {
   "cell_type": "code",
   "execution_count": 137,
   "id": "ed2049a2-50d2-48b6-a372-07ca57b8967b",
   "metadata": {},
   "outputs": [
    {
     "name": "stdout",
     "output_type": "stream",
     "text": [
      "Eligible to Vote.\n"
     ]
    }
   ],
   "source": [
    "## short hand if\n",
    "\n",
    "age = 19\n",
    "if age > 18: print(\"Eligible to Vote.\")"
   ]
  },
  {
   "cell_type": "code",
   "execution_count": 139,
   "id": "e6dedc4a-f474-466d-ade3-2342cbe58ad5",
   "metadata": {},
   "outputs": [
    {
     "name": "stdout",
     "output_type": "stream",
     "text": [
      "Travel for free.\n"
     ]
    }
   ],
   "source": [
    "age = 10\n",
    "\n",
    "if age <= 12:\n",
    "    print(\"Travel for free.\")\n",
    "else:\n",
    "    print(\"Pay for ticket.\")"
   ]
  },
  {
   "cell_type": "code",
   "execution_count": 141,
   "id": "6931ed99-d592-4a3b-84b1-f8b3bd1575be",
   "metadata": {},
   "outputs": [
    {
     "name": "stdout",
     "output_type": "stream",
     "text": [
      "Young adult.\n"
     ]
    }
   ],
   "source": [
    "age = 25\n",
    "\n",
    "if age <= 12:\n",
    "    print(\"Child.\")\n",
    "elif age <= 19:\n",
    "    print(\"Teenager.\")\n",
    "elif age <= 35:\n",
    "    print(\"Young adult.\")\n",
    "else:\n",
    "    print(\"Adult.\")"
   ]
  },
  {
   "cell_type": "code",
   "execution_count": 143,
   "id": "1607b68e-304d-42cd-866f-75b75bd2f764",
   "metadata": {},
   "outputs": [
    {
     "name": "stdout",
     "output_type": "stream",
     "text": [
      "Two or Three\n"
     ]
    }
   ],
   "source": [
    "## match case\n",
    "\n",
    "number = 2\n",
    "\n",
    "match number:\n",
    "    case 1:\n",
    "        print(\"One\")\n",
    "    case 2 | 3:\n",
    "        print(\"Two or Three\")\n",
    "    case _:\n",
    "        print(\"Other number\")"
   ]
  },
  {
   "cell_type": "code",
   "execution_count": 145,
   "id": "bd36be8b-a2d3-4495-9429-548cc4f98da3",
   "metadata": {},
   "outputs": [
    {
     "name": "stdout",
     "output_type": "stream",
     "text": [
      "Odd\n"
     ]
    }
   ],
   "source": [
    "x=1\n",
    "if x % 2 == 0:\n",
    "    print(\"Even\")\n",
    "else:\n",
    "    print(\"Odd\")"
   ]
  },
  {
   "cell_type": "code",
   "execution_count": null,
   "id": "337e3c70-06a5-4c9c-b770-d11f1dad1ef1",
   "metadata": {},
   "outputs": [],
   "source": []
  }
 ],
 "metadata": {
  "kernelspec": {
   "display_name": "Python 3 (ipykernel)",
   "language": "python",
   "name": "python3"
  },
  "language_info": {
   "codemirror_mode": {
    "name": "ipython",
    "version": 3
   },
   "file_extension": ".py",
   "mimetype": "text/x-python",
   "name": "python",
   "nbconvert_exporter": "python",
   "pygments_lexer": "ipython3",
   "version": "3.12.4"
  }
 },
 "nbformat": 4,
 "nbformat_minor": 5
}
