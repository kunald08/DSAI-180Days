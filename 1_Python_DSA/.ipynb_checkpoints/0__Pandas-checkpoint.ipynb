{
 "cells": [
  {
   "cell_type": "markdown",
   "id": "72dcbd9f-60b6-4c6d-a88e-3f1433ec2dbd",
   "metadata": {},
   "source": [
    "# Pandas"
   ]
  },
  {
   "cell_type": "code",
   "execution_count": 31,
   "id": "7a412887-bb2f-4a4e-a64a-37934d7a0e49",
   "metadata": {},
   "outputs": [],
   "source": [
    "# !pip install pandas"
   ]
  },
  {
   "cell_type": "markdown",
   "id": "0ea28dc9-49f4-4068-9d98-806c909f8a3a",
   "metadata": {},
   "source": [
    "## Pandas Overview\n",
    "- **What is Pandas?**  \n",
    "  Open-source Python library for data manipulation and analysis, especially with tabular data (spreadsheets, SQL tables).  \n",
    "- **Built On:** NumPy library.  \n",
    "- **Works Well With:**  \n",
    "  - Matplotlib → Graph plotting  \n",
    "  - SciPy → Statistical analysis  \n",
    "  - Scikit-learn → Machine learning  \n",
    "- **Key Tasks in Pandas:**  \n",
    "  - Data cleaning, merging, and joining  \n",
    "  - Handling missing data (NaN)  \n",
    "  - Adding/removing columns  \n",
    "  - Group by operations (split-apply-combine)  \n",
    "  - Data visualization with Matplotlib/Seaborn\n",
    " \n",
    "### There are two main data structure in Pandas -> DataFrame and Series"
   ]
  },
  {
   "cell_type": "markdown",
   "id": "ebb17604-1428-4eea-950a-5805159266a9",
   "metadata": {},
   "source": [
    "## 1. Pandas Series\n",
    "- **Definition:** One-dimensional labeled array that can hold any data type.  \n",
    "- **Indexes:** Axis labels are called *indexes*.  \n",
    "- **Creation Sources:**  \n",
    "  - Lists  \n",
    "  - Dictionaries  \n",
    "  - Scalar values  \n",
    "  - External data sources (CSV, Excel, SQL)"
   ]
  },
  {
   "cell_type": "code",
   "execution_count": null,
   "id": "37a3c237-f9f0-4726-8a06-2c65c2f0d168",
   "metadata": {},
   "outputs": [],
   "source": []
  },
  {
   "cell_type": "code",
   "execution_count": null,
   "id": "d056756b-612a-4b3d-a4f0-d1a98a8068ea",
   "metadata": {},
   "outputs": [],
   "source": []
  },
  {
   "cell_type": "code",
   "execution_count": null,
   "id": "5a43f49a-510b-47fb-9daf-b902080b8dfc",
   "metadata": {},
   "outputs": [],
   "source": []
  },
  {
   "cell_type": "code",
   "execution_count": null,
   "id": "2d12ee23-5886-4c0e-935b-68e30da8fbd6",
   "metadata": {},
   "outputs": [],
   "source": []
  },
  {
   "cell_type": "code",
   "execution_count": null,
   "id": "33a74edf-65f2-4a9b-846d-893134cf9a1d",
   "metadata": {},
   "outputs": [],
   "source": []
  }
 ],
 "metadata": {
  "kernelspec": {
   "display_name": "Python 3 (ipykernel)",
   "language": "python",
   "name": "python3"
  },
  "language_info": {
   "codemirror_mode": {
    "name": "ipython",
    "version": 3
   },
   "file_extension": ".py",
   "mimetype": "text/x-python",
   "name": "python",
   "nbconvert_exporter": "python",
   "pygments_lexer": "ipython3",
   "version": "3.12.4"
  }
 },
 "nbformat": 4,
 "nbformat_minor": 5
}
