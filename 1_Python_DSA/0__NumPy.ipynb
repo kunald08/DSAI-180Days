{
 "cells": [
  {
   "cell_type": "markdown",
   "id": "23ec2ec1-bbd8-47f3-a0d4-a5a5d22601e0",
   "metadata": {},
   "source": [
    "<h1 style=\"color:red\">Numpy</h1>\n",
    "\n",
    "**NumPy stands for Numerical Python.**\n",
    "- It is a python library used for working with arrays.\n",
    "- It also has functions for working in domain of linear algebra, fourier transform and matrices.\n",
    "- It was created in 2005 by Travis Oliphant.\n",
    "- It is an open source project and can be used freely.\n",
    "- Most powerful numerical processing library in Python . Array Oriented computing.\n",
    "- Provides extensions package to python for multi-dimensional array\n",
    "- very efficient \n",
    "- scientific computation\n",
    "\n",
    "(Note: why numpy-> less Memory, less time, easy to use)"
   ]
  },
  {
   "cell_type": "code",
   "execution_count": 2,
   "id": "a075cda9-5c74-4688-b9a9-3a019965f594",
   "metadata": {},
   "outputs": [],
   "source": [
    "# To Install numpy run this command\n",
    "\n",
    "# !pip install numpy "
   ]
  },
  {
   "cell_type": "code",
   "execution_count": 3,
   "id": "9db9f6f3-01c0-430a-b793-b20f31d5e1bc",
   "metadata": {},
   "outputs": [
    {
     "name": "stdout",
     "output_type": "stream",
     "text": [
      "[1 2 3 4]\n",
      "<class 'numpy.ndarray'>\n"
     ]
    }
   ],
   "source": [
    "# Creating a simple array in numpy:)\n",
    "import numpy as np\n",
    "\n",
    "arr = np.array([1, 2, 3, 4])\n",
    "print(arr)\n",
    "print(type(arr))"
   ]
  },
  {
   "cell_type": "code",
   "execution_count": 4,
   "id": "b188b8e0-a34c-4cb2-940e-7b0d7f15848e",
   "metadata": {},
   "outputs": [],
   "source": [
    "# The array object in NumPy is called as ndarray,\n",
    "# it provides a lot of supporting functions that make working with ndarray very easy."
   ]
  },
  {
   "cell_type": "code",
   "execution_count": 5,
   "id": "befe055b-4d7f-43c6-99ff-fb9d47968ee5",
   "metadata": {},
   "outputs": [
    {
     "name": "stdout",
     "output_type": "stream",
     "text": [
      "<class 'list'>\n",
      "<class 'numpy.ndarray'>\n",
      "list: [1, 2, 3, 4, 5, 6, 7]\n",
      "NP array: [1 2 3 4 5 6 7]\n"
     ]
    }
   ],
   "source": [
    "l = [1, 2, 3, 4, 5, 6, 7]\n",
    "arr = np.array(l)\n",
    "\n",
    "print(type(l))\n",
    "print(type(arr))\n",
    "print(\"list:\", l)   # list is comma separated\n",
    "print(\"NP array:\", arr)  # while ndarray not"
   ]
  },
  {
   "cell_type": "code",
   "execution_count": 6,
   "id": "92ba8b31-b7e5-476c-9fb3-a2b7eafd82ba",
   "metadata": {},
   "outputs": [
    {
     "name": "stdout",
     "output_type": "stream",
     "text": [
      "[0 1 2 3 4 5 6 7 8 9]\n",
      "<class 'numpy.ndarray'>\n"
     ]
    }
   ],
   "source": [
    "# arange()\n",
    "arr = np.arange(10)\n",
    "\n",
    "print(arr)\n",
    "print(type(arr))"
   ]
  },
  {
   "cell_type": "code",
   "execution_count": 7,
   "id": "2595f5ee-f861-448e-8cbd-e33ea84e616d",
   "metadata": {},
   "outputs": [],
   "source": [
    "# lets check efficiency/speed of list and ndarray"
   ]
  },
  {
   "cell_type": "code",
   "execution_count": 8,
   "id": "b3bf81cf-e819-4ef6-af32-33c5ffa0c776",
   "metadata": {},
   "outputs": [
    {
     "name": "stdout",
     "output_type": "stream",
     "text": [
      "0.20762252807617188\n"
     ]
    }
   ],
   "source": [
    "import time\n",
    "\n",
    "t1 = time.time()\n",
    "lst = list(range(1000000))\n",
    "for i in range(1000000):\n",
    "    lst[i] *= lst[i]\n",
    "t2 = time.time()\n",
    "print(t2-t1)"
   ]
  },
  {
   "cell_type": "code",
   "execution_count": 9,
   "id": "9a51f7e7-4c0d-49fa-a8dd-0095716b6265",
   "metadata": {},
   "outputs": [
    {
     "name": "stdout",
     "output_type": "stream",
     "text": [
      "0.0038983821868896484\n"
     ]
    }
   ],
   "source": [
    "t1 = time.time()\n",
    "arr = np.arange(1000000)\n",
    "arr = arr * arr\n",
    "t2 = time.time()\n",
    "print(t2-t1)\n"
   ]
  },
  {
   "cell_type": "code",
   "execution_count": 10,
   "id": "f7eb5690-cf8e-4849-a83a-343ffee72c0c",
   "metadata": {},
   "outputs": [
    {
     "name": "stdout",
     "output_type": "stream",
     "text": [
      "1\n",
      "[1. 2. 3. 4. 5.]\n"
     ]
    }
   ],
   "source": [
    "arr = np.array([1, 2, 3, 4, 5], dtype=float)\n",
    "print(arr.ndim)\n",
    "print(arr)"
   ]
  },
  {
   "cell_type": "code",
   "execution_count": 11,
   "id": "b488bf1f-48e4-4687-8750-185cbf010713",
   "metadata": {},
   "outputs": [
    {
     "name": "stdout",
     "output_type": "stream",
     "text": [
      "(5,)\n"
     ]
    }
   ],
   "source": [
    "# Print shape\n",
    "print(arr.shape)"
   ]
  },
  {
   "cell_type": "code",
   "execution_count": 12,
   "id": "dced99cb-9ee4-49dd-9b6d-7603c0ea51aa",
   "metadata": {},
   "outputs": [
    {
     "name": "stdout",
     "output_type": "stream",
     "text": [
      "5\n"
     ]
    }
   ],
   "source": [
    "# Print length\n",
    "print(len(arr))"
   ]
  },
  {
   "cell_type": "code",
   "execution_count": 13,
   "id": "a44c5bdc-a54f-46fe-bdd6-abf7467cd195",
   "metadata": {},
   "outputs": [
    {
     "name": "stdout",
     "output_type": "stream",
     "text": [
      "float64\n"
     ]
    }
   ],
   "source": [
    "# Print Data type\n",
    "print(arr.dtype)"
   ]
  },
  {
   "cell_type": "code",
   "execution_count": 14,
   "id": "2bc818f4-3c0a-46a9-be06-0db8f79bb5b7",
   "metadata": {},
   "outputs": [
    {
     "name": "stdout",
     "output_type": "stream",
     "text": [
      "8\n"
     ]
    }
   ],
   "source": [
    "# Print item size in byte of each elements\n",
    "print(arr.itemsize)"
   ]
  },
  {
   "cell_type": "code",
   "execution_count": 15,
   "id": "54339e01-4c4c-4db9-9a53-e0f456788a53",
   "metadata": {},
   "outputs": [
    {
     "name": "stdout",
     "output_type": "stream",
     "text": [
      "5\n"
     ]
    }
   ],
   "source": [
    "print(arr.size)"
   ]
  },
  {
   "cell_type": "code",
   "execution_count": 16,
   "id": "3ae44fc6-36d2-4735-bcf3-01e74747de79",
   "metadata": {},
   "outputs": [
    {
     "name": "stdout",
     "output_type": "stream",
     "text": [
      "[[1 2 3]\n",
      " [4 5 6]]\n",
      "2\n",
      "(2, 3)\n",
      "int32\n",
      "4\n",
      "6\n",
      "[1 5]\n"
     ]
    }
   ],
   "source": [
    "arr = np.array([[1, 2, 3], [4, 5, 6]])\n",
    "\n",
    "print(arr)\n",
    "print(arr.ndim)\n",
    "print(arr.shape)\n",
    "print(arr.dtype)\n",
    "print(arr.itemsize)\n",
    "print(arr.size)\n",
    "print(np.diag(arr)) # print diagonal elements"
   ]
  },
  {
   "cell_type": "code",
   "execution_count": 17,
   "id": "5484e2a7-d699-4973-9eaa-e418c0439dc9",
   "metadata": {},
   "outputs": [
    {
     "name": "stdout",
     "output_type": "stream",
     "text": [
      "[1. 1. 1. 1. 1. 1. 1. 1. 1. 1.]\n",
      "[['1' '1']\n",
      " ['1' '1']\n",
      " ['1' '1']]\n"
     ]
    }
   ],
   "source": [
    "# Functions for creating arrays:)\n",
    "\n",
    "arr = np.ones(10)  # by default it creates floating type array\n",
    "print(arr)\n",
    "\n",
    "arr = np.ones((3, 2), dtype=str)\n",
    "print(arr)"
   ]
  },
  {
   "cell_type": "code",
   "execution_count": 18,
   "id": "11874ded-9f89-4f5e-bd3b-f97c348f5ea2",
   "metadata": {},
   "outputs": [
    {
     "name": "stdout",
     "output_type": "stream",
     "text": [
      "[0. 0. 0. 0. 0. 0. 0. 0. 0. 0.]\n",
      "[[0.+0.j 0.+0.j 0.+0.j]\n",
      " [0.+0.j 0.+0.j 0.+0.j]]\n"
     ]
    }
   ],
   "source": [
    "# zeros()\n",
    "\n",
    "arr = np.zeros(10)\n",
    "print(arr)\n",
    "\n",
    "arr = np.zeros((2, 3), dtype=complex)\n",
    "print(arr)"
   ]
  },
  {
   "cell_type": "code",
   "execution_count": 19,
   "id": "8f56351c-4e49-4152-bdf4-c83b8ad9f0dc",
   "metadata": {},
   "outputs": [
    {
     "name": "stdout",
     "output_type": "stream",
     "text": [
      "[[1. 0. 0.]\n",
      " [0. 1. 0.]]\n",
      "[[1 0 0 0 0 0 0 0]\n",
      " [0 1 0 0 0 0 0 0]\n",
      " [0 0 1 0 0 0 0 0]\n",
      " [0 0 0 1 0 0 0 0]]\n"
     ]
    }
   ],
   "source": [
    "# eye()\n",
    "\n",
    "arr = np.eye(2,3)\n",
    "print(arr)\n",
    "\n",
    "print(np.eye(4, 8, dtype=int))"
   ]
  },
  {
   "cell_type": "code",
   "execution_count": 20,
   "id": "308ab4d1-28cb-417a-ba44-12ed713f89bf",
   "metadata": {},
   "outputs": [
    {
     "name": "stdout",
     "output_type": "stream",
     "text": [
      "(10, 10)\n"
     ]
    },
    {
     "data": {
      "text/plain": [
       "array([[1., 0., 0., 0., 0., 0., 0., 0., 0., 0.],\n",
       "       [0., 1., 0., 0., 0., 0., 0., 0., 0., 0.],\n",
       "       [0., 0., 1., 0., 0., 0., 0., 0., 0., 0.],\n",
       "       [0., 0., 0., 1., 0., 0., 0., 0., 0., 0.],\n",
       "       [0., 0., 0., 0., 1., 0., 0., 0., 0., 0.],\n",
       "       [0., 0., 0., 0., 0., 1., 0., 0., 0., 0.],\n",
       "       [0., 0., 0., 0., 0., 0., 1., 0., 0., 0.],\n",
       "       [0., 0., 0., 0., 0., 0., 0., 1., 0., 0.],\n",
       "       [0., 0., 0., 0., 0., 0., 0., 0., 1., 0.],\n",
       "       [0., 0., 0., 0., 0., 0., 0., 0., 0., 1.]])"
      ]
     },
     "execution_count": 20,
     "metadata": {},
     "output_type": "execute_result"
    }
   ],
   "source": [
    "# idenetity()\n",
    "\n",
    "arr = np.identity(10) # it just accept rows no and type\n",
    "print(arr.shape)\n",
    "arr"
   ]
  },
  {
   "cell_type": "code",
   "execution_count": 21,
   "id": "d17bcf3b-71c8-4a25-899e-668545854da5",
   "metadata": {},
   "outputs": [
    {
     "data": {
      "text/plain": [
       "array([1., 3., 5., 7., 9.])"
      ]
     },
     "execution_count": 21,
     "metadata": {},
     "output_type": "execute_result"
    }
   ],
   "source": [
    "# arange()\n",
    "\n",
    "arr = np.arange(1, 10, 2, dtype=float) # start, step and type are optionals\n",
    "arr"
   ]
  },
  {
   "cell_type": "code",
   "execution_count": 22,
   "id": "9bd0f7ab-75eb-47fb-b4a3-76484363a74d",
   "metadata": {},
   "outputs": [
    {
     "name": "stdout",
     "output_type": "stream",
     "text": [
      "[0. 0. 0. 0. 0. 0. 0. 0. 0. 0.]\n",
      "[[0. 0. 0. 0.]\n",
      " [0. 0. 0. 0.]\n",
      " [0. 0. 0. 0.]\n",
      " [0. 0. 0. 0.]\n",
      " [0. 0. 0. 0.]\n",
      " [0. 0. 0. 0.]\n",
      " [0. 0. 0. 0.]\n",
      " [0. 0. 0. 0.]\n",
      " [0. 0. 0. 0.]\n",
      " [0. 0. 0. 0.]]\n"
     ]
    }
   ],
   "source": [
    "# arr = np.zeros\n",
    "\n",
    "print(np.zeros(10))\n",
    "print(np.zeros((10, 4)))"
   ]
  },
  {
   "cell_type": "code",
   "execution_count": null,
   "id": "84473375-14a2-4177-92eb-8bd4d0d6b202",
   "metadata": {},
   "outputs": [],
   "source": []
  },
  {
   "cell_type": "code",
   "execution_count": 23,
   "id": "c668113a-ddc6-4a6f-8176-bde7c1e2a6b8",
   "metadata": {},
   "outputs": [],
   "source": [
    "# def generate_sequence(n):\n",
    "#     result = \"\"\n",
    "#     i = 1\n",
    "#     while len(result) < n:\n",
    "#         result += str(i) * i # 1 + \"2\"*2\n",
    "#         i += 1\n",
    "#     return result[:n]  # Ensure the result is exactly n characters long\n",
    "\n",
    "# # Example usage:\n",
    "# n = 3\n",
    "# while n:\n",
    "#     print(generate_sequence(int(input())))\n",
    "#     n-=1"
   ]
  },
  {
   "cell_type": "markdown",
   "id": "d11d1730-021a-4d0e-94c1-d6b64dd697fc",
   "metadata": {},
   "source": [
    "<h3 style=\"color:springgreen\">NumPy Random Numbers:)</h3>\n",
    "\n",
    "1. **np.random.rand:** \n",
    "It generates an array with random numbers that are uniformly distributed between '0' and '1'.\n",
    "\n",
    "2. **np.random.randn:**\n",
    "It generates an array with random numbers that are normally distributed mean = 0 and stdev = 1 (standard derivation).\n",
    "\n",
    "3. **np.random.randint:**\n",
    "It generates an array with random numbers(integeres) that are uniformly distributed between '0' and given number.\n",
    "\n",
    "4. **np.random.uniform:**\n",
    "It generates an array with random numbers (float) between given numbers."
   ]
  },
  {
   "cell_type": "code",
   "execution_count": 108,
   "id": "c52edf6f-77d0-4660-8e78-d1ef680140ea",
   "metadata": {},
   "outputs": [
    {
     "name": "stdout",
     "output_type": "stream",
     "text": [
      "[0.00657503 0.66133623 0.52403582 0.13169489 0.52443023]\n"
     ]
    }
   ],
   "source": [
    "arr = np.random.rand(5)\n",
    "print(arr)"
   ]
  },
  {
   "cell_type": "code",
   "execution_count": 26,
   "id": "ff798fb1-d67f-4a55-bd4e-ccae8e2e4519",
   "metadata": {},
   "outputs": [
    {
     "name": "stdout",
     "output_type": "stream",
     "text": [
      "[[0.17553924 0.90908218]\n",
      " [0.04732111 0.33074319]\n",
      " [0.22855216 0.65932801]\n",
      " [0.36745382 0.31023466]\n",
      " [0.31542455 0.34476277]\n",
      " [0.07192443 0.62669277]\n",
      " [0.61229329 0.36818231]\n",
      " [0.26277813 0.12647085]\n",
      " [0.63583923 0.84426257]\n",
      " [0.45841137 0.44804421]]\n"
     ]
    }
   ],
   "source": [
    "print(np.random.rand(10, 2))"
   ]
  },
  {
   "cell_type": "code",
   "execution_count": 27,
   "id": "3166963d-91f9-4e8a-9550-2d2465ea4acd",
   "metadata": {},
   "outputs": [
    {
     "name": "stdout",
     "output_type": "stream",
     "text": [
      "[-0.22742342  0.04412264  0.82129639 -0.24266529 -0.1281654 ]\n"
     ]
    }
   ],
   "source": [
    "print(np.random.randn(5))"
   ]
  },
  {
   "cell_type": "code",
   "execution_count": 28,
   "id": "75536f53-8071-4d78-b28b-2142bc2c2c8d",
   "metadata": {},
   "outputs": [
    {
     "name": "stdout",
     "output_type": "stream",
     "text": [
      "[[ 1.06169591e+00  8.81708660e-01  1.43313914e-04  5.35068914e-01]\n",
      " [-8.62194332e-02  7.34112416e-01  1.07567682e+00 -1.40105839e+00]\n",
      " [-2.16667918e-01 -2.96177905e-01 -9.06555157e-02 -1.68449260e+00]\n",
      " [ 1.14673181e+00 -7.73590706e-02  9.81562207e-01  4.57448239e-01]\n",
      " [ 4.32786272e-02 -7.52481886e-02  9.49201353e-01  7.37229127e-01]]\n"
     ]
    }
   ],
   "source": [
    "print(np.random.randn(5, 4))"
   ]
  },
  {
   "cell_type": "code",
   "execution_count": 29,
   "id": "72d5e71b-2401-43bf-bf46-8805b4846f27",
   "metadata": {},
   "outputs": [
    {
     "name": "stdout",
     "output_type": "stream",
     "text": [
      "7\n",
      "57\n"
     ]
    }
   ],
   "source": [
    "# Random integer between '0' to '9'\n",
    "\n",
    "print(np.random.randint(10))\n",
    "print(np.random.randint(10, 78))"
   ]
  },
  {
   "cell_type": "code",
   "execution_count": 30,
   "id": "d2ec68df-8d23-4503-a4d4-1ac6e30020e7",
   "metadata": {},
   "outputs": [
    {
     "name": "stdout",
     "output_type": "stream",
     "text": [
      "[[7 1 8 7]\n",
      " [9 8 7 3]\n",
      " [8 6 4 2]\n",
      " [0 4 0 5]\n",
      " [6 7 1 5]]\n"
     ]
    }
   ],
   "source": [
    "print(np.random.randint(10, size=(5, 4)))"
   ]
  },
  {
   "cell_type": "code",
   "execution_count": 31,
   "id": "81719c8c-8b2d-44df-b665-4dfec39468b3",
   "metadata": {},
   "outputs": [
    {
     "name": "stdout",
     "output_type": "stream",
     "text": [
      "[[35 14 35 36]\n",
      " [10 11 26 21]\n",
      " [20 34 28 16]\n",
      " [25 11 30 29]\n",
      " [20 23 37 39]]\n"
     ]
    }
   ],
   "source": [
    "print(np.random.randint(10, 40, size=(5, 4)))"
   ]
  },
  {
   "cell_type": "code",
   "execution_count": 32,
   "id": "45b63e4b-7f53-49b8-aad1-80898d19113f",
   "metadata": {},
   "outputs": [
    {
     "name": "stdout",
     "output_type": "stream",
     "text": [
      "1.224150776783425\n"
     ]
    }
   ],
   "source": [
    "print(np.random.uniform(10))"
   ]
  },
  {
   "cell_type": "code",
   "execution_count": 33,
   "id": "ecc55f8f-564f-4e41-8371-d0b3c44c7a6b",
   "metadata": {},
   "outputs": [
    {
     "name": "stdout",
     "output_type": "stream",
     "text": [
      "[[1.05993601 4.08262999 5.6489931  9.39999798]\n",
      " [2.52456465 2.23883864 2.96667921 8.38965132]\n",
      " [6.42911427 4.41591318 7.60820307 7.41535982]\n",
      " [5.27030015 8.19576167 2.84063663 4.0874073 ]\n",
      " [8.98576408 9.61212149 3.50719443 6.55134203]]\n"
     ]
    }
   ],
   "source": [
    "print(np.random.uniform(10, size=(5, 4)))"
   ]
  },
  {
   "cell_type": "code",
   "execution_count": 34,
   "id": "db76faf0-3304-419f-9800-6211aceb5c8a",
   "metadata": {},
   "outputs": [
    {
     "name": "stdout",
     "output_type": "stream",
     "text": [
      "[[30 34 11 21]\n",
      " [20 35 12 26]\n",
      " [30 31 25 19]\n",
      " [29 20 34 19]\n",
      " [16 13 26 33]]\n"
     ]
    }
   ],
   "source": [
    "print(np.random.randint(10, 40, size = (5, 4)))"
   ]
  },
  {
   "cell_type": "code",
   "execution_count": null,
   "id": "c2e3fceb-83c3-4418-9b9d-162af645a123",
   "metadata": {
    "scrolled": true
   },
   "outputs": [],
   "source": []
  },
  {
   "cell_type": "markdown",
   "id": "f6de9332-0dc8-4b6a-98f1-c7bcd5e92df8",
   "metadata": {},
   "source": [
    "<h3 style=\"color:springgreen\">NumPy Indexing:)</h3>\n",
    "- The indexes in NumPy arrays start with '0' meaning that the first element has index '0' and the second has index '1' etc....\n"
   ]
  },
  {
   "cell_type": "code",
   "execution_count": 36,
   "id": "17caef79-7de3-40fa-b3c8-777500ee8efa",
   "metadata": {},
   "outputs": [
    {
     "name": "stdout",
     "output_type": "stream",
     "text": [
      "[ 0  3  6  9 12 15 18 21 24 27]\n",
      "9\n",
      "27\n"
     ]
    }
   ],
   "source": [
    "arr = 3*np.arange(10) # because of broadcasting \n",
    "\n",
    "print(arr)\n",
    "print(arr[3])\n",
    "print(arr[-1])"
   ]
  },
  {
   "cell_type": "markdown",
   "id": "69b84a13-2a9f-4eaa-9851-00f2973e36ef",
   "metadata": {},
   "source": [
    "#### Accessing an index:\n",
    "Syntax: arr[row_index, column_index]"
   ]
  },
  {
   "cell_type": "code",
   "execution_count": 38,
   "id": "7be633f6-7fe8-4922-a26e-508eca26e301",
   "metadata": {},
   "outputs": [
    {
     "name": "stdout",
     "output_type": "stream",
     "text": [
      "6\n"
     ]
    }
   ],
   "source": [
    "arr = np.array([[1, 2, 3],[4, 5, 6]])\n",
    "\n",
    "print(arr[1, 2])"
   ]
  },
  {
   "cell_type": "code",
   "execution_count": 39,
   "id": "5c6f16fd-df00-4d33-9f35-dfb1bfc3bb27",
   "metadata": {},
   "outputs": [
    {
     "name": "stdout",
     "output_type": "stream",
     "text": [
      "[[ 1  2  3]\n",
      " [ 4  5 99]]\n"
     ]
    }
   ],
   "source": [
    "arr[1, 2] = 99\n",
    "print(arr)"
   ]
  },
  {
   "cell_type": "code",
   "execution_count": 40,
   "id": "e27c62fb-b04b-4c30-ba3b-04dd664c44e0",
   "metadata": {},
   "outputs": [],
   "source": [
    "# Note: NUMPY arrays are mutable"
   ]
  },
  {
   "cell_type": "markdown",
   "id": "36b759e9-763b-40a0-aaca-90a18f94ddc6",
   "metadata": {},
   "source": [
    "<h3 style=\"color:springgreen\">NumPy Slicing:)</h3>"
   ]
  },
  {
   "cell_type": "markdown",
   "id": "a3695e01-92e5-4355-8213-e40dcf5f882b",
   "metadata": {},
   "source": [
    "- Slicing means taking elements from one given index to another index.\n",
    "- We pass slice instead of index as\n",
    "    - [start : end]\n",
    "- We define the step as [start: end: step]\n",
    "- If we don't pass start it considered as '0' \n",
    "- If we don't pass end it is considered as length of array in that dimension.\n",
    "- If we don't pass step it is considered as '1'.\n",
    "- Syntax: arr[s:e:ss, s:e:ss]\n",
    "    - s-start, e-end, ss- stepsize"
   ]
  },
  {
   "cell_type": "code",
   "execution_count": 43,
   "id": "30cb7508-fe14-4434-9ed2-c97919c8e778",
   "metadata": {},
   "outputs": [
    {
     "name": "stdout",
     "output_type": "stream",
     "text": [
      "[0 2 4 6 8]\n",
      "[1 2 3]\n",
      "[0 1 2 3 4 5]\n"
     ]
    }
   ],
   "source": [
    "arr = np.arange(10)\n",
    "\n",
    "print(arr[::2])\n",
    "print(arr[1:4])\n",
    "print(arr[0:-4])"
   ]
  },
  {
   "cell_type": "code",
   "execution_count": 44,
   "id": "f27a019f-2f10-47bd-966b-b6444baf8a66",
   "metadata": {},
   "outputs": [
    {
     "name": "stdout",
     "output_type": "stream",
     "text": [
      "[[2 3]\n",
      " [6 7]]\n"
     ]
    }
   ],
   "source": [
    "arr = np.array([[1, 2, 3, 4],[5, 6, 7, 8],[9, 10, 11, 12]])\n",
    "\n",
    "# print(arr)\n",
    "print(arr[:2, 1:3])"
   ]
  },
  {
   "cell_type": "code",
   "execution_count": 45,
   "id": "56000e39-eb2c-4727-a3c0-dafadf6ebfa4",
   "metadata": {},
   "outputs": [
    {
     "name": "stdout",
     "output_type": "stream",
     "text": [
      "[[5 6 7 8]]\n"
     ]
    }
   ],
   "source": [
    "print(arr[1:2, :])"
   ]
  },
  {
   "cell_type": "code",
   "execution_count": 46,
   "id": "30242244-3db9-45ee-abf2-df2cdc395e9f",
   "metadata": {},
   "outputs": [
    {
     "name": "stdout",
     "output_type": "stream",
     "text": [
      "[[1 2]\n",
      " [3 4]\n",
      " [5 6]]\n",
      "6\n",
      "[1 4 5]\n"
     ]
    }
   ],
   "source": [
    "arr = np.array([[1, 2], [3, 4], [5, 6]])\n",
    "\n",
    "print(arr)\n",
    "\n",
    "print(arr[2, 1])\n",
    "print(arr[[0, 1, 2],[0, 1, 0]])"
   ]
  },
  {
   "cell_type": "markdown",
   "id": "8d2b6e4e-0e6d-4137-9ae3-c3201566d1e6",
   "metadata": {},
   "source": [
    "#### Numpy Maths:)"
   ]
  },
  {
   "cell_type": "code",
   "execution_count": 48,
   "id": "b2cc57bc-f22a-4f95-8888-58e63fb239e4",
   "metadata": {},
   "outputs": [
    {
     "name": "stdout",
     "output_type": "stream",
     "text": [
      "[[ 6  8]\n",
      " [10 12]]\n",
      "[[-4 -4]\n",
      " [-4 -4]]\n",
      "[[ 5 12]\n",
      " [21 32]]\n",
      "[[0.2        0.33333333]\n",
      " [0.42857143 0.5       ]]\n"
     ]
    }
   ],
   "source": [
    "# Element wise operations:\n",
    "x = np.array([[1, 2], [3, 4]])\n",
    "y = np.array([[5, 6], [7, 8]])\n",
    "\n",
    "print(np.add(x, y))\n",
    "print(np.subtract(x, y))\n",
    "print(np.multiply(x, y))\n",
    "print(np.divide(x, y))"
   ]
  },
  {
   "cell_type": "markdown",
   "id": "f9952eea-ee83-4090-8cd2-c4d3344e01ad",
   "metadata": {},
   "source": [
    "### Matrix Multiplications:"
   ]
  },
  {
   "cell_type": "code",
   "execution_count": 50,
   "id": "2220f588-7f13-4b46-b552-51ee781c7c87",
   "metadata": {},
   "outputs": [],
   "source": [
    "# Syntax: np.matmul or np.dot"
   ]
  },
  {
   "cell_type": "code",
   "execution_count": 51,
   "id": "48f910ec-8909-4df6-b317-3ab7d533a91a",
   "metadata": {},
   "outputs": [
    {
     "name": "stdout",
     "output_type": "stream",
     "text": [
      "[[19 22]\n",
      " [43 50]]\n"
     ]
    }
   ],
   "source": [
    "print(np.matmul(x, y))"
   ]
  },
  {
   "cell_type": "code",
   "execution_count": 52,
   "id": "97db4ac5-3dc2-4b54-bc37-8e9147338319",
   "metadata": {},
   "outputs": [
    {
     "name": "stdout",
     "output_type": "stream",
     "text": [
      "[[19 22]\n",
      " [43 50]]\n"
     ]
    }
   ],
   "source": [
    "print(np.dot(x, y))"
   ]
  },
  {
   "cell_type": "code",
   "execution_count": 53,
   "id": "65908f68-8c00-4b6e-943f-445727589229",
   "metadata": {},
   "outputs": [
    {
     "name": "stdout",
     "output_type": "stream",
     "text": [
      "10\n",
      "[4 6]\n",
      "[3 7]\n"
     ]
    }
   ],
   "source": [
    "x = np.array([[1, 2], [3, 4]])\n",
    "\n",
    "print(np.sum(x))\n",
    "print(np.sum(x, axis = 0))  # column wise\n",
    "print(np.sum(x, axis = 1))  # row wise"
   ]
  },
  {
   "cell_type": "code",
   "execution_count": 54,
   "id": "cc00f1bc-29fc-4932-bbb2-2d296e7e118b",
   "metadata": {},
   "outputs": [
    {
     "name": "stdout",
     "output_type": "stream",
     "text": [
      "[[1 2]\n",
      " [3 4]]\n"
     ]
    }
   ],
   "source": [
    "print(x)"
   ]
  },
  {
   "cell_type": "code",
   "execution_count": 55,
   "id": "c22e1ed5-8a8d-4f19-9ae8-463bcb7ffb2b",
   "metadata": {},
   "outputs": [
    {
     "name": "stdout",
     "output_type": "stream",
     "text": [
      "[[1 3]\n",
      " [2 4]]\n"
     ]
    }
   ],
   "source": [
    "print(x.T)  # transpose"
   ]
  },
  {
   "cell_type": "code",
   "execution_count": 56,
   "id": "bf7dc098-8996-42e5-b38c-ebe3c3d9caf5",
   "metadata": {},
   "outputs": [
    {
     "data": {
      "text/plain": [
       "2.718281828459045"
      ]
     },
     "execution_count": 56,
     "metadata": {},
     "output_type": "execute_result"
    }
   ],
   "source": [
    "np.exp(1)  # e^0 = 1; e^1 = 2.718 => 2. 72;"
   ]
  },
  {
   "cell_type": "code",
   "execution_count": 57,
   "id": "2eabe856-4254-4409-98e4-e23d2d57dba7",
   "metadata": {},
   "outputs": [
    {
     "data": {
      "text/plain": [
       "7.38905609893065"
      ]
     },
     "execution_count": 57,
     "metadata": {},
     "output_type": "execute_result"
    }
   ],
   "source": [
    "np.exp(2)  # e^2 = 2.72^2 => 7.389"
   ]
  },
  {
   "cell_type": "markdown",
   "id": "e62e28e3-fa76-400b-9396-01c173cfd091",
   "metadata": {},
   "source": [
    "<h3 style=\"color:springgreen\">NumPy Statistics:)</h3>"
   ]
  },
  {
   "cell_type": "markdown",
   "id": "9ed393ba-5d66-45f9-9a5a-857cde39b62e",
   "metadata": {},
   "source": [
    "1. Mean -> sum(n)/n\n",
    "2. Median -> odd: (n+1)/2; even: n/2 + n/2 + 1\n",
    "3. Mode -> This is not used\n",
    "4. Standard derivation -> std = sqrt(variance)\n",
    "5. Correlation coefficient "
   ]
  },
  {
   "cell_type": "code",
   "execution_count": 60,
   "id": "0c294606-0cfa-4b09-944a-9d786e35c348",
   "metadata": {},
   "outputs": [
    {
     "name": "stdout",
     "output_type": "stream",
     "text": [
      "168.66666666666666\n",
      "171.0\n",
      "187.55555555555557\n",
      "13.695092389449425\n"
     ]
    }
   ],
   "source": [
    "x = np.array([160, 180, 146, 162, 184, 180])\n",
    "\n",
    "print(np.mean(x))\n",
    "print(np.median(x))\n",
    "print(np.var(x))\n",
    "print(np.std(x))"
   ]
  },
  {
   "cell_type": "code",
   "execution_count": 61,
   "id": "e95526b6-85b1-45fa-81c1-570830a1f50b",
   "metadata": {},
   "outputs": [
    {
     "data": {
      "text/plain": [
       "array([[1.        , 0.88546942],\n",
       "       [0.88546942, 1.        ]])"
      ]
     },
     "execution_count": 61,
     "metadata": {},
     "output_type": "execute_result"
    }
   ],
   "source": [
    "heights = np.array([160, 180, 146, 162, 184, 180])\n",
    "weights = np.array([50, 78, 45, 51, 80, 60])\n",
    "\n",
    "np.corrcoef(heights, weights)"
   ]
  },
  {
   "cell_type": "markdown",
   "id": "5bc8dee2-ecdc-4bc2-a575-7cc4e3912647",
   "metadata": {},
   "source": [
    "<h3 style=\"color:springgreen\">NumPy Reshape:)</h3>"
   ]
  },
  {
   "cell_type": "markdown",
   "id": "501864db-fcdc-4fe6-831a-8b8d62564d9c",
   "metadata": {},
   "source": [
    "- Reshape means changing the shape of an array. \n",
    "- The shape of an array is the number of elements in each dimension.\n",
    "- By reshaping, we can add or remove dimensions or change numbers of elements in each dimension."
   ]
  },
  {
   "cell_type": "code",
   "execution_count": 64,
   "id": "936421a9-86a7-4658-95e6-e51baf10b84e",
   "metadata": {},
   "outputs": [
    {
     "name": "stdout",
     "output_type": "stream",
     "text": [
      "[ 0  5 10 15 20 25 30 35 40 45]\n"
     ]
    }
   ],
   "source": [
    "arr = np.arange(0, 50, 5)\n",
    "\n",
    "print(arr)"
   ]
  },
  {
   "cell_type": "code",
   "execution_count": 65,
   "id": "e25163bd-3686-4fc9-abe4-d1bfbc5868ae",
   "metadata": {},
   "outputs": [
    {
     "name": "stdout",
     "output_type": "stream",
     "text": [
      "[[ 0  5 10 15 20]\n",
      " [25 30 35 40 45]]\n"
     ]
    }
   ],
   "source": [
    "arr2d = arr.reshape(2, 5)\n",
    "\n",
    "print(arr2d)"
   ]
  },
  {
   "cell_type": "code",
   "execution_count": 66,
   "id": "2cb2f232-8e01-4bf3-a97d-163e0b595c43",
   "metadata": {},
   "outputs": [
    {
     "name": "stdout",
     "output_type": "stream",
     "text": [
      "[[ 0  5]\n",
      " [10 15]\n",
      " [20 25]\n",
      " [30 35]\n",
      " [40 45]]\n"
     ]
    }
   ],
   "source": [
    "arr2d = arr.reshape(5, 2)\n",
    "\n",
    "print(arr2d)"
   ]
  },
  {
   "cell_type": "code",
   "execution_count": 67,
   "id": "130b2e0b-fdc5-429e-b168-7db57081de6f",
   "metadata": {},
   "outputs": [],
   "source": [
    "# arr2d = arr.reshape(3, 3)\n",
    "# error -> can't reshape array of size 10 into shape(3, 3)"
   ]
  },
  {
   "cell_type": "code",
   "execution_count": 68,
   "id": "181398f2-3394-4bec-bb33-5ef754e85b36",
   "metadata": {},
   "outputs": [
    {
     "name": "stdout",
     "output_type": "stream",
     "text": [
      "(45,)\n"
     ]
    }
   ],
   "source": [
    "arr = np.arange(5, 50)\n",
    "\n",
    "print(arr.shape)"
   ]
  },
  {
   "cell_type": "code",
   "execution_count": 69,
   "id": "3f2e16a4-91e0-4b03-a909-b6011e3d3893",
   "metadata": {},
   "outputs": [
    {
     "name": "stdout",
     "output_type": "stream",
     "text": [
      "[[ 5  6  7  8  9 10 11 12 13]\n",
      " [14 15 16 17 18 19 20 21 22]\n",
      " [23 24 25 26 27 28 29 30 31]\n",
      " [32 33 34 35 36 37 38 39 40]\n",
      " [41 42 43 44 45 46 47 48 49]]\n"
     ]
    }
   ],
   "source": [
    "print(arr.reshape(5, 9))"
   ]
  },
  {
   "cell_type": "code",
   "execution_count": 70,
   "id": "c19205e2-0703-4b26-af57-9715df5eae10",
   "metadata": {},
   "outputs": [
    {
     "name": "stdout",
     "output_type": "stream",
     "text": [
      "[[[ 5  6  7  8  9]\n",
      "  [10 11 12 13 14]\n",
      "  [15 16 17 18 19]]\n",
      "\n",
      " [[20 21 22 23 24]\n",
      "  [25 26 27 28 29]\n",
      "  [30 31 32 33 34]]\n",
      "\n",
      " [[35 36 37 38 39]\n",
      "  [40 41 42 43 44]\n",
      "  [45 46 47 48 49]]]\n"
     ]
    }
   ],
   "source": [
    "print(arr.reshape(3, 3, 5))"
   ]
  },
  {
   "cell_type": "markdown",
   "id": "f7d588f7-7615-4d0e-a4d5-b9827eb8318e",
   "metadata": {},
   "source": [
    "<h3 style=\"color:springgreen\">Flatten:)</h3>"
   ]
  },
  {
   "cell_type": "markdown",
   "id": "5983eb48-fc4b-41bb-8ca6-c0240b73340c",
   "metadata": {},
   "source": [
    "**This function return a copy of the array collapsed in one dimension.**\n",
    "- If you modify the value of this array we can notice that the value of original array is not affected.\n",
    "- Flatten() is comparatively slower than ravel() as it occupies memory.\n",
    "- Flatten is a method of an ndarray object."
   ]
  },
  {
   "cell_type": "code",
   "execution_count": 73,
   "id": "9ad93c93-7be1-4e7e-8988-98bf508f8c4e",
   "metadata": {},
   "outputs": [
    {
     "name": "stdout",
     "output_type": "stream",
     "text": [
      "[ 5  6  7  8  9 10 11 12 13 14 15 16 17 18 19 20 21 22 23 24 25 26 27 28\n",
      " 29 30 31 32 33 34 35 36 37 38 39 40 41 42 43 44 45 46 47 48 49]\n"
     ]
    }
   ],
   "source": [
    "print(arr.flatten())"
   ]
  },
  {
   "cell_type": "markdown",
   "id": "5d81c9ae-76b3-4aa8-8749-b4bff5193368",
   "metadata": {},
   "source": [
    "<h3 style=\"color:springgreen\">Linspace:)</h3>"
   ]
  },
  {
   "cell_type": "markdown",
   "id": "ce8f2d26-cce7-40b6-abea-fef50ed4e705",
   "metadata": {},
   "source": [
    "- The linspace() funciton returns evenly spaced numbers over a specified interval [start : end]. The endpoint of the interval can optionally be excluded.\n",
    "- Syntax: np.linspace(start, end, # of elements)"
   ]
  },
  {
   "cell_type": "code",
   "execution_count": 76,
   "id": "72c357ce-f56c-4a79-9c82-eaf32e69c994",
   "metadata": {},
   "outputs": [
    {
     "name": "stdout",
     "output_type": "stream",
     "text": [
      "[ 1.          1.18367347  1.36734694  1.55102041  1.73469388  1.91836735\n",
      "  2.10204082  2.28571429  2.46938776  2.65306122  2.83673469  3.02040816\n",
      "  3.20408163  3.3877551   3.57142857  3.75510204  3.93877551  4.12244898\n",
      "  4.30612245  4.48979592  4.67346939  4.85714286  5.04081633  5.2244898\n",
      "  5.40816327  5.59183673  5.7755102   5.95918367  6.14285714  6.32653061\n",
      "  6.51020408  6.69387755  6.87755102  7.06122449  7.24489796  7.42857143\n",
      "  7.6122449   7.79591837  7.97959184  8.16326531  8.34693878  8.53061224\n",
      "  8.71428571  8.89795918  9.08163265  9.26530612  9.44897959  9.63265306\n",
      "  9.81632653 10.        ]\n"
     ]
    }
   ],
   "source": [
    "print(np.linspace(1, 10))  # by default returns 50 elements"
   ]
  },
  {
   "cell_type": "code",
   "execution_count": 77,
   "id": "f1889a55-87a6-452e-8aa6-6d0b76d79266",
   "metadata": {},
   "outputs": [
    {
     "name": "stdout",
     "output_type": "stream",
     "text": [
      "[10.  10.6 11.2 11.8 12.4 13. ]\n"
     ]
    }
   ],
   "source": [
    "print(np.linspace(10, 13, 6))"
   ]
  },
  {
   "cell_type": "markdown",
   "id": "6f867969-7403-4e19-8a5a-0796fe4b2abb",
   "metadata": {},
   "source": [
    "<h3 style=\"color:springgreen\">Sorting:)</h3>"
   ]
  },
  {
   "cell_type": "markdown",
   "id": "39f3049e-5d09-42bb-a6d2-46ad6d31c045",
   "metadata": {},
   "source": [
    "**This function returns a sorted copy of an array**"
   ]
  },
  {
   "cell_type": "code",
   "execution_count": 80,
   "id": "05680474-4e65-43f5-9c0e-b65dbbc4c012",
   "metadata": {},
   "outputs": [
    {
     "name": "stdout",
     "output_type": "stream",
     "text": [
      "[[75 50 79 83 58 80 94 71 76 94]\n",
      " [99 71 67 57 63 70 80 82 50 72]\n",
      " [87 93 86 68 97 67 62 86 78 67]\n",
      " [59 94 78 90 64 59 87 54 52 71]\n",
      " [64 92 69 87 51 53 70 82 72 90]]\n"
     ]
    }
   ],
   "source": [
    "arr = np.random.randint(50, 100, size = (5, 10))\n",
    "\n",
    "print(arr)"
   ]
  },
  {
   "cell_type": "code",
   "execution_count": 81,
   "id": "1d971ef0-540a-421e-8181-0bab80efebe7",
   "metadata": {},
   "outputs": [
    {
     "data": {
      "text/plain": [
       "array([[59, 50, 67, 57, 51, 53, 62, 54, 50, 67],\n",
       "       [64, 71, 69, 68, 58, 59, 70, 71, 52, 71],\n",
       "       [75, 92, 78, 83, 63, 67, 80, 82, 72, 72],\n",
       "       [87, 93, 79, 87, 64, 70, 87, 82, 76, 90],\n",
       "       [99, 94, 86, 90, 97, 80, 94, 86, 78, 94]])"
      ]
     },
     "execution_count": 81,
     "metadata": {},
     "output_type": "execute_result"
    }
   ],
   "source": [
    "np.sort(arr, axis = 0) # column wise sorting"
   ]
  },
  {
   "cell_type": "code",
   "execution_count": 82,
   "id": "298be6b8-88da-4809-848f-935a21e4e997",
   "metadata": {},
   "outputs": [
    {
     "data": {
      "text/plain": [
       "array([[50, 58, 71, 75, 76, 79, 80, 83, 94, 94],\n",
       "       [50, 57, 63, 67, 70, 71, 72, 80, 82, 99],\n",
       "       [62, 67, 67, 68, 78, 86, 86, 87, 93, 97],\n",
       "       [52, 54, 59, 59, 64, 71, 78, 87, 90, 94],\n",
       "       [51, 53, 64, 69, 70, 72, 82, 87, 90, 92]])"
      ]
     },
     "execution_count": 82,
     "metadata": {},
     "output_type": "execute_result"
    }
   ],
   "source": [
    "np.sort(arr, axis = 1) # row wise sorting"
   ]
  },
  {
   "cell_type": "markdown",
   "id": "250bf1e0-d670-43cb-9a00-3d965214f44f",
   "metadata": {},
   "source": [
    "<h3 style=\"color:springgreen\">Stacking:)</h3>"
   ]
  },
  {
   "cell_type": "markdown",
   "id": "f3e32b91-a931-4b74-b1f0-ea4c1318b3b6",
   "metadata": {},
   "source": [
    "**This function is used to join  a sequence of same dimension arrays along a new axis.**\n",
    "- The axis parameters specifies the index of the new axis in the dimesions of the result.\n",
    "- for example:\n",
    "    - If axis = 0; it will be the first dimension and \n",
    "    - if axis = -1 it will be the last dimension.\n",
    "- Syntax; numpy.stack(arrays, axis)"
   ]
  },
  {
   "cell_type": "code",
   "execution_count": 85,
   "id": "0beca510-25b5-46d7-b3fc-5d0b720feb23",
   "metadata": {},
   "outputs": [
    {
     "name": "stdout",
     "output_type": "stream",
     "text": [
      "[[ 5  6  7  8  9]\n",
      " [10 11 12 13 14]]\n"
     ]
    }
   ],
   "source": [
    "arr1 = np.arange(5, 15).reshape(2, 5)\n",
    "\n",
    "print(arr1)"
   ]
  },
  {
   "cell_type": "code",
   "execution_count": 86,
   "id": "2a29bb77-1580-45b9-a9fe-3467573135ac",
   "metadata": {},
   "outputs": [
    {
     "name": "stdout",
     "output_type": "stream",
     "text": [
      "[[25 26 27 28 29]\n",
      " [30 31 32 33 34]]\n"
     ]
    }
   ],
   "source": [
    "arr2 = np.arange(25, 35).reshape(2, 5)\n",
    "\n",
    "print(arr2)"
   ]
  },
  {
   "cell_type": "code",
   "execution_count": 87,
   "id": "7d7a0372-1a50-4e90-86a2-c3a042e8da70",
   "metadata": {},
   "outputs": [
    {
     "data": {
      "text/plain": [
       "array([[ 5,  6,  7,  8,  9],\n",
       "       [10, 11, 12, 13, 14],\n",
       "       [25, 26, 27, 28, 29],\n",
       "       [30, 31, 32, 33, 34]])"
      ]
     },
     "execution_count": 87,
     "metadata": {},
     "output_type": "execute_result"
    }
   ],
   "source": [
    "np.vstack([arr1, arr2])  # vertical stacking"
   ]
  },
  {
   "cell_type": "code",
   "execution_count": 88,
   "id": "bd62570a-d05d-4c6b-9294-3dcd14b201ef",
   "metadata": {},
   "outputs": [
    {
     "data": {
      "text/plain": [
       "array([[ 5,  6,  7,  8,  9, 25, 26, 27, 28, 29],\n",
       "       [10, 11, 12, 13, 14, 30, 31, 32, 33, 34]])"
      ]
     },
     "execution_count": 88,
     "metadata": {},
     "output_type": "execute_result"
    }
   ],
   "source": [
    "np.hstack([arr1, arr2])"
   ]
  },
  {
   "cell_type": "markdown",
   "id": "1378c389-47a4-4574-9659-e5978282950b",
   "metadata": {},
   "source": [
    "<h3 style=\"color:springgreen\">Concatenate:)</h3>"
   ]
  },
  {
   "cell_type": "markdown",
   "id": "2422843b-ae6d-40a7-9be7-e646102f42ce",
   "metadata": {},
   "source": [
    "**This functions concatenate a sequence of arrays along an existing axis.**"
   ]
  },
  {
   "cell_type": "code",
   "execution_count": 91,
   "id": "a728c152-bb10-4077-87da-5903c549a848",
   "metadata": {},
   "outputs": [
    {
     "data": {
      "text/plain": [
       "array([[ 5,  6,  7,  8,  9],\n",
       "       [10, 11, 12, 13, 14],\n",
       "       [25, 26, 27, 28, 29],\n",
       "       [30, 31, 32, 33, 34]])"
      ]
     },
     "execution_count": 91,
     "metadata": {},
     "output_type": "execute_result"
    }
   ],
   "source": [
    "np.concatenate([arr1, arr2], axis = 0)"
   ]
  },
  {
   "cell_type": "code",
   "execution_count": 92,
   "id": "9b831b81-e424-48d2-acbd-4531fb5e7309",
   "metadata": {},
   "outputs": [
    {
     "data": {
      "text/plain": [
       "array([[ 5,  6,  7,  8,  9, 25, 26, 27, 28, 29],\n",
       "       [10, 11, 12, 13, 14, 30, 31, 32, 33, 34]])"
      ]
     },
     "execution_count": 92,
     "metadata": {},
     "output_type": "execute_result"
    }
   ],
   "source": [
    "np.concatenate([arr1, arr2], axis = 1)"
   ]
  },
  {
   "cell_type": "markdown",
   "id": "81cb226c-c7b3-4261-9f09-f06adc995cb0",
   "metadata": {},
   "source": [
    "<h3 style=\"color:springgreen\">Append:)</h3>"
   ]
  },
  {
   "cell_type": "markdown",
   "id": "2395dc21-ffd1-4046-a512-7fac8117b62c",
   "metadata": {},
   "source": [
    "**This appends values along the mentioned axis at the end of the array**"
   ]
  },
  {
   "cell_type": "code",
   "execution_count": 95,
   "id": "d5e66544-3f2d-4d0e-bcf4-2010e7adcf43",
   "metadata": {},
   "outputs": [
    {
     "data": {
      "text/plain": [
       "array([[ 5,  6,  7,  8,  9, 25, 26, 27, 28, 29],\n",
       "       [10, 11, 12, 13, 14, 30, 31, 32, 33, 34]])"
      ]
     },
     "execution_count": 95,
     "metadata": {},
     "output_type": "execute_result"
    }
   ],
   "source": [
    "np.append(arr1, arr2, axis=1)"
   ]
  },
  {
   "cell_type": "code",
   "execution_count": 96,
   "id": "54ced342-adfd-4cf4-aba6-42c67c627038",
   "metadata": {},
   "outputs": [
    {
     "data": {
      "text/plain": [
       "array([[ 5,  6,  7,  8,  9],\n",
       "       [10, 11, 12, 13, 14],\n",
       "       [25, 26, 27, 28, 29],\n",
       "       [30, 31, 32, 33, 34]])"
      ]
     },
     "execution_count": 96,
     "metadata": {},
     "output_type": "execute_result"
    }
   ],
   "source": [
    "np.append(arr1, arr2, axis=0)"
   ]
  },
  {
   "cell_type": "markdown",
   "id": "3059df92-17c3-46ec-b276-64459c8b4734",
   "metadata": {},
   "source": [
    "<h3 style=\"color:springgreen\">Where:)</h3>"
   ]
  },
  {
   "cell_type": "markdown",
   "id": "abae6fa8-4a79-4e8a-be03-0c97a688dce4",
   "metadata": {},
   "source": [
    "**This funcions returns the indices of elements in an input array where the given condition is satisfied.**"
   ]
  },
  {
   "cell_type": "code",
   "execution_count": 99,
   "id": "392bec36-fa39-4cf0-84f3-c44d7d33a106",
   "metadata": {},
   "outputs": [
    {
     "name": "stdout",
     "output_type": "stream",
     "text": [
      "[[50 51 52 53 54 55 56 57 58 59]\n",
      " [60 61 62 63 64 65 66 67 68 69]\n",
      " [70 71 72 73 74 75 76 77 78 79]\n",
      " [80 81 82 83 84 85 86 87 88 89]\n",
      " [90 91 92 93 94 95 96 97 98 99]]\n"
     ]
    }
   ],
   "source": [
    "arr = np.arange(50, 100).reshape(5, 10)\n",
    "\n",
    "print(arr)"
   ]
  },
  {
   "cell_type": "code",
   "execution_count": 100,
   "id": "d37e5d79-ab4d-4248-8753-a6a6a0d03c6b",
   "metadata": {},
   "outputs": [
    {
     "data": {
      "text/plain": [
       "array([[50, 51, 52, 53, 54, 55, 56, 57, 58, 59],\n",
       "       [60, 61, 62, 63, 64,  0,  0,  0,  0,  0],\n",
       "       [ 0,  0,  0,  0,  0,  0,  0,  0,  0,  0],\n",
       "       [ 0,  0,  0,  0,  0,  0,  0,  0,  0,  0],\n",
       "       [ 0,  0,  0,  0,  0,  0,  0,  0,  0,  0]])"
      ]
     },
     "execution_count": 100,
     "metadata": {},
     "output_type": "execute_result"
    }
   ],
   "source": [
    "# condition : array_like, bool\n",
    "# Where True, yield `x`, otherwise yield `y`.\n",
    "\n",
    "np.where(arr>64, 0, arr)"
   ]
  },
  {
   "cell_type": "code",
   "execution_count": 101,
   "id": "14d8d703-ab7b-4484-8b8d-844ce9c1b9db",
   "metadata": {},
   "outputs": [
    {
     "data": {
      "text/plain": [
       "array([[50. , 51. , 52. , 53. , 54. , 55. , 56. , 57. , 58. , 59. ],\n",
       "       [60. , 61. , 62. , 63. , 64. ,  6.5,  6.6,  6.7,  6.8,  6.9],\n",
       "       [ 7. ,  7.1,  7.2,  7.3,  7.4,  7.5,  7.6,  7.7,  7.8,  7.9],\n",
       "       [ 8. ,  8.1,  8.2,  8.3,  8.4,  8.5,  8.6,  8.7,  8.8,  8.9],\n",
       "       [ 9. ,  9.1,  9.2,  9.3,  9.4,  9.5,  9.6,  9.7,  9.8,  9.9]])"
      ]
     },
     "execution_count": 101,
     "metadata": {},
     "output_type": "execute_result"
    }
   ],
   "source": [
    "np.where(arr>64, arr/10, arr)"
   ]
  },
  {
   "cell_type": "code",
   "execution_count": 102,
   "id": "01986521-992f-40b6-9fb8-ede45ef6e7f9",
   "metadata": {},
   "outputs": [
    {
     "name": "stdout",
     "output_type": "stream",
     "text": [
      "[[1 2]\n",
      " [3 4]]\n",
      "[[1]\n",
      " [2]]\n"
     ]
    }
   ],
   "source": [
    "arr1 = np.array([[1, 2],[3, 4]])\n",
    "arr2 = np.array([[1], [2]])\n",
    "\n",
    "print(arr1)\n",
    "print(arr2)"
   ]
  },
  {
   "cell_type": "code",
   "execution_count": 103,
   "id": "70e51bfa-946a-4499-b745-fe263492ed21",
   "metadata": {},
   "outputs": [
    {
     "name": "stdout",
     "output_type": "stream",
     "text": [
      "[[2 3]\n",
      " [5 6]]\n"
     ]
    }
   ],
   "source": [
    "print(arr1 + arr2)"
   ]
  },
  {
   "cell_type": "code",
   "execution_count": 104,
   "id": "07cf749c-01aa-46d2-9dc3-aeb472ba3a30",
   "metadata": {},
   "outputs": [
    {
     "name": "stdout",
     "output_type": "stream",
     "text": [
      "[1 2]\n"
     ]
    }
   ],
   "source": [
    "arr3 = np.array([1, 2])\n",
    "\n",
    "print(arr3)"
   ]
  },
  {
   "cell_type": "code",
   "execution_count": 105,
   "id": "b58270e4-544f-48d8-91ed-f83b19ce810a",
   "metadata": {},
   "outputs": [
    {
     "name": "stdout",
     "output_type": "stream",
     "text": [
      "[[2 4]\n",
      " [4 6]]\n"
     ]
    }
   ],
   "source": [
    "print(arr1 + arr3)"
   ]
  },
  {
   "cell_type": "code",
   "execution_count": 106,
   "id": "253a4f9a-1417-4d82-a157-0e58617a42c8",
   "metadata": {},
   "outputs": [
    {
     "name": "stdout",
     "output_type": "stream",
     "text": [
      "[[1 2 3]\n",
      " [4 5 6]]\n"
     ]
    }
   ],
   "source": [
    "arr4 = np.array([[1, 2, 3], [4, 5, 6]])\n",
    "\n",
    "print(arr4)"
   ]
  },
  {
   "cell_type": "code",
   "execution_count": 107,
   "id": "b8cc9418-3e68-49cd-ad22-78b64bce1a4c",
   "metadata": {},
   "outputs": [
    {
     "ename": "SyntaxError",
     "evalue": "invalid syntax (1658409226.py, line 3)",
     "output_type": "error",
     "traceback": [
      "\u001b[1;36m  Cell \u001b[1;32mIn[107], line 3\u001b[1;36m\u001b[0m\n\u001b[1;33m    Error -> operands could not be\u001b[0m\n\u001b[1;37m          ^\u001b[0m\n\u001b[1;31mSyntaxError\u001b[0m\u001b[1;31m:\u001b[0m invalid syntax\n"
     ]
    }
   ],
   "source": [
    "print(arr4 + arr3)\n",
    "\n",
    "Error -> operands could not be "
   ]
  },
  {
   "cell_type": "code",
   "execution_count": null,
   "id": "0a0eb537-868f-416d-9c1b-182e9981b1d5",
   "metadata": {},
   "outputs": [],
   "source": []
  }
 ],
 "metadata": {
  "kernelspec": {
   "display_name": "Python 3 (ipykernel)",
   "language": "python",
   "name": "python3"
  },
  "language_info": {
   "codemirror_mode": {
    "name": "ipython",
    "version": 3
   },
   "file_extension": ".py",
   "mimetype": "text/x-python",
   "name": "python",
   "nbconvert_exporter": "python",
   "pygments_lexer": "ipython3",
   "version": "3.12.4"
  }
 },
 "nbformat": 4,
 "nbformat_minor": 5
}
